{
 "cells": [
  {
   "cell_type": "markdown",
   "metadata": {},
   "source": [
    "## 单层神经网络"
   ]
  },
  {
   "cell_type": "markdown",
   "metadata": {},
   "source": [
    "### 回归神经网络：线性回归"
   ]
  },
  {
   "cell_type": "code",
   "execution_count": 1,
   "metadata": {},
   "outputs": [],
   "source": [
    "import numpy as np"
   ]
  },
  {
   "cell_type": "code",
   "execution_count": 2,
   "metadata": {},
   "outputs": [],
   "source": [
    "X = np.array([[0, 0], [1, 0], [0, 1], [1, 1]])\n",
    "z_reg = np.array([-0.2, -0.05, -0.05, 0.1])"
   ]
  },
  {
   "cell_type": "code",
   "execution_count": 3,
   "metadata": {},
   "outputs": [
    {
     "data": {
      "text/plain": [
       "array([[0, 0],\n",
       "       [1, 0],\n",
       "       [0, 1],\n",
       "       [1, 1]])"
      ]
     },
     "execution_count": 3,
     "metadata": {},
     "output_type": "execute_result"
    }
   ],
   "source": [
    "X"
   ]
  },
  {
   "cell_type": "code",
   "execution_count": 4,
   "metadata": {},
   "outputs": [
    {
     "data": {
      "text/plain": [
       "(4, 2)"
      ]
     },
     "execution_count": 4,
     "metadata": {},
     "output_type": "execute_result"
    }
   ],
   "source": [
    "X.shape"
   ]
  },
  {
   "cell_type": "code",
   "execution_count": 5,
   "metadata": {},
   "outputs": [
    {
     "data": {
      "text/plain": [
       "array([-0.2 , -0.05, -0.05,  0.1 ])"
      ]
     },
     "execution_count": 5,
     "metadata": {},
     "output_type": "execute_result"
    }
   ],
   "source": [
    "z_reg"
   ]
  },
  {
   "cell_type": "code",
   "execution_count": 6,
   "metadata": {},
   "outputs": [],
   "source": [
    "# 定义实现简单线性回归的函数\n",
    "def LinearR(x1, x2):\n",
    "    w1, w2, b = 0.15, 0.15, -0.2  # 给定一组系数w和b\n",
    "    z = x1*w1 + x2*w2 + b  # z是系数*特征后加和的结果\n",
    "    return z"
   ]
  },
  {
   "cell_type": "code",
   "execution_count": 7,
   "metadata": {},
   "outputs": [
    {
     "data": {
      "text/plain": [
       "array([-0.2 , -0.05, -0.05,  0.1 ])"
      ]
     },
     "execution_count": 7,
     "metadata": {},
     "output_type": "execute_result"
    }
   ],
   "source": [
    "LinearR(X[:, 0], X[:, 1])"
   ]
  },
  {
   "cell_type": "markdown",
   "metadata": {},
   "source": [
    "### 二分类单层神经网络：sigmoid与阶跃函数"
   ]
  },
  {
   "cell_type": "code",
   "execution_count": 8,
   "metadata": {},
   "outputs": [],
   "source": [
    "# 重新定义数据中的标签\n",
    "y_and = [0, 0, 0, 1]"
   ]
  },
  {
   "cell_type": "code",
   "execution_count": 9,
   "metadata": {},
   "outputs": [],
   "source": [
    "# 根据sigmoid公式定义sigmoid函数\n",
    "def sigmoid(z):\n",
    "    return 1/(1 + np.exp(-z))"
   ]
  },
  {
   "cell_type": "code",
   "execution_count": 10,
   "metadata": {},
   "outputs": [],
   "source": [
    "def AND_sigmoid(x1, x2):\n",
    "    w1, w2, b = 0.15, 0.15, -0.2  # 给定的系数w和b不变\n",
    "    z = x1*w1 + x2*w2 + b\n",
    "    o = sigmoid(z)  # 使用sigmoid函数将回归结果转换到(0,1)之间\n",
    "    y = (o >= 0.5).astype(int)\n",
    "#     y = [int(x) for x in o >= 0.5] #根据阈值0.5，将(0,1)之间的概率转变为分类0和1\n",
    "    return o, y"
   ]
  },
  {
   "cell_type": "code",
   "execution_count": 11,
   "metadata": {},
   "outputs": [],
   "source": [
    "# o:sigmoid函数返回的概率结果\n",
    "# y:对概率结果按阈值进行划分后，形成的0和1，也就是分类标签\n",
    "o, y_sigm = AND_sigmoid(X[:, 0], X[:, 1])"
   ]
  },
  {
   "cell_type": "code",
   "execution_count": 12,
   "metadata": {},
   "outputs": [
    {
     "data": {
      "text/plain": [
       "array([0.450166  , 0.4875026 , 0.4875026 , 0.52497919])"
      ]
     },
     "execution_count": 12,
     "metadata": {},
     "output_type": "execute_result"
    }
   ],
   "source": [
    "o"
   ]
  },
  {
   "cell_type": "code",
   "execution_count": 13,
   "metadata": {},
   "outputs": [
    {
     "data": {
      "text/plain": [
       "array([0, 0, 0, 1])"
      ]
     },
     "execution_count": 13,
     "metadata": {},
     "output_type": "execute_result"
    }
   ],
   "source": [
    "y_sigm"
   ]
  },
  {
   "cell_type": "code",
   "execution_count": 14,
   "metadata": {},
   "outputs": [],
   "source": [
    "y_sigm == y_and"
   ]
  },
  {
   "cell_type": "code",
   "execution_count": null,
   "metadata": {},
   "outputs": [],
   "source": [
    "y_sigm == y_and"
   ]
  },
  {
   "cell_type": "code",
   "execution_count": 15,
   "metadata": {},
   "outputs": [
    {
     "data": {
      "text/plain": [
       "array([ True,  True,  True,  True])"
      ]
     },
     "execution_count": 15,
     "metadata": {},
     "output_type": "execute_result"
    }
   ],
   "source": [
    "y_sigm == y_and"
   ]
  },
  {
   "cell_type": "code",
   "execution_count": 16,
   "metadata": {},
   "outputs": [
    {
     "data": {
      "text/plain": [
       "array([ True,  True,  True,  True])"
      ]
     },
     "execution_count": 16,
     "metadata": {},
     "output_type": "execute_result"
    }
   ],
   "source": [
    "y_sigm == y_and"
   ]
  },
  {
   "cell_type": "code",
   "execution_count": 17,
   "metadata": {},
   "outputs": [],
   "source": [
    "# 阶跃函数\n",
    "def AND(x1, x2):\n",
    "    w1, w2, b = 0.15, 0.15, -0.23  # 和sigmoid相似的w和b\n",
    "    z = x1*w1 + x2*w2 + b\n",
    "    y = (z >= 0).astype(int)\n",
    "#     y = [int(x) for x in z >= 0]\n",
    "    return y"
   ]
  },
  {
   "cell_type": "code",
   "execution_count": 18,
   "metadata": {},
   "outputs": [
    {
     "data": {
      "text/plain": [
       "array([0, 0, 0, 1])"
      ]
     },
     "execution_count": 18,
     "metadata": {},
     "output_type": "execute_result"
    }
   ],
   "source": [
    "AND(X[:, 0], X[:, 1])"
   ]
  },
  {
   "cell_type": "markdown",
   "metadata": {},
   "source": [
    "### 多分类单层神经网络：softmax回归"
   ]
  },
  {
   "cell_type": "code",
   "execution_count": 19,
   "metadata": {},
   "outputs": [
    {
     "name": "stderr",
     "output_type": "stream",
     "text": [
      "<ipython-input-19-d09822f2937e>:2: RuntimeWarning: overflow encountered in exp\n",
      "  np.exp(z) / np.sum(np.exp(z))   # softmax函数的运算\n",
      "<ipython-input-19-d09822f2937e>:2: RuntimeWarning: invalid value encountered in true_divide\n",
      "  np.exp(z) / np.sum(np.exp(z))   # softmax函数的运算\n"
     ]
    },
    {
     "data": {
      "text/plain": [
       "array([nan, nan, nan])"
      ]
     },
     "execution_count": 19,
     "metadata": {},
     "output_type": "execute_result"
    }
   ],
   "source": [
    "z = np.array([1010, 1000, 990])\n",
    "np.exp(z) / np.sum(np.exp(z))   # softmax函数的运算"
   ]
  },
  {
   "cell_type": "code",
   "execution_count": 20,
   "metadata": {},
   "outputs": [],
   "source": [
    "# 定义softmax函数\n",
    "def softmax(z):\n",
    "    c = np.max(z)\n",
    "    exp_z = np.exp(z - c)  # 溢出对策\n",
    "    sum_exp_z = np.sum(exp_z)\n",
    "    o = exp_z / sum_exp_z\n",
    "    return o"
   ]
  },
  {
   "cell_type": "code",
   "execution_count": 21,
   "metadata": {},
   "outputs": [
    {
     "data": {
      "text/plain": [
       "array([9.99954600e-01, 4.53978686e-05, 2.06106005e-09])"
      ]
     },
     "execution_count": 21,
     "metadata": {},
     "output_type": "execute_result"
    }
   ],
   "source": [
    "softmax(z)"
   ]
  },
  {
   "cell_type": "code",
   "execution_count": 22,
   "metadata": {},
   "outputs": [
    {
     "data": {
      "text/plain": [
       "1.0"
      ]
     },
     "execution_count": 22,
     "metadata": {},
     "output_type": "execute_result"
    }
   ],
   "source": [
    "sum(softmax(z))"
   ]
  },
  {
   "cell_type": "markdown",
   "metadata": {},
   "source": [
    "## 多层神经网络"
   ]
  },
  {
   "cell_type": "markdown",
   "metadata": {},
   "source": [
    "### 异或门问题"
   ]
  },
  {
   "cell_type": "code",
   "execution_count": 23,
   "metadata": {},
   "outputs": [],
   "source": [
    "import matplotlib.pyplot as plt\n",
    "import seaborn as sns"
   ]
  },
  {
   "cell_type": "markdown",
   "metadata": {},
   "source": [
    "#### 与门图像"
   ]
  },
  {
   "cell_type": "code",
   "execution_count": 27,
   "metadata": {
    "scrolled": false
   },
   "outputs": [
    {
     "data": {
      "image/png": "[encoded data removed]",
      "text/plain": [
       "<Figure size 360x216 with 1 Axes>"
      ]
     },
     "metadata": {},
     "output_type": "display_data"
    }
   ],
   "source": [
    "plt.style.use('seaborn-whitegrid')  # 设置图像的风格\n",
    "sns.set_style(\"white\")\n",
    "plt.figure(figsize=(5, 3))  # 设置画布大小\n",
    "plt.title(\"AND GATE\", fontsize=16)  # 设置图像标题\n",
    "plt.scatter(X[:, 0], X[:, 1], c=y_and, cmap=\"rainbow\")  # 绘制散点图\n",
    "x = np.arange(-1, 3, 0.5)\n",
    "plt.plot(x, (0.23-0.15*x)/0.15,  # 这里是从直线的表达式变型出的x2 = 的式子\n",
    "         color=\"k\", linestyle=\"--\")\n",
    "plt.xlim(-1, 3)  # 设置横纵坐标尺寸 plt.ylim(-1,3)\n",
    "plt.grid(alpha=.4, axis=\"y\")  # 显示背景中的网格\n",
    "plt.gca().spines[\"top\"].set_alpha(.0)  # 让上方和右侧的坐标轴被隐藏\n",
    "plt.gca().spines[\"right\"].set_alpha(.0)"
   ]
  },
  {
   "cell_type": "markdown",
   "metadata": {},
   "source": [
    "#### 或门、或门的图像"
   ]
  },
  {
   "cell_type": "code",
   "execution_count": 28,
   "metadata": {},
   "outputs": [],
   "source": [
    "# 或门、或门的图像\n",
    "y_or = [0, 1, 1, 1]\n",
    "\n",
    "\n",
    "def OR(x1, x2):\n",
    "    w1, w2, b = 0.15, 0.15, -0.08  # 为了拟合不同的标签，重新定义一组w和b\n",
    "    z = x1*w1 + x2*w2 + b\n",
    "    y = (z >= 0).astype(int)\n",
    "    return y"
   ]
  },
  {
   "cell_type": "code",
   "execution_count": 29,
   "metadata": {},
   "outputs": [
    {
     "data": {
      "text/plain": [
       "array([0, 1, 1, 1])"
      ]
     },
     "execution_count": 29,
     "metadata": {},
     "output_type": "execute_result"
    }
   ],
   "source": [
    "OR(X[:, 0], X[:, 1])"
   ]
  },
  {
   "cell_type": "code",
   "execution_count": 30,
   "metadata": {},
   "outputs": [
    {
     "data": {
      "image/png": "[encoded data removed]",
      "text/plain": [
       "<Figure size 360x216 with 1 Axes>"
      ]
     },
     "metadata": {},
     "output_type": "display_data"
    }
   ],
   "source": [
    "# 绘制直线划分散点的图像\n",
    "x = np.arange(-1, 3, 0.5)\n",
    "plt.figure(figsize=(5, 3))\n",
    "plt.title(\"OR GATE\", fontsize=16)\n",
    "plt.scatter(X[:, 0], X[:, 1], c=y_or, cmap=\"rainbow\")\n",
    "plt.plot(x, (0.08-0.15*x)/0.15, color=\"k\", linestyle=\"--\")\n",
    "plt.xlim(-1, 3)\n",
    "plt.ylim(-1, 3)\n",
    "plt.grid(alpha=.4, axis=\"y\")\n",
    "plt.gca().spines[\"top\"].set_alpha(.0)\n",
    "plt.gca().spines[\"right\"].set_alpha(.0)"
   ]
  },
  {
   "cell_type": "markdown",
   "metadata": {},
   "source": [
    "#### 非与门、非与门的图像"
   ]
  },
  {
   "cell_type": "code",
   "execution_count": 31,
   "metadata": {},
   "outputs": [],
   "source": [
    "y_nand = [1, 1, 1, 0]\n",
    "\n",
    "\n",
    "def NAND(x1, x2):\n",
    "    w1, w2, b = -0.15, -0.15, 0.23  # 同样为了拟合不同的标签，重新定义一组 w和b\n",
    "    z = x1*w1 + x2*w2 + b\n",
    "    y = [int(x) for x in z >= 0]\n",
    "    return y"
   ]
  },
  {
   "cell_type": "code",
   "execution_count": 32,
   "metadata": {},
   "outputs": [
    {
     "data": {
      "text/plain": [
       "[1, 1, 1, 0]"
      ]
     },
     "execution_count": 32,
     "metadata": {},
     "output_type": "execute_result"
    }
   ],
   "source": [
    "NAND(X[:, 0], X[:, 1])"
   ]
  },
  {
   "cell_type": "code",
   "execution_count": 33,
   "metadata": {},
   "outputs": [
    {
     "data": {
      "image/png": "[encoded data removed]",
      "text/plain": [
       "<Figure size 360x216 with 1 Axes>"
      ]
     },
     "metadata": {},
     "output_type": "display_data"
    }
   ],
   "source": [
    "# 图像\n",
    "x = np.arange(-1, 3, 0.5)\n",
    "plt.figure(figsize=(5, 3))\n",
    "plt.title(\"NAND GATE\", fontsize=16)\n",
    "plt.scatter(X[:, 0], X[:, 1], c=y_nand, cmap=\"rainbow\")\n",
    "plt.plot(x, (0.23-0.15*x)/0.15, color=\"k\", linestyle=\"--\")\n",
    "plt.xlim(-1, 3)\n",
    "plt.ylim(-1, 3)\n",
    "plt.grid(alpha=.4, axis=\"y\")\n",
    "plt.gca().spines[\"top\"].set_alpha(.0)\n",
    "plt.gca().spines[\"right\"].set_alpha(.0)"
   ]
  },
  {
   "cell_type": "markdown",
   "metadata": {},
   "source": [
    "#### “异或门”（XOR GATE）"
   ]
  },
  {
   "cell_type": "code",
   "execution_count": 35,
   "metadata": {},
   "outputs": [
    {
     "data": {
      "image/png": "[encoded data removed]",
      "text/plain": [
       "<Figure size 360x216 with 1 Axes>"
      ]
     },
     "metadata": {},
     "output_type": "display_data"
    }
   ],
   "source": [
    "y_xor = [0, 1, 1, 0]\n",
    "\n",
    "plt.figure(figsize=(5, 3))\n",
    "plt.title(\"XOR GATE\", fontsize=16)\n",
    "plt.scatter(X[:, 0], X[:, 1], c=y_xor, cmap=\"rainbow\")\n",
    "plt.xlim(-1, 3)\n",
    "plt.ylim(-1, 3)\n",
    "plt.grid(alpha=.4, axis=\"y\")\n",
    "plt.gca().spines[\"top\"].set_alpha(.0)\n",
    "plt.gca().spines[\"right\"].set_alpha(.0)"
   ]
  },
  {
   "cell_type": "code",
   "execution_count": 36,
   "metadata": {},
   "outputs": [],
   "source": [
    "def XOR(x1, x2):\n",
    "    y_and = NAND(X[:, 0], X[:, 1])\n",
    "    y_or = OR(X[:, 0], X[:, 1])\n",
    "    y_and = AND(np.array(y_nand), np.array(y_or))\n",
    "    print(\"NAND:\",y_nand)\n",
    "    print(\"OR:\",y_or)\n",
    "    return y_and"
   ]
  },
  {
   "cell_type": "code",
   "execution_count": 37,
   "metadata": {},
   "outputs": [
    {
     "name": "stdout",
     "output_type": "stream",
     "text": [
      "NAND: [1, 1, 1, 0]\n",
      "OR: [0 1 1 1]\n"
     ]
    },
    {
     "data": {
      "text/plain": [
       "array([0, 1, 1, 0])"
      ]
     },
     "execution_count": 37,
     "metadata": {},
     "output_type": "execute_result"
    }
   ],
   "source": [
    "XOR(X[:, 0], X[:, 1])"
   ]
  },
  {
   "cell_type": "markdown",
   "metadata": {},
   "source": [
    "### 探索多层神经网络：层 vs h(z)"
   ]
  },
  {
   "cell_type": "markdown",
   "metadata": {},
   "source": [
    "#### 如果h(z)是线 性函数，或不存在，那增加再多的层也没有用。"
   ]
  },
  {
   "cell_type": "code",
   "execution_count": 38,
   "metadata": {},
   "outputs": [],
   "source": [
    "# 回忆一下XOR数据的真实标签\n",
    "y_xor = [0, 1, 1, 0]\n",
    "\n",
    "\n",
    "def AND(x1, x2):\n",
    "    w1, w2, b = 0.15, 0.15, -0.23\n",
    "    z = x1*w1 + x2*w2 + b\n",
    "    # 下面这一行就是阶跃函数的表达式，注意AND函数是在输出层，所以保留输出层的阶跃函数g(z)\n",
    "    y = [int(x) for x in z >= 0]\n",
    "    return y\n",
    "\n",
    "\n",
    "def OR(x1, x2):\n",
    "    w1, w2, b = 0.15, 0.15, -0.08\n",
    "    z = x1*w1 + x2*w2 + b\n",
    "    # y = [int(x) for x in z >= 0] #注释掉阶跃函数，相当于h(z)是恒等函数\n",
    "    return z\n",
    "\n",
    "\n",
    "def NAND(x1, x2):\n",
    "    w1, w2, b = -0.15, -0.15, 0.23\n",
    "    z = x1*w1 + x2*w2 + b\n",
    "    # y = [int(x) for x in z >= 0] #注释掉阶跃函数，相当于h(z)是恒等函数\n",
    "    return z\n",
    "\n",
    "\n",
    "def XOR(x1, x2):\n",
    "    z_nand = NAND(X[:, 0], X[:, 1])\n",
    "    z_or = OR(X[:, 0], X[:, 1])\n",
    "    y_and = AND(np.array(z_nand), np.array(z_or))\n",
    "    return y_and"
   ]
  },
  {
   "cell_type": "code",
   "execution_count": 39,
   "metadata": {},
   "outputs": [
    {
     "data": {
      "text/plain": [
       "[0, 0, 0, 0]"
      ]
     },
     "execution_count": 39,
     "metadata": {},
     "output_type": "execute_result"
    }
   ],
   "source": [
    "XOR(X[:, 0], X[:, 1])"
   ]
  },
  {
   "cell_type": "markdown",
   "metadata": {},
   "source": [
    "#### 使用sigmoid函数作为h(z)"
   ]
  },
  {
   "cell_type": "code",
   "execution_count": 40,
   "metadata": {},
   "outputs": [
    {
     "data": {
      "text/plain": [
       "[0, 0, 0, 0]"
      ]
     },
     "execution_count": 40,
     "metadata": {},
     "output_type": "execute_result"
    }
   ],
   "source": [
    "# 根据sigmoid公式定义sigmoid函数\n",
    "def sigmoid(z):\n",
    "    return 1/(1 + np.exp(-z))\n",
    "\n",
    "\n",
    "def AND_sigmoid(x1, x2):\n",
    "    w1, w2, b = 0.15, 0.15, -0.23\n",
    "    z = x1*w1 + x2*w2 + b\n",
    "    # AND函数是位于输出层的，这里是g(z)而非h(z)，因此不会受到将阶跃函数更换为sigmoid的影响\n",
    "    # g(z)依然是阶跃函数\n",
    "    y = [int(x) for x in z >= 0]\n",
    "    return y\n",
    "\n",
    "\n",
    "def OR_sigmoid(x1, x2):\n",
    "    w1, w2, b = 0.15, 0.15, -0.075\n",
    "    z = x1*w1 + x2*w2 + b\n",
    "    o = sigmoid(z)  # 这里是h(z)，我们使用sigmoid函数\n",
    "    return o\n",
    "\n",
    "\n",
    "def NAND_sigmoid(x1, x2):\n",
    "    w1, w2, b = -0.15, -0.15, 0.23\n",
    "    z = x1*w1 + x2*w2 + b\n",
    "    o = sigmoid(z)  # 这里是h(z)，我们使用sigmoid函数\n",
    "    return o\n",
    "\n",
    "\n",
    "def XOR_sigmoid(x1, x2):\n",
    "    o_nand = NAND_sigmoid(X[:, 0], X[:, 1])\n",
    "    o_or = OR_sigmoid(X[:, 0], X[:, 1])\n",
    "    y_and = AND_sigmoid(np.array(o_nand), np.array(o_or))\n",
    "    return y_and\n",
    "\n",
    "\n",
    "XOR_sigmoid(X[:, 0], X[:, 1])"
   ]
  },
  {
   "cell_type": "markdown",
   "metadata": {},
   "source": [
    "即便是使用了非线性的 h(z)，也不一定能够解决非线性的问题。在不适合的非线性函 数加持下，神经网络的层数再多也无法起效。"
   ]
  },
  {
   "cell_type": "markdown",
   "metadata": {},
   "source": [
    "### 激活函数"
   ]
  },
  {
   "cell_type": "markdown",
   "metadata": {},
   "source": [
    "#### h(z) vs g(z)"
   ]
  },
  {
   "cell_type": "code",
   "execution_count": 41,
   "metadata": {},
   "outputs": [],
   "source": [
    "# 如果g(z)是sigmoid函数，而h(z)是阶跃函数\n",
    "\n",
    "# 根据sigmoid公式定义sigmoid函数\n",
    "def sigmoid(z):\n",
    "    return 1/(1 + np.exp(-z))\n",
    "\n",
    "\n",
    "def AND_sigmoid(x1, x2):\n",
    "    w1, w2, b = 0.15, 0.15, -0.23\n",
    "    z = x1*w1 + x2*w2 + b\n",
    "    o = sigmoid(z)  # 输出层是sigmoid函数\n",
    "    y = [int(x) for x in o >= 0.5]  # 按0.5为阈值将结果化为0和1\n",
    "    return o, y\n",
    "\n",
    "\n",
    "def OR(x1, x2):\n",
    "    w1, w2, b = 0.15, 0.15, -0.075\n",
    "    z = x1*w1 + x2*w2 + b\n",
    "    o = [int(x) for x in z >= 0]  # 这里是h(z)，我们使用阶跃函数\n",
    "    return o\n",
    "\n",
    "\n",
    "def NAND(x1, x2):\n",
    "    w1, w2, b = -0.15, -0.15, 0.23\n",
    "    z = x1*w1 + x2*w2 + b\n",
    "    o = [int(x) for x in z >= 0]  # 这里是h(z)，我们使用阶跃函数\n",
    "    return o\n",
    "\n",
    "\n",
    "def XOR(x1, x2):\n",
    "    o_nand = NAND(X[:, 0], X[:, 1])\n",
    "    o_or = OR(X[:, 0], X[:, 1])\n",
    "    y_and = AND_sigmoid(np.array(o_nand), np.array(o_or))\n",
    "    return y_and"
   ]
  },
  {
   "cell_type": "code",
   "execution_count": 42,
   "metadata": {},
   "outputs": [
    {
     "data": {
      "text/plain": [
       "(array([0.48001066, 0.51749286, 0.51749286, 0.48001066]), [0, 1, 1, 0])"
      ]
     },
     "execution_count": 42,
     "metadata": {},
     "output_type": "execute_result"
    }
   ],
   "source": [
    "XOR(X[:, 0], X[:, 1])"
   ]
  },
  {
   "cell_type": "code",
   "execution_count": 43,
   "metadata": {},
   "outputs": [
    {
     "data": {
      "text/plain": [
       "[0, 1, 1, 0]"
      ]
     },
     "execution_count": 43,
     "metadata": {},
     "output_type": "execute_result"
    }
   ],
   "source": [
    "y_xor"
   ]
  },
  {
   "cell_type": "markdown",
   "metadata": {},
   "source": [
    "#### ReLU & tanh"
   ]
  },
  {
   "cell_type": "code",
   "execution_count": 44,
   "metadata": {},
   "outputs": [],
   "source": [
    "def relu(z):\n",
    "    import numpy as np\n",
    "    return np.maximum(0, z)"
   ]
  },
  {
   "cell_type": "code",
   "execution_count": 46,
   "metadata": {},
   "outputs": [
    {
     "data": {
      "text/plain": [
       "array([0. , 0. , 1. , 1.5])"
      ]
     },
     "execution_count": 46,
     "metadata": {},
     "output_type": "execute_result"
    }
   ],
   "source": [
    "relu(np.array([-1, -0.4, 1, 1.5]))"
   ]
  },
  {
   "cell_type": "markdown",
   "metadata": {},
   "source": [
    "### MLP多层感知机"
   ]
  },
  {
   "cell_type": "markdown",
   "metadata": {},
   "source": [
    "#### 隐藏层与神经元：重要参数hidden_layer_sizes"
   ]
  },
  {
   "cell_type": "markdown",
   "metadata": {},
   "source": [
    "1. 导入需要的数据和库，导入数据集"
   ]
  },
  {
   "cell_type": "code",
   "execution_count": 47,
   "metadata": {},
   "outputs": [],
   "source": [
    "import numpy as np\n",
    "from sklearn.neural_network import MLPClassifier as DNN\n",
    "from sklearn.model_selection import cross_val_score as cv\n",
    "from sklearn.datasets import load_breast_cancer\n",
    "from sklearn.ensemble import RandomForestClassifier as RFC\n",
    "from time import time\n",
    "import datetime"
   ]
  },
  {
   "cell_type": "code",
   "execution_count": 48,
   "metadata": {},
   "outputs": [
    {
     "data": {
      "text/plain": [
       "array([0, 0, 0, 0, 0, 0, 0, 0, 0, 0, 0, 0, 0, 0, 0, 0, 0, 0, 0, 1, 1, 1,\n",
       "       0, 0, 0, 0, 0, 0, 0, 0, 0, 0, 0, 0, 0, 0, 0, 1, 0, 0, 0, 0, 0, 0,\n",
       "       0, 0, 1, 0, 1, 1, 1, 1, 1, 0, 0, 1, 0, 0, 1, 1, 1, 1, 0, 1, 0, 0,\n",
       "       1, 1, 1, 1, 0, 1, 0, 0, 1, 0, 1, 0, 0, 1, 1, 1, 0, 0, 1, 0, 0, 0,\n",
       "       1, 1, 1, 0, 1, 1, 0, 0, 1, 1, 1, 0, 0, 1, 1, 1, 1, 0, 1, 1, 0, 1,\n",
       "       1, 1, 1, 1, 1, 1, 1, 0, 0, 0, 1, 0, 0, 1, 1, 1, 0, 0, 1, 0, 1, 0,\n",
       "       0, 1, 0, 0, 1, 1, 0, 1, 1, 0, 1, 1, 1, 1, 0, 1, 1, 1, 1, 1, 1, 1,\n",
       "       1, 1, 0, 1, 1, 1, 1, 0, 0, 1, 0, 1, 1, 0, 0, 1, 1, 0, 0, 1, 1, 1,\n",
       "       1, 0, 1, 1, 0, 0, 0, 1, 0, 1, 0, 1, 1, 1, 0, 1, 1, 0, 0, 1, 0, 0,\n",
       "       0, 0, 1, 0, 0, 0, 1, 0, 1, 0, 1, 1, 0, 1, 0, 0, 0, 0, 1, 1, 0, 0,\n",
       "       1, 1, 1, 0, 1, 1, 1, 1, 1, 0, 0, 1, 1, 0, 1, 1, 0, 0, 1, 0, 1, 1,\n",
       "       1, 1, 0, 1, 1, 1, 1, 1, 0, 1, 0, 0, 0, 0, 0, 0, 0, 0, 0, 0, 0, 0,\n",
       "       0, 0, 1, 1, 1, 1, 1, 1, 0, 1, 0, 1, 1, 0, 1, 1, 0, 1, 0, 0, 1, 1,\n",
       "       1, 1, 1, 1, 1, 1, 1, 1, 1, 1, 1, 0, 1, 1, 0, 1, 0, 1, 1, 1, 1, 1,\n",
       "       1, 1, 1, 1, 1, 1, 1, 1, 1, 0, 1, 1, 1, 0, 1, 0, 1, 1, 1, 1, 0, 0,\n",
       "       0, 1, 1, 1, 1, 0, 1, 0, 1, 0, 1, 1, 1, 0, 1, 1, 1, 1, 1, 1, 1, 0,\n",
       "       0, 0, 1, 1, 1, 1, 1, 1, 1, 1, 1, 1, 1, 0, 0, 1, 0, 0, 0, 1, 0, 0,\n",
       "       1, 1, 1, 1, 1, 0, 1, 1, 1, 1, 1, 0, 1, 1, 1, 0, 1, 1, 0, 0, 1, 1,\n",
       "       1, 1, 1, 1, 0, 1, 1, 1, 1, 1, 1, 1, 0, 1, 1, 1, 1, 1, 0, 1, 1, 0,\n",
       "       1, 1, 1, 1, 1, 1, 1, 1, 1, 1, 1, 1, 0, 1, 0, 0, 1, 0, 1, 1, 1, 1,\n",
       "       1, 0, 1, 1, 0, 1, 0, 1, 1, 0, 1, 0, 1, 1, 1, 1, 1, 1, 1, 1, 0, 0,\n",
       "       1, 1, 1, 1, 1, 1, 0, 1, 1, 1, 1, 1, 1, 1, 1, 1, 1, 0, 1, 1, 1, 1,\n",
       "       1, 1, 1, 0, 1, 0, 1, 1, 0, 1, 1, 1, 1, 1, 0, 0, 1, 0, 1, 0, 1, 1,\n",
       "       1, 1, 1, 0, 1, 1, 0, 1, 0, 1, 0, 0, 1, 1, 1, 0, 1, 1, 1, 1, 1, 1,\n",
       "       1, 1, 1, 1, 1, 0, 1, 0, 0, 1, 1, 1, 1, 1, 1, 1, 1, 1, 1, 1, 1, 1,\n",
       "       1, 1, 1, 1, 1, 1, 1, 1, 1, 1, 1, 1, 0, 0, 0, 0, 0, 0, 1])"
      ]
     },
     "execution_count": 48,
     "metadata": {},
     "output_type": "execute_result"
    }
   ],
   "source": [
    "# 先使用机器学习中的数据来试试看神经网络的效果\n",
    "data = load_breast_cancer()\n",
    "X = data.data\n",
    "y = data.target\n",
    "\n",
    "y  # 二分类"
   ]
  },
  {
   "cell_type": "markdown",
   "metadata": {},
   "source": [
    "2. 建模，使用交叉验证导出分数"
   ]
  },
  {
   "cell_type": "code",
   "execution_count": 49,
   "metadata": {},
   "outputs": [
    {
     "data": {
      "text/plain": [
       "0.9349945660611707"
      ]
     },
     "execution_count": 49,
     "metadata": {},
     "output_type": "execute_result"
    }
   ],
   "source": [
    "dnn = DNN(hidden_layer_sizes=(200,),\n",
    "          random_state=420  # random_state控制着神经网络上的某些随机性， 你能够猜到一些吗？\n",
    "          )\n",
    "# 这样，一个简单的神经网络就实例化完毕了\n",
    "cv(dnn, X, y, cv=5).mean()"
   ]
  },
  {
   "cell_type": "code",
   "execution_count": 50,
   "metadata": {},
   "outputs": [
    {
     "data": {
      "text/plain": [
       "array([0, 0, 0, 0, 0, 0, 0, 0, 0, 0, 0, 0, 0, 0, 1, 0, 0, 0, 0, 1, 1, 1,\n",
       "       0, 0, 0, 0, 0, 0, 0, 0, 0, 0, 0, 0, 0, 0, 0, 1, 0, 0, 0, 1, 0, 0,\n",
       "       0, 0, 1, 0, 1, 1, 1, 1, 1, 0, 0, 1, 0, 0, 1, 1, 1, 1, 0, 1, 0, 0,\n",
       "       1, 1, 1, 1, 0, 1, 0, 0, 1, 0, 1, 0, 0, 1, 1, 1, 0, 0, 1, 0, 0, 0,\n",
       "       1, 1, 0, 0, 0, 1, 0, 0, 1, 1, 1, 0, 0, 1, 1, 1, 1, 0, 1, 1, 0, 1,\n",
       "       1, 1, 1, 1, 1, 1, 1, 0, 0, 0, 1, 0, 0, 1, 1, 1, 0, 0, 1, 0, 1, 0,\n",
       "       0, 0, 0, 0, 1, 1, 0, 1, 1, 0, 1, 1, 1, 1, 1, 0, 1, 1, 1, 1, 1, 1,\n",
       "       1, 1, 0, 0, 1, 1, 1, 0, 0, 1, 0, 1, 1, 0, 0, 1, 1, 0, 0, 1, 1, 1,\n",
       "       1, 0, 1, 1, 0, 0, 0, 1, 0, 1, 0, 1, 1, 1, 0, 1, 1, 0, 1, 1, 0, 0,\n",
       "       0, 0, 0, 0, 0, 0, 0, 0, 1, 0, 1, 0, 0, 1, 0, 0, 0, 0, 1, 1, 0, 0,\n",
       "       1, 1, 1, 0, 1, 0, 1, 1, 1, 0, 0, 1, 1, 0, 1, 1, 0, 0, 0, 0, 1, 1,\n",
       "       1, 1, 0, 1, 1, 1, 1, 1, 0, 1, 0, 0, 0, 0, 0, 0, 0, 0, 0, 0, 0, 0,\n",
       "       0, 0, 1, 1, 1, 1, 1, 1, 0, 1, 0, 1, 1, 0, 1, 1, 0, 1, 0, 0, 1, 1,\n",
       "       1, 1, 1, 1, 1, 1, 1, 1, 1, 1, 1, 1, 0, 1, 0, 1, 0, 1, 1, 1, 1, 1,\n",
       "       1, 1, 1, 0, 1, 1, 1, 1, 1, 0, 1, 1, 1, 0, 1, 0, 1, 1, 1, 1, 0, 0,\n",
       "       0, 1, 1, 1, 1, 0, 1, 0, 1, 0, 0, 1, 1, 0, 1, 1, 1, 0, 1, 1, 1, 0,\n",
       "       0, 0, 1, 1, 1, 1, 1, 1, 1, 1, 1, 0, 1, 0, 0, 1, 0, 0, 0, 1, 0, 0,\n",
       "       1, 1, 1, 1, 1, 0, 1, 1, 1, 1, 1, 0, 1, 1, 1, 0, 1, 1, 0, 0, 1, 1,\n",
       "       1, 1, 1, 1, 0, 1, 1, 1, 1, 1, 0, 1, 0, 1, 1, 1, 1, 0, 0, 1, 1, 0,\n",
       "       1, 1, 1, 1, 1, 1, 1, 1, 1, 1, 1, 1, 0, 1, 0, 0, 1, 0, 1, 1, 1, 1,\n",
       "       1, 0, 1, 1, 0, 1, 0, 1, 0, 0, 1, 0, 1, 1, 1, 0, 1, 1, 1, 1, 0, 0,\n",
       "       1, 1, 1, 0, 1, 1, 0, 1, 1, 0, 0, 1, 1, 1, 0, 1, 1, 0, 1, 0, 1, 1,\n",
       "       1, 1, 0, 0, 1, 0, 1, 0, 0, 1, 1, 1, 1, 1, 0, 0, 1, 0, 1, 0, 1, 1,\n",
       "       1, 1, 0, 0, 1, 1, 0, 0, 0, 1, 0, 0, 1, 1, 1, 0, 1, 1, 1, 1, 1, 1,\n",
       "       1, 1, 1, 1, 0, 0, 1, 0, 1, 1, 1, 1, 1, 0, 0, 1, 1, 0, 1, 1, 1, 0,\n",
       "       1, 1, 1, 1, 1, 1, 1, 1, 1, 1, 1, 1, 0, 0, 0, 0, 0, 0, 1])"
      ]
     },
     "execution_count": 50,
     "metadata": {},
     "output_type": "execute_result"
    }
   ],
   "source": [
    "# 接口predict：预测出结果，由于之前在交叉验证中的训练不会被记录，因此需要重新训练\n",
    "dnn.fit(X, y).predict(X)"
   ]
  },
  {
   "cell_type": "code",
   "execution_count": 64,
   "metadata": {},
   "outputs": [
    {
     "data": {
      "text/plain": [
       "array([[1.00000000e+00, 5.80211596e-25],\n",
       "       [1.00000000e+00, 1.00641444e-14],\n",
       "       [9.99999999e-01, 6.28745603e-10],\n",
       "       ...,\n",
       "       [9.99497591e-01, 5.02409394e-04],\n",
       "       [1.00000000e+00, 2.79983276e-11],\n",
       "       [1.45552433e-01, 8.54447567e-01]])"
      ]
     },
     "execution_count": 64,
     "metadata": {},
     "output_type": "execute_result"
    }
   ],
   "source": [
    "# 接口predict_proba：返回预测的概率\n",
    "dnn.fit(X, y).predict_proba(X)"
   ]
  },
  {
   "cell_type": "code",
   "execution_count": 65,
   "metadata": {},
   "outputs": [
    {
     "name": "stdout",
     "output_type": "stream",
     "text": [
      "0.9349945660611707\n",
      "1.201362133026123\n"
     ]
    }
   ],
   "source": [
    "# 看看运行时间如何\n",
    "times = time()\n",
    "dnn = DNN(hidden_layer_sizes=(200,), random_state=420)\n",
    "print(cv(dnn, X, y, cv=5).mean())\n",
    "print(time() - times)"
   ]
  },
  {
   "cell_type": "code",
   "execution_count": 66,
   "metadata": {},
   "outputs": [
    {
     "name": "stdout",
     "output_type": "stream",
     "text": [
      "0.9613414066138798\n",
      "1.5502710342407227\n"
     ]
    }
   ],
   "source": [
    "# 使用随机森林进行一个对比\n",
    "times = time()\n",
    "clf_rfc = RFC(n_estimators=200, random_state=420)\n",
    "print(cv(clf_rfc, X, y, cv=5).mean())\n",
    "print(time() - times)"
   ]
  },
  {
   "cell_type": "markdown",
   "metadata": {},
   "source": [
    "3. 使用参数hidden_layer_sizes"
   ]
  },
  {
   "cell_type": "code",
   "execution_count": 77,
   "metadata": {},
   "outputs": [
    {
     "name": "stdout",
     "output_type": "stream",
     "text": [
      "0.934979040521658\n",
      "1.0657610893249512\n"
     ]
    }
   ],
   "source": [
    "times = time()\n",
    "dnn = DNN(hidden_layer_sizes=(50), random_state=420)\n",
    "print(cv(dnn, X, y, cv=5).mean())\n",
    "print(time() - times)\n",
    "# 试试看不用的神经元个数组合：(50,50),(50,100),(100,50),(100,100,100)\n",
    "# 不断调整hidden_layer_sizes中输入的内容，你发现了什么？\n",
    "# 来试试看，(70,)"
   ]
  },
  {
   "cell_type": "code",
   "execution_count": 78,
   "metadata": {},
   "outputs": [
    {
     "data": {
      "text/plain": [
       "3"
      ]
     },
     "execution_count": 78,
     "metadata": {},
     "output_type": "execute_result"
    }
   ],
   "source": [
    "# 使用重要属性n_layers_，显示神经网络的层数\n",
    "dnn.fit(X, y).n_layers_\n",
    "# 这里返回的层数将输入层和输出层也考虑在其中"
   ]
  },
  {
   "cell_type": "code",
   "execution_count": 79,
   "metadata": {},
   "outputs": [
    {
     "data": {
      "text/plain": [
       "array([0, 1])"
      ]
     },
     "execution_count": 79,
     "metadata": {},
     "output_type": "execute_result"
    }
   ],
   "source": [
    "# 重要属性classes_，查看返回结果中一共有多少个类别\n",
    "dnn.fit(X, y).classes_"
   ]
  },
  {
   "cell_type": "code",
   "execution_count": 80,
   "metadata": {},
   "outputs": [
    {
     "data": {
      "text/plain": [
       "1"
      ]
     },
     "execution_count": 80,
     "metadata": {},
     "output_type": "execute_result"
    }
   ],
   "source": [
    "# 重要属性n_outputs_，显示输出层上神经元的个数（即输出结果的个数）\n",
    "# 试想下二分类神经网络对应的g(z)和我们之前总结的规律，应该很容易就能够判断这里会 输出几\n",
    "dnn.fit(X, y).n_outputs_"
   ]
  },
  {
   "cell_type": "code",
   "execution_count": 81,
   "metadata": {},
   "outputs": [
    {
     "name": "stderr",
     "output_type": "stream",
     "text": [
      "/Users/cool/.pyenv/versions/3.8.5/lib/python3.8/site-packages/sklearn/neural_network/_multilayer_perceptron.py:582: ConvergenceWarning: Stochastic Optimizer: Maximum iterations (200) reached and the optimization hasn't converged yet.\n",
      "  warnings.warn(\n"
     ]
    },
    {
     "data": {
      "text/plain": [
       "10"
      ]
     },
     "execution_count": 81,
     "metadata": {},
     "output_type": "execute_result"
    }
   ],
   "source": [
    "# 如果更换数据，n_outputs会返回多少？\n",
    "from sklearn.datasets import load_digits\n",
    "dnn.fit(load_digits().data, load_digits().target).n_outputs_"
   ]
  },
  {
   "cell_type": "code",
   "execution_count": 82,
   "metadata": {},
   "outputs": [
    {
     "data": {
      "text/plain": [
       "array([0, 1, 2, 3, 4, 5, 6, 7, 8, 9])"
      ]
     },
     "execution_count": 82,
     "metadata": {},
     "output_type": "execute_result"
    }
   ],
   "source": [
    "np.unique(load_digits().target)"
   ]
  },
  {
   "cell_type": "markdown",
   "metadata": {},
   "source": [
    "4. 提升神经网络效果的有效方法：归一化"
   ]
  },
  {
   "cell_type": "code",
   "execution_count": 83,
   "metadata": {},
   "outputs": [],
   "source": [
    "from sklearn.preprocessing import StandardScaler as SS"
   ]
  },
  {
   "cell_type": "code",
   "execution_count": 84,
   "metadata": {},
   "outputs": [],
   "source": [
    "X_ = SS().fit_transform(X)"
   ]
  },
  {
   "cell_type": "code",
   "execution_count": 86,
   "metadata": {},
   "outputs": [
    {
     "name": "stdout",
     "output_type": "stream",
     "text": [
      "0.9806862288464524\n",
      "2.1518898010253906\n"
     ]
    }
   ],
   "source": [
    "times = time()\n",
    "dnn = DNN(hidden_layer_sizes=(200, 50), random_state=420)\n",
    "print(cv(dnn, X_, y, cv=5).mean())\n",
    "print(time() - times)\n",
    "# 最终的结果显示，(200,50)是一个比较有效的组合"
   ]
  },
  {
   "cell_type": "markdown",
   "metadata": {},
   "source": [
    "#### 激活函数：重要参数activation"
   ]
  },
  {
   "cell_type": "code",
   "execution_count": 88,
   "metadata": {},
   "outputs": [
    {
     "name": "stdout",
     "output_type": "stream",
     "text": [
      "identity 0.9613724576929048\n",
      "2.007845163345337\n",
      "logistic 0.9666356155876418\n",
      "7.091061115264893\n",
      "tanh 0.9754385964912281\n",
      "3.5398380756378174\n",
      "relu 0.9806862288464524\n",
      "1.9739201068878174\n"
     ]
    }
   ],
   "source": [
    "for activef in ['identity', 'logistic', 'tanh', 'relu']:\n",
    "    times = time()\n",
    "    dnn = DNN(hidden_layer_sizes=(200, 50),\n",
    "              activation=activef,\n",
    "              max_iter=2000,\n",
    "              random_state=420\n",
    "              )\n",
    "    print(activef, cv(dnn, X_, y, cv=5).mean())\n",
    "    print(time() - times)"
   ]
  },
  {
   "cell_type": "code",
   "execution_count": 89,
   "metadata": {},
   "outputs": [
    {
     "data": {
      "text/plain": [
       "'logistic'"
      ]
     },
     "execution_count": 89,
     "metadata": {},
     "output_type": "execute_result"
    }
   ],
   "source": [
    "# 重要属性out_activation_，猜猜它会返回什么内容？\n",
    "\n",
    "dnn.fit(X, y).out_activation_"
   ]
  },
  {
   "cell_type": "code",
   "execution_count": 90,
   "metadata": {},
   "outputs": [
    {
     "data": {
      "text/plain": [
       "'softmax'"
      ]
     },
     "execution_count": 90,
     "metadata": {},
     "output_type": "execute_result"
    }
   ],
   "source": [
    "# 如果更换数据，out_activation_会返回什么结果？\n",
    "\n",
    "dnn.fit(load_digits().data, load_digits().target).out_activation_"
   ]
  },
  {
   "cell_type": "code",
   "execution_count": 91,
   "metadata": {},
   "outputs": [],
   "source": [
    "# 很明显，属性out_activation_返回的是g(z)，而参数activation控制的是h(z)。"
   ]
  }
 ],
 "metadata": {
  "kernelspec": {
   "display_name": "Python 3",
   "language": "python",
   "name": "python3"
  },
  "language_info": {
   "codemirror_mode": {
    "name": "ipython",
    "version": 3
   },
   "file_extension": ".py",
   "mimetype": "text/x-python",
   "name": "python",
   "nbconvert_exporter": "python",
   "pygments_lexer": "ipython3",
   "version": "3.8.5"
  },
  "toc": {
   "base_numbering": 1,
   "nav_menu": {
    "height": "406px",
    "width": "222px"
   },
   "number_sections": true,
   "sideBar": true,
   "skip_h1_title": false,
   "title_cell": "Table of Contents",
   "title_sidebar": "Contents",
   "toc_cell": false,
   "toc_position": {
    "height": "calc(100% - 180px)",
    "left": "10px",
    "top": "150px",
    "width": "409.594px"
   },
   "toc_section_display": true,
   "toc_window_display": true
  }
 },
 "nbformat": 4,
 "nbformat_minor": 4
}
