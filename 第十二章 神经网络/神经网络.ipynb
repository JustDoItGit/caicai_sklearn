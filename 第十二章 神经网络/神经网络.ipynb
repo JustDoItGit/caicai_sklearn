{
 "cells": [
  {
   "cell_type": "markdown",
   "metadata": {},
   "source": [
    "## 单层神经网络"
   ]
  },
  {
   "cell_type": "markdown",
   "metadata": {},
   "source": [
    "### 回归神经网络：线性回归"
   ]
  },
  {
   "cell_type": "code",
   "execution_count": 1,
   "metadata": {},
   "outputs": [],
   "source": [
    "import numpy as np"
   ]
  },
  {
   "cell_type": "code",
   "execution_count": 2,
   "metadata": {},
   "outputs": [],
   "source": [
    "X = np.array([[0, 0], [1, 0], [0, 1], [1, 1]])\n",
    "z_reg = np.array([-0.2, -0.05, -0.05, 0.1])"
   ]
  },
  {
   "cell_type": "code",
   "execution_count": 3,
   "metadata": {},
   "outputs": [
    {
     "data": {
      "text/plain": [
       "array([[0, 0],\n",
       "       [1, 0],\n",
       "       [0, 1],\n",
       "       [1, 1]])"
      ]
     },
     "execution_count": 3,
     "metadata": {},
     "output_type": "execute_result"
    }
   ],
   "source": [
    "X"
   ]
  },
  {
   "cell_type": "code",
   "execution_count": 4,
   "metadata": {},
   "outputs": [
    {
     "data": {
      "text/plain": [
       "(4, 2)"
      ]
     },
     "execution_count": 4,
     "metadata": {},
     "output_type": "execute_result"
    }
   ],
   "source": [
    "X.shape"
   ]
  },
  {
   "cell_type": "code",
   "execution_count": 5,
   "metadata": {},
   "outputs": [
    {
     "data": {
      "text/plain": [
       "array([-0.2 , -0.05, -0.05,  0.1 ])"
      ]
     },
     "execution_count": 5,
     "metadata": {},
     "output_type": "execute_result"
    }
   ],
   "source": [
    "z_reg"
   ]
  },
  {
   "cell_type": "code",
   "execution_count": 6,
   "metadata": {},
   "outputs": [],
   "source": [
    "# 定义实现简单线性回归的函数\n",
    "def LinearR(x1, x2):\n",
    "    w1, w2, b = 0.15, 0.15, -0.2  # 给定一组系数w和b\n",
    "    z = x1*w1 + x2*w2 + b  # z是系数*特征后加和的结果\n",
    "    return z"
   ]
  },
  {
   "cell_type": "code",
   "execution_count": 7,
   "metadata": {},
   "outputs": [
    {
     "data": {
      "text/plain": [
       "array([-0.2 , -0.05, -0.05,  0.1 ])"
      ]
     },
     "execution_count": 7,
     "metadata": {},
     "output_type": "execute_result"
    }
   ],
   "source": [
    "LinearR(X[:, 0], X[:, 1])"
   ]
  },
  {
   "cell_type": "markdown",
   "metadata": {},
   "source": [
    "### 二分类单层神经网络：sigmoid与阶跃函数"
   ]
  },
  {
   "cell_type": "code",
   "execution_count": 8,
   "metadata": {},
   "outputs": [],
   "source": [
    "# 重新定义数据中的标签\n",
    "y_and = [0, 0, 0, 1]"
   ]
  },
  {
   "cell_type": "code",
   "execution_count": 9,
   "metadata": {},
   "outputs": [],
   "source": [
    "# 根据sigmoid公式定义sigmoid函数\n",
    "def sigmoid(z):\n",
    "    return 1/(1 + np.exp(-z))"
   ]
  },
  {
   "cell_type": "code",
   "execution_count": 10,
   "metadata": {},
   "outputs": [],
   "source": [
    "def AND_sigmoid(x1, x2):\n",
    "    w1, w2, b = 0.15, 0.15, -0.2  # 给定的系数w和b不变\n",
    "    z = x1*w1 + x2*w2 + b\n",
    "    o = sigmoid(z)  # 使用sigmoid函数将回归结果转换到(0,1)之间\n",
    "    y = (o >= 0.5).astype(int)\n",
    "#     y = [int(x) for x in o >= 0.5] #根据阈值0.5，将(0,1)之间的概率转变为分类0和1\n",
    "    return o, y"
   ]
  },
  {
   "cell_type": "code",
   "execution_count": 11,
   "metadata": {},
   "outputs": [],
   "source": [
    "# o:sigmoid函数返回的概率结果\n",
    "# y:对概率结果按阈值进行划分后，形成的0和1，也就是分类标签\n",
    "o, y_sigm = AND_sigmoid(X[:, 0], X[:, 1])"
   ]
  },
  {
   "cell_type": "code",
   "execution_count": 12,
   "metadata": {},
   "outputs": [
    {
     "data": {
      "text/plain": [
       "array([0.450166  , 0.4875026 , 0.4875026 , 0.52497919])"
      ]
     },
     "execution_count": 12,
     "metadata": {},
     "output_type": "execute_result"
    }
   ],
   "source": [
    "o"
   ]
  },
  {
   "cell_type": "code",
   "execution_count": 13,
   "metadata": {},
   "outputs": [
    {
     "data": {
      "text/plain": [
       "array([0, 0, 0, 1])"
      ]
     },
     "execution_count": 13,
     "metadata": {},
     "output_type": "execute_result"
    }
   ],
   "source": [
    "y_sigm"
   ]
  },
  {
   "cell_type": "code",
   "execution_count": 14,
   "metadata": {},
   "outputs": [],
   "source": [
    "y_sigm == y_and"
   ]
  },
  {
   "cell_type": "code",
   "execution_count": null,
   "metadata": {},
   "outputs": [],
   "source": [
    "y_sigm == y_and"
   ]
  },
  {
   "cell_type": "code",
   "execution_count": 15,
   "metadata": {},
   "outputs": [
    {
     "data": {
      "text/plain": [
       "array([ True,  True,  True,  True])"
      ]
     },
     "execution_count": 15,
     "metadata": {},
     "output_type": "execute_result"
    }
   ],
   "source": [
    "y_sigm == y_and"
   ]
  },
  {
   "cell_type": "code",
   "execution_count": 16,
   "metadata": {},
   "outputs": [
    {
     "data": {
      "text/plain": [
       "array([ True,  True,  True,  True])"
      ]
     },
     "execution_count": 16,
     "metadata": {},
     "output_type": "execute_result"
    }
   ],
   "source": [
    "y_sigm == y_and"
   ]
  },
  {
   "cell_type": "code",
   "execution_count": 17,
   "metadata": {},
   "outputs": [],
   "source": [
    "# 阶跃函数\n",
    "def AND(x1, x2):\n",
    "    w1, w2, b = 0.15, 0.15, -0.23  # 和sigmoid相似的w和b\n",
    "    z = x1*w1 + x2*w2 + b\n",
    "    y = (z >= 0).astype(int)\n",
    "#     y = [int(x) for x in z >= 0]\n",
    "    return y"
   ]
  },
  {
   "cell_type": "code",
   "execution_count": 18,
   "metadata": {},
   "outputs": [
    {
     "data": {
      "text/plain": [
       "array([0, 0, 0, 1])"
      ]
     },
     "execution_count": 18,
     "metadata": {},
     "output_type": "execute_result"
    }
   ],
   "source": [
    "AND(X[:, 0], X[:, 1])"
   ]
  },
  {
   "cell_type": "markdown",
   "metadata": {},
   "source": [
    "### 多分类单层神经网络：softmax回归"
   ]
  },
  {
   "cell_type": "code",
   "execution_count": 19,
   "metadata": {},
   "outputs": [
    {
     "name": "stderr",
     "output_type": "stream",
     "text": [
      "<ipython-input-19-d09822f2937e>:2: RuntimeWarning: overflow encountered in exp\n",
      "  np.exp(z) / np.sum(np.exp(z))   # softmax函数的运算\n",
      "<ipython-input-19-d09822f2937e>:2: RuntimeWarning: invalid value encountered in true_divide\n",
      "  np.exp(z) / np.sum(np.exp(z))   # softmax函数的运算\n"
     ]
    },
    {
     "data": {
      "text/plain": [
       "array([nan, nan, nan])"
      ]
     },
     "execution_count": 19,
     "metadata": {},
     "output_type": "execute_result"
    }
   ],
   "source": [
    "z = np.array([1010, 1000, 990])\n",
    "np.exp(z) / np.sum(np.exp(z))   # softmax函数的运算"
   ]
  },
  {
   "cell_type": "code",
   "execution_count": 20,
   "metadata": {},
   "outputs": [],
   "source": [
    "# 定义softmax函数\n",
    "def softmax(z):\n",
    "    c = np.max(z)\n",
    "    exp_z = np.exp(z - c)  # 溢出对策\n",
    "    sum_exp_z = np.sum(exp_z)\n",
    "    o = exp_z / sum_exp_z\n",
    "    return o"
   ]
  },
  {
   "cell_type": "code",
   "execution_count": 21,
   "metadata": {},
   "outputs": [
    {
     "data": {
      "text/plain": [
       "array([9.99954600e-01, 4.53978686e-05, 2.06106005e-09])"
      ]
     },
     "execution_count": 21,
     "metadata": {},
     "output_type": "execute_result"
    }
   ],
   "source": [
    "softmax(z)"
   ]
  },
  {
   "cell_type": "code",
   "execution_count": 22,
   "metadata": {},
   "outputs": [
    {
     "data": {
      "text/plain": [
       "1.0"
      ]
     },
     "execution_count": 22,
     "metadata": {},
     "output_type": "execute_result"
    }
   ],
   "source": [
    "sum(softmax(z))"
   ]
  },
  {
   "cell_type": "markdown",
   "metadata": {},
   "source": [
    "## 多层神经网络"
   ]
  },
  {
   "cell_type": "markdown",
   "metadata": {},
   "source": [
    "### 异或门问题"
   ]
  },
  {
   "cell_type": "code",
   "execution_count": 23,
   "metadata": {},
   "outputs": [],
   "source": [
    "import matplotlib.pyplot as plt\n",
    "import seaborn as sns"
   ]
  },
  {
   "cell_type": "markdown",
   "metadata": {},
   "source": [
    "#### 与门图像"
   ]
  },
  {
   "cell_type": "code",
   "execution_count": 27,
   "metadata": {
    "scrolled": false
   },
   "outputs": [
    {
     "data": {
      "image/png": "[encoded data removed]",
      "text/plain": [
       "<Figure size 360x216 with 1 Axes>"
      ]
     },
     "metadata": {},
     "output_type": "display_data"
    }
   ],
   "source": [
    "plt.style.use('seaborn-whitegrid')  # 设置图像的风格\n",
    "sns.set_style(\"white\")\n",
    "plt.figure(figsize=(5, 3))  # 设置画布大小\n",
    "plt.title(\"AND GATE\", fontsize=16)  # 设置图像标题\n",
    "plt.scatter(X[:, 0], X[:, 1], c=y_and, cmap=\"rainbow\")  # 绘制散点图\n",
    "x = np.arange(-1, 3, 0.5)\n",
    "plt.plot(x, (0.23-0.15*x)/0.15,  # 这里是从直线的表达式变型出的x2 = 的式子\n",
    "         color=\"k\", linestyle=\"--\")\n",
    "plt.xlim(-1, 3)  # 设置横纵坐标尺寸 plt.ylim(-1,3)\n",
    "plt.grid(alpha=.4, axis=\"y\")  # 显示背景中的网格\n",
    "plt.gca().spines[\"top\"].set_alpha(.0)  # 让上方和右侧的坐标轴被隐藏\n",
    "plt.gca().spines[\"right\"].set_alpha(.0)"
   ]
  },
  {
   "cell_type": "markdown",
   "metadata": {},
   "source": [
    "#### 或门、或门的图像"
   ]
  },
  {
   "cell_type": "code",
   "execution_count": 28,
   "metadata": {},
   "outputs": [],
   "source": [
    "# 或门、或门的图像\n",
    "y_or = [0, 1, 1, 1]\n",
    "\n",
    "\n",
    "def OR(x1, x2):\n",
    "    w1, w2, b = 0.15, 0.15, -0.08  # 为了拟合不同的标签，重新定义一组w和b\n",
    "    z = x1*w1 + x2*w2 + b\n",
    "    y = (z >= 0).astype(int)\n",
    "    return y"
   ]
  },
  {
   "cell_type": "code",
   "execution_count": 29,
   "metadata": {},
   "outputs": [
    {
     "data": {
      "text/plain": [
       "array([0, 1, 1, 1])"
      ]
     },
     "execution_count": 29,
     "metadata": {},
     "output_type": "execute_result"
    }
   ],
   "source": [
    "OR(X[:, 0], X[:, 1])"
   ]
  },
  {
   "cell_type": "code",
   "execution_count": 30,
   "metadata": {},
   "outputs": [
    {
     "data": {
      "image/png": "[encoded data removed]",
      "text/plain": [
       "<Figure size 360x216 with 1 Axes>"
      ]
     },
     "metadata": {},
     "output_type": "display_data"
    }
   ],
   "source": [
    "# 绘制直线划分散点的图像\n",
    "x = np.arange(-1, 3, 0.5)\n",
    "plt.figure(figsize=(5, 3))\n",
    "plt.title(\"OR GATE\", fontsize=16)\n",
    "plt.scatter(X[:, 0], X[:, 1], c=y_or, cmap=\"rainbow\")\n",
    "plt.plot(x, (0.08-0.15*x)/0.15, color=\"k\", linestyle=\"--\")\n",
    "plt.xlim(-1, 3)\n",
    "plt.ylim(-1, 3)\n",
    "plt.grid(alpha=.4, axis=\"y\")\n",
    "plt.gca().spines[\"top\"].set_alpha(.0)\n",
    "plt.gca().spines[\"right\"].set_alpha(.0)"
   ]
  },
  {
   "cell_type": "markdown",
   "metadata": {},
   "source": [
    "#### 非与门、非与门的图像"
   ]
  },
  {
   "cell_type": "code",
   "execution_count": 31,
   "metadata": {},
   "outputs": [],
   "source": [
    "y_nand = [1, 1, 1, 0]\n",
    "\n",
    "\n",
    "def NAND(x1, x2):\n",
    "    w1, w2, b = -0.15, -0.15, 0.23  # 同样为了拟合不同的标签，重新定义一组 w和b\n",
    "    z = x1*w1 + x2*w2 + b\n",
    "    y = [int(x) for x in z >= 0]\n",
    "    return y"
   ]
  },
  {
   "cell_type": "code",
   "execution_count": 32,
   "metadata": {},
   "outputs": [
    {
     "data": {
      "text/plain": [
       "[1, 1, 1, 0]"
      ]
     },
     "execution_count": 32,
     "metadata": {},
     "output_type": "execute_result"
    }
   ],
   "source": [
    "NAND(X[:, 0], X[:, 1])"
   ]
  },
  {
   "cell_type": "code",
   "execution_count": 33,
   "metadata": {},
   "outputs": [
    {
     "data": {
      "image/png": "[encoded data removed]",
      "text/plain": [
       "<Figure size 360x216 with 1 Axes>"
      ]
     },
     "metadata": {},
     "output_type": "display_data"
    }
   ],
   "source": [
    "# 图像\n",
    "x = np.arange(-1, 3, 0.5)\n",
    "plt.figure(figsize=(5, 3))\n",
    "plt.title(\"NAND GATE\", fontsize=16)\n",
    "plt.scatter(X[:, 0], X[:, 1], c=y_nand, cmap=\"rainbow\")\n",
    "plt.plot(x, (0.23-0.15*x)/0.15, color=\"k\", linestyle=\"--\")\n",
    "plt.xlim(-1, 3)\n",
    "plt.ylim(-1, 3)\n",
    "plt.grid(alpha=.4, axis=\"y\")\n",
    "plt.gca().spines[\"top\"].set_alpha(.0)\n",
    "plt.gca().spines[\"right\"].set_alpha(.0)"
   ]
  },
  {
   "cell_type": "markdown",
   "metadata": {},
   "source": [
    "#### “异或门”（XOR GATE）"
   ]
  },
  {
   "cell_type": "code",
   "execution_count": 35,
   "metadata": {},
   "outputs": [
    {
     "data": {
      "image/png": "[encoded data removed]",
      "text/plain": [
       "<Figure size 360x216 with 1 Axes>"
      ]
     },
     "metadata": {},
     "output_type": "display_data"
    }
   ],
   "source": [
    "y_xor = [0, 1, 1, 0]\n",
    "\n",
    "plt.figure(figsize=(5, 3))\n",
    "plt.title(\"XOR GATE\", fontsize=16)\n",
    "plt.scatter(X[:, 0], X[:, 1], c=y_xor, cmap=\"rainbow\")\n",
    "plt.xlim(-1, 3)\n",
    "plt.ylim(-1, 3)\n",
    "plt.grid(alpha=.4, axis=\"y\")\n",
    "plt.gca().spines[\"top\"].set_alpha(.0)\n",
    "plt.gca().spines[\"right\"].set_alpha(.0)"
   ]
  },
  {
   "cell_type": "code",
   "execution_count": 36,
   "metadata": {},
   "outputs": [],
   "source": [
    "def XOR(x1, x2):\n",
    "    y_and = NAND(X[:, 0], X[:, 1])\n",
    "    y_or = OR(X[:, 0], X[:, 1])\n",
    "    y_and = AND(np.array(y_nand), np.array(y_or))\n",
    "    print(\"NAND:\",y_nand)\n",
    "    print(\"OR:\",y_or)\n",
    "    return y_and"
   ]
  },
  {
   "cell_type": "code",
   "execution_count": 37,
   "metadata": {},
   "outputs": [
    {
     "name": "stdout",
     "output_type": "stream",
     "text": [
      "NAND: [1, 1, 1, 0]\n",
      "OR: [0 1 1 1]\n"
     ]
    },
    {
     "data": {
      "text/plain": [
       "array([0, 1, 1, 0])"
      ]
     },
     "execution_count": 37,
     "metadata": {},
     "output_type": "execute_result"
    }
   ],
   "source": [
    "XOR(X[:, 0], X[:, 1])"
   ]
  },
  {
   "cell_type": "markdown",
   "metadata": {},
   "source": [
    "### 探索多层神经网络：层 vs h(z)"
   ]
  },
  {
   "cell_type": "markdown",
   "metadata": {},
   "source": [
    "#### 如果h(z)是线 性函数，或不存在，那增加再多的层也没有用。"
   ]
  },
  {
   "cell_type": "code",
   "execution_count": 38,
   "metadata": {},
   "outputs": [],
   "source": [
    "# 回忆一下XOR数据的真实标签\n",
    "y_xor = [0, 1, 1, 0]\n",
    "\n",
    "\n",
    "def AND(x1, x2):\n",
    "    w1, w2, b = 0.15, 0.15, -0.23\n",
    "    z = x1*w1 + x2*w2 + b\n",
    "    # 下面这一行就是阶跃函数的表达式，注意AND函数是在输出层，所以保留输出层的阶跃函数g(z)\n",
    "    y = [int(x) for x in z >= 0]\n",
    "    return y\n",
    "\n",
    "\n",
    "def OR(x1, x2):\n",
    "    w1, w2, b = 0.15, 0.15, -0.08\n",
    "    z = x1*w1 + x2*w2 + b\n",
    "    # y = [int(x) for x in z >= 0] #注释掉阶跃函数，相当于h(z)是恒等函数\n",
    "    return z\n",
    "\n",
    "\n",
    "def NAND(x1, x2):\n",
    "    w1, w2, b = -0.15, -0.15, 0.23\n",
    "    z = x1*w1 + x2*w2 + b\n",
    "    # y = [int(x) for x in z >= 0] #注释掉阶跃函数，相当于h(z)是恒等函数\n",
    "    return z\n",
    "\n",
    "\n",
    "def XOR(x1, x2):\n",
    "    z_nand = NAND(X[:, 0], X[:, 1])\n",
    "    z_or = OR(X[:, 0], X[:, 1])\n",
    "    y_and = AND(np.array(z_nand), np.array(z_or))\n",
    "    return y_and"
   ]
  },
  {
   "cell_type": "code",
   "execution_count": 39,
   "metadata": {},
   "outputs": [
    {
     "data": {
      "text/plain": [
       "[0, 0, 0, 0]"
      ]
     },
     "execution_count": 39,
     "metadata": {},
     "output_type": "execute_result"
    }
   ],
   "source": [
    "XOR(X[:, 0], X[:, 1])"
   ]
  },
  {
   "cell_type": "markdown",
   "metadata": {},
   "source": [
    "#### 使用sigmoid函数作为h(z)"
   ]
  },
  {
   "cell_type": "code",
   "execution_count": 40,
   "metadata": {},
   "outputs": [
    {
     "data": {
      "text/plain": [
       "[0, 0, 0, 0]"
      ]
     },
     "execution_count": 40,
     "metadata": {},
     "output_type": "execute_result"
    }
   ],
   "source": [
    "# 根据sigmoid公式定义sigmoid函数\n",
    "def sigmoid(z):\n",
    "    return 1/(1 + np.exp(-z))\n",
    "\n",
    "\n",
    "def AND_sigmoid(x1, x2):\n",
    "    w1, w2, b = 0.15, 0.15, -0.23\n",
    "    z = x1*w1 + x2*w2 + b\n",
    "    # AND函数是位于输出层的，这里是g(z)而非h(z)，因此不会受到将阶跃函数更换为sigmoid的影响\n",
    "    # g(z)依然是阶跃函数\n",
    "    y = [int(x) for x in z >= 0]\n",
    "    return y\n",
    "\n",
    "\n",
    "def OR_sigmoid(x1, x2):\n",
    "    w1, w2, b = 0.15, 0.15, -0.075\n",
    "    z = x1*w1 + x2*w2 + b\n",
    "    o = sigmoid(z)  # 这里是h(z)，我们使用sigmoid函数\n",
    "    return o\n",
    "\n",
    "\n",
    "def NAND_sigmoid(x1, x2):\n",
    "    w1, w2, b = -0.15, -0.15, 0.23\n",
    "    z = x1*w1 + x2*w2 + b\n",
    "    o = sigmoid(z)  # 这里是h(z)，我们使用sigmoid函数\n",
    "    return o\n",
    "\n",
    "\n",
    "def XOR_sigmoid(x1, x2):\n",
    "    o_nand = NAND_sigmoid(X[:, 0], X[:, 1])\n",
    "    o_or = OR_sigmoid(X[:, 0], X[:, 1])\n",
    "    y_and = AND_sigmoid(np.array(o_nand), np.array(o_or))\n",
    "    return y_and\n",
    "\n",
    "\n",
    "XOR_sigmoid(X[:, 0], X[:, 1])"
   ]
  },
  {
   "cell_type": "markdown",
   "metadata": {},
   "source": [
    "即便是使用了非线性的 h(z)，也不一定能够解决非线性的问题。在不适合的非线性函 数加持下，神经网络的层数再多也无法起效。"
   ]
  },
  {
   "cell_type": "markdown",
   "metadata": {},
   "source": [
    "### 激活函数"
   ]
  },
  {
   "cell_type": "markdown",
   "metadata": {},
   "source": [
    "#### h(z) vs g(z)"
   ]
  },
  {
   "cell_type": "code",
   "execution_count": 41,
   "metadata": {},
   "outputs": [],
   "source": [
    "# 如果g(z)是sigmoid函数，而h(z)是阶跃函数\n",
    "\n",
    "# 根据sigmoid公式定义sigmoid函数\n",
    "def sigmoid(z):\n",
    "    return 1/(1 + np.exp(-z))\n",
    "\n",
    "\n",
    "def AND_sigmoid(x1, x2):\n",
    "    w1, w2, b = 0.15, 0.15, -0.23\n",
    "    z = x1*w1 + x2*w2 + b\n",
    "    o = sigmoid(z)  # 输出层是sigmoid函数\n",
    "    y = [int(x) for x in o >= 0.5]  # 按0.5为阈值将结果化为0和1\n",
    "    return o, y\n",
    "\n",
    "\n",
    "def OR(x1, x2):\n",
    "    w1, w2, b = 0.15, 0.15, -0.075\n",
    "    z = x1*w1 + x2*w2 + b\n",
    "    o = [int(x) for x in z >= 0]  # 这里是h(z)，我们使用阶跃函数\n",
    "    return o\n",
    "\n",
    "\n",
    "def NAND(x1, x2):\n",
    "    w1, w2, b = -0.15, -0.15, 0.23\n",
    "    z = x1*w1 + x2*w2 + b\n",
    "    o = [int(x) for x in z >= 0]  # 这里是h(z)，我们使用阶跃函数\n",
    "    return o\n",
    "\n",
    "\n",
    "def XOR(x1, x2):\n",
    "    o_nand = NAND(X[:, 0], X[:, 1])\n",
    "    o_or = OR(X[:, 0], X[:, 1])\n",
    "    y_and = AND_sigmoid(np.array(o_nand), np.array(o_or))\n",
    "    return y_and"
   ]
  },
  {
   "cell_type": "code",
   "execution_count": 42,
   "metadata": {},
   "outputs": [
    {
     "data": {
      "text/plain": [
       "(array([0.48001066, 0.51749286, 0.51749286, 0.48001066]), [0, 1, 1, 0])"
      ]
     },
     "execution_count": 42,
     "metadata": {},
     "output_type": "execute_result"
    }
   ],
   "source": [
    "XOR(X[:, 0], X[:, 1])"
   ]
  },
  {
   "cell_type": "code",
   "execution_count": 43,
   "metadata": {},
   "outputs": [
    {
     "data": {
      "text/plain": [
       "[0, 1, 1, 0]"
      ]
     },
     "execution_count": 43,
     "metadata": {},
     "output_type": "execute_result"
    }
   ],
   "source": [
    "y_xor"
   ]
  },
  {
   "cell_type": "markdown",
   "metadata": {},
   "source": [
    "#### ReLU & tanh"
   ]
  },
  {
   "cell_type": "code",
   "execution_count": 44,
   "metadata": {},
   "outputs": [],
   "source": [
    "def relu(z):\n",
    "    import numpy as np\n",
    "    return np.maximum(0, z)"
   ]
  },
  {
   "cell_type": "code",
   "execution_count": 46,
   "metadata": {},
   "outputs": [
    {
     "data": {
      "text/plain": [
       "array([0. , 0. , 1. , 1.5])"
      ]
     },
     "execution_count": 46,
     "metadata": {},
     "output_type": "execute_result"
    }
   ],
   "source": [
    "relu(np.array([-1, -0.4, 1, 1.5]))"
   ]
  },
  {
   "cell_type": "markdown",
   "metadata": {},
   "source": [
    "### MLP多层感知机"
   ]
  },
  {
   "cell_type": "markdown",
   "metadata": {},
   "source": [
    "#### 隐藏层与神经元：重要参数hidden_layer_sizes"
   ]
  },
  {
   "cell_type": "markdown",
   "metadata": {},
   "source": [
    "1. 导入需要的数据和库，导入数据集"
   ]
  },
  {
   "cell_type": "code",
   "execution_count": 47,
   "metadata": {},
   "outputs": [],
   "source": [
    "import numpy as np\n",
    "from sklearn.neural_network import MLPClassifier as DNN\n",
    "from sklearn.model_selection import cross_val_score as cv\n",
    "from sklearn.datasets import load_breast_cancer\n",
    "from sklearn.ensemble import RandomForestClassifier as RFC\n",
    "from time import time\n",
    "import datetime"
   ]
  },
  {
   "cell_type": "code",
   "execution_count": 48,
   "metadata": {},
   "outputs": [
    {
     "data": {
      "text/plain": [
       "array([0, 0, 0, 0, 0, 0, 0, 0, 0, 0, 0, 0, 0, 0, 0, 0, 0, 0, 0, 1, 1, 1,\n",
       "       0, 0, 0, 0, 0, 0, 0, 0, 0, 0, 0, 0, 0, 0, 0, 1, 0, 0, 0, 0, 0, 0,\n",
       "       0, 0, 1, 0, 1, 1, 1, 1, 1, 0, 0, 1, 0, 0, 1, 1, 1, 1, 0, 1, 0, 0,\n",
       "       1, 1, 1, 1, 0, 1, 0, 0, 1, 0, 1, 0, 0, 1, 1, 1, 0, 0, 1, 0, 0, 0,\n",
       "       1, 1, 1, 0, 1, 1, 0, 0, 1, 1, 1, 0, 0, 1, 1, 1, 1, 0, 1, 1, 0, 1,\n",
       "       1, 1, 1, 1, 1, 1, 1, 0, 0, 0, 1, 0, 0, 1, 1, 1, 0, 0, 1, 0, 1, 0,\n",
       "       0, 1, 0, 0, 1, 1, 0, 1, 1, 0, 1, 1, 1, 1, 0, 1, 1, 1, 1, 1, 1, 1,\n",
       "       1, 1, 0, 1, 1, 1, 1, 0, 0, 1, 0, 1, 1, 0, 0, 1, 1, 0, 0, 1, 1, 1,\n",
       "       1, 0, 1, 1, 0, 0, 0, 1, 0, 1, 0, 1, 1, 1, 0, 1, 1, 0, 0, 1, 0, 0,\n",
       "       0, 0, 1, 0, 0, 0, 1, 0, 1, 0, 1, 1, 0, 1, 0, 0, 0, 0, 1, 1, 0, 0,\n",
       "       1, 1, 1, 0, 1, 1, 1, 1, 1, 0, 0, 1, 1, 0, 1, 1, 0, 0, 1, 0, 1, 1,\n",
       "       1, 1, 0, 1, 1, 1, 1, 1, 0, 1, 0, 0, 0, 0, 0, 0, 0, 0, 0, 0, 0, 0,\n",
       "       0, 0, 1, 1, 1, 1, 1, 1, 0, 1, 0, 1, 1, 0, 1, 1, 0, 1, 0, 0, 1, 1,\n",
       "       1, 1, 1, 1, 1, 1, 1, 1, 1, 1, 1, 0, 1, 1, 0, 1, 0, 1, 1, 1, 1, 1,\n",
       "       1, 1, 1, 1, 1, 1, 1, 1, 1, 0, 1, 1, 1, 0, 1, 0, 1, 1, 1, 1, 0, 0,\n",
       "       0, 1, 1, 1, 1, 0, 1, 0, 1, 0, 1, 1, 1, 0, 1, 1, 1, 1, 1, 1, 1, 0,\n",
       "       0, 0, 1, 1, 1, 1, 1, 1, 1, 1, 1, 1, 1, 0, 0, 1, 0, 0, 0, 1, 0, 0,\n",
       "       1, 1, 1, 1, 1, 0, 1, 1, 1, 1, 1, 0, 1, 1, 1, 0, 1, 1, 0, 0, 1, 1,\n",
       "       1, 1, 1, 1, 0, 1, 1, 1, 1, 1, 1, 1, 0, 1, 1, 1, 1, 1, 0, 1, 1, 0,\n",
       "       1, 1, 1, 1, 1, 1, 1, 1, 1, 1, 1, 1, 0, 1, 0, 0, 1, 0, 1, 1, 1, 1,\n",
       "       1, 0, 1, 1, 0, 1, 0, 1, 1, 0, 1, 0, 1, 1, 1, 1, 1, 1, 1, 1, 0, 0,\n",
       "       1, 1, 1, 1, 1, 1, 0, 1, 1, 1, 1, 1, 1, 1, 1, 1, 1, 0, 1, 1, 1, 1,\n",
       "       1, 1, 1, 0, 1, 0, 1, 1, 0, 1, 1, 1, 1, 1, 0, 0, 1, 0, 1, 0, 1, 1,\n",
       "       1, 1, 1, 0, 1, 1, 0, 1, 0, 1, 0, 0, 1, 1, 1, 0, 1, 1, 1, 1, 1, 1,\n",
       "       1, 1, 1, 1, 1, 0, 1, 0, 0, 1, 1, 1, 1, 1, 1, 1, 1, 1, 1, 1, 1, 1,\n",
       "       1, 1, 1, 1, 1, 1, 1, 1, 1, 1, 1, 1, 0, 0, 0, 0, 0, 0, 1])"
      ]
     },
     "execution_count": 48,
     "metadata": {},
     "output_type": "execute_result"
    }
   ],
   "source": [
    "# 先使用机器学习中的数据来试试看神经网络的效果\n",
    "data = load_breast_cancer()\n",
    "X = data.data\n",
    "y = data.target\n",
    "\n",
    "y  # 二分类"
   ]
  },
  {
   "cell_type": "markdown",
   "metadata": {},
   "source": [
    "2. 建模，使用交叉验证导出分数"
   ]
  },
  {
   "cell_type": "code",
   "execution_count": 49,
   "metadata": {},
   "outputs": [
    {
     "data": {
      "text/plain": [
       "0.9349945660611707"
      ]
     },
     "execution_count": 49,
     "metadata": {},
     "output_type": "execute_result"
    }
   ],
   "source": [
    "dnn = DNN(hidden_layer_sizes=(200,),\n",
    "          random_state=420  # random_state控制着神经网络上的某些随机性， 你能够猜到一些吗？\n",
    "          )\n",
    "# 这样，一个简单的神经网络就实例化完毕了\n",
    "cv(dnn, X, y, cv=5).mean()"
   ]
  },
  {
   "cell_type": "code",
   "execution_count": 50,
   "metadata": {},
   "outputs": [
    {
     "data": {
      "text/plain": [
       "array([0, 0, 0, 0, 0, 0, 0, 0, 0, 0, 0, 0, 0, 0, 1, 0, 0, 0, 0, 1, 1, 1,\n",
       "       0, 0, 0, 0, 0, 0, 0, 0, 0, 0, 0, 0, 0, 0, 0, 1, 0, 0, 0, 1, 0, 0,\n",
       "       0, 0, 1, 0, 1, 1, 1, 1, 1, 0, 0, 1, 0, 0, 1, 1, 1, 1, 0, 1, 0, 0,\n",
       "       1, 1, 1, 1, 0, 1, 0, 0, 1, 0, 1, 0, 0, 1, 1, 1, 0, 0, 1, 0, 0, 0,\n",
       "       1, 1, 0, 0, 0, 1, 0, 0, 1, 1, 1, 0, 0, 1, 1, 1, 1, 0, 1, 1, 0, 1,\n",
       "       1, 1, 1, 1, 1, 1, 1, 0, 0, 0, 1, 0, 0, 1, 1, 1, 0, 0, 1, 0, 1, 0,\n",
       "       0, 0, 0, 0, 1, 1, 0, 1, 1, 0, 1, 1, 1, 1, 1, 0, 1, 1, 1, 1, 1, 1,\n",
       "       1, 1, 0, 0, 1, 1, 1, 0, 0, 1, 0, 1, 1, 0, 0, 1, 1, 0, 0, 1, 1, 1,\n",
       "       1, 0, 1, 1, 0, 0, 0, 1, 0, 1, 0, 1, 1, 1, 0, 1, 1, 0, 1, 1, 0, 0,\n",
       "       0, 0, 0, 0, 0, 0, 0, 0, 1, 0, 1, 0, 0, 1, 0, 0, 0, 0, 1, 1, 0, 0,\n",
       "       1, 1, 1, 0, 1, 0, 1, 1, 1, 0, 0, 1, 1, 0, 1, 1, 0, 0, 0, 0, 1, 1,\n",
       "       1, 1, 0, 1, 1, 1, 1, 1, 0, 1, 0, 0, 0, 0, 0, 0, 0, 0, 0, 0, 0, 0,\n",
       "       0, 0, 1, 1, 1, 1, 1, 1, 0, 1, 0, 1, 1, 0, 1, 1, 0, 1, 0, 0, 1, 1,\n",
       "       1, 1, 1, 1, 1, 1, 1, 1, 1, 1, 1, 1, 0, 1, 0, 1, 0, 1, 1, 1, 1, 1,\n",
       "       1, 1, 1, 0, 1, 1, 1, 1, 1, 0, 1, 1, 1, 0, 1, 0, 1, 1, 1, 1, 0, 0,\n",
       "       0, 1, 1, 1, 1, 0, 1, 0, 1, 0, 0, 1, 1, 0, 1, 1, 1, 0, 1, 1, 1, 0,\n",
       "       0, 0, 1, 1, 1, 1, 1, 1, 1, 1, 1, 0, 1, 0, 0, 1, 0, 0, 0, 1, 0, 0,\n",
       "       1, 1, 1, 1, 1, 0, 1, 1, 1, 1, 1, 0, 1, 1, 1, 0, 1, 1, 0, 0, 1, 1,\n",
       "       1, 1, 1, 1, 0, 1, 1, 1, 1, 1, 0, 1, 0, 1, 1, 1, 1, 0, 0, 1, 1, 0,\n",
       "       1, 1, 1, 1, 1, 1, 1, 1, 1, 1, 1, 1, 0, 1, 0, 0, 1, 0, 1, 1, 1, 1,\n",
       "       1, 0, 1, 1, 0, 1, 0, 1, 0, 0, 1, 0, 1, 1, 1, 0, 1, 1, 1, 1, 0, 0,\n",
       "       1, 1, 1, 0, 1, 1, 0, 1, 1, 0, 0, 1, 1, 1, 0, 1, 1, 0, 1, 0, 1, 1,\n",
       "       1, 1, 0, 0, 1, 0, 1, 0, 0, 1, 1, 1, 1, 1, 0, 0, 1, 0, 1, 0, 1, 1,\n",
       "       1, 1, 0, 0, 1, 1, 0, 0, 0, 1, 0, 0, 1, 1, 1, 0, 1, 1, 1, 1, 1, 1,\n",
       "       1, 1, 1, 1, 0, 0, 1, 0, 1, 1, 1, 1, 1, 0, 0, 1, 1, 0, 1, 1, 1, 0,\n",
       "       1, 1, 1, 1, 1, 1, 1, 1, 1, 1, 1, 1, 0, 0, 0, 0, 0, 0, 1])"
      ]
     },
     "execution_count": 50,
     "metadata": {},
     "output_type": "execute_result"
    }
   ],
   "source": [
    "# 接口predict：预测出结果，由于之前在交叉验证中的训练不会被记录，因此需要重新训练\n",
    "dnn.fit(X, y).predict(X)"
   ]
  },
  {
   "cell_type": "code",
   "execution_count": 64,
   "metadata": {},
   "outputs": [
    {
     "data": {
      "text/plain": [
       "array([[1.00000000e+00, 5.80211596e-25],\n",
       "       [1.00000000e+00, 1.00641444e-14],\n",
       "       [9.99999999e-01, 6.28745603e-10],\n",
       "       ...,\n",
       "       [9.99497591e-01, 5.02409394e-04],\n",
       "       [1.00000000e+00, 2.79983276e-11],\n",
       "       [1.45552433e-01, 8.54447567e-01]])"
      ]
     },
     "execution_count": 64,
     "metadata": {},
     "output_type": "execute_result"
    }
   ],
   "source": [
    "# 接口predict_proba：返回预测的概率\n",
    "dnn.fit(X, y).predict_proba(X)"
   ]
  },
  {
   "cell_type": "code",
   "execution_count": 65,
   "metadata": {},
   "outputs": [
    {
     "name": "stdout",
     "output_type": "stream",
     "text": [
      "0.9349945660611707\n",
      "1.201362133026123\n"
     ]
    }
   ],
   "source": [
    "# 看看运行时间如何\n",
    "times = time()\n",
    "dnn = DNN(hidden_layer_sizes=(200,), random_state=420)\n",
    "print(cv(dnn, X, y, cv=5).mean())\n",
    "print(time() - times)"
   ]
  },
  {
   "cell_type": "code",
   "execution_count": 66,
   "metadata": {},
   "outputs": [
    {
     "name": "stdout",
     "output_type": "stream",
     "text": [
      "0.9613414066138798\n",
      "1.5502710342407227\n"
     ]
    }
   ],
   "source": [
    "# 使用随机森林进行一个对比\n",
    "times = time()\n",
    "clf_rfc = RFC(n_estimators=200, random_state=420)\n",
    "print(cv(clf_rfc, X, y, cv=5).mean())\n",
    "print(time() - times)"
   ]
  },
  {
   "cell_type": "markdown",
   "metadata": {},
   "source": [
    "3. 使用参数hidden_layer_sizes"
   ]
  },
  {
   "cell_type": "code",
   "execution_count": 77,
   "metadata": {},
   "outputs": [
    {
     "name": "stdout",
     "output_type": "stream",
     "text": [
      "0.934979040521658\n",
      "1.0657610893249512\n"
     ]
    }
   ],
   "source": [
    "times = time()\n",
    "dnn = DNN(hidden_layer_sizes=(50), random_state=420)\n",
    "print(cv(dnn, X, y, cv=5).mean())\n",
    "print(time() - times)\n",
    "# 试试看不用的神经元个数组合：(50,50),(50,100),(100,50),(100,100,100)\n",
    "# 不断调整hidden_layer_sizes中输入的内容，你发现了什么？\n",
    "# 来试试看，(70,)"
   ]
  },
  {
   "cell_type": "code",
   "execution_count": 78,
   "metadata": {},
   "outputs": [
    {
     "data": {
      "text/plain": [
       "3"
      ]
     },
     "execution_count": 78,
     "metadata": {},
     "output_type": "execute_result"
    }
   ],
   "source": [
    "# 使用重要属性n_layers_，显示神经网络的层数\n",
    "dnn.fit(X, y).n_layers_\n",
    "# 这里返回的层数将输入层和输出层也考虑在其中"
   ]
  },
  {
   "cell_type": "code",
   "execution_count": 79,
   "metadata": {},
   "outputs": [
    {
     "data": {
      "text/plain": [
       "array([0, 1])"
      ]
     },
     "execution_count": 79,
     "metadata": {},
     "output_type": "execute_result"
    }
   ],
   "source": [
    "# 重要属性classes_，查看返回结果中一共有多少个类别\n",
    "dnn.fit(X, y).classes_"
   ]
  },
  {
   "cell_type": "code",
   "execution_count": 80,
   "metadata": {},
   "outputs": [
    {
     "data": {
      "text/plain": [
       "1"
      ]
     },
     "execution_count": 80,
     "metadata": {},
     "output_type": "execute_result"
    }
   ],
   "source": [
    "# 重要属性n_outputs_，显示输出层上神经元的个数（即输出结果的个数）\n",
    "# 试想下二分类神经网络对应的g(z)和我们之前总结的规律，应该很容易就能够判断这里会 输出几\n",
    "dnn.fit(X, y).n_outputs_"
   ]
  },
  {
   "cell_type": "code",
   "execution_count": 81,
   "metadata": {},
   "outputs": [
    {
     "name": "stderr",
     "output_type": "stream",
     "text": [
      "/Users/cool/.pyenv/versions/3.8.5/lib/python3.8/site-packages/sklearn/neural_network/_multilayer_perceptron.py:582: ConvergenceWarning: Stochastic Optimizer: Maximum iterations (200) reached and the optimization hasn't converged yet.\n",
      "  warnings.warn(\n"
     ]
    },
    {
     "data": {
      "text/plain": [
       "10"
      ]
     },
     "execution_count": 81,
     "metadata": {},
     "output_type": "execute_result"
    }
   ],
   "source": [
    "# 如果更换数据，n_outputs会返回多少？\n",
    "from sklearn.datasets import load_digits\n",
    "dnn.fit(load_digits().data, load_digits().target).n_outputs_"
   ]
  },
  {
   "cell_type": "code",
   "execution_count": 82,
   "metadata": {},
   "outputs": [
    {
     "data": {
      "text/plain": [
       "array([0, 1, 2, 3, 4, 5, 6, 7, 8, 9])"
      ]
     },
     "execution_count": 82,
     "metadata": {},
     "output_type": "execute_result"
    }
   ],
   "source": [
    "np.unique(load_digits().target)"
   ]
  },
  {
   "cell_type": "markdown",
   "metadata": {},
   "source": [
    "4. 提升神经网络效果的有效方法：归一化"
   ]
  },
  {
   "cell_type": "code",
   "execution_count": 83,
   "metadata": {},
   "outputs": [],
   "source": [
    "from sklearn.preprocessing import StandardScaler as SS"
   ]
  },
  {
   "cell_type": "code",
   "execution_count": 84,
   "metadata": {},
   "outputs": [],
   "source": [
    "X_ = SS().fit_transform(X)"
   ]
  },
  {
   "cell_type": "code",
   "execution_count": 86,
   "metadata": {},
   "outputs": [
    {
     "name": "stdout",
     "output_type": "stream",
     "text": [
      "0.9806862288464524\n",
      "2.1518898010253906\n"
     ]
    }
   ],
   "source": [
    "times = time()\n",
    "dnn = DNN(hidden_layer_sizes=(200, 50), random_state=420)\n",
    "print(cv(dnn, X_, y, cv=5).mean())\n",
    "print(time() - times)\n",
    "# 最终的结果显示，(200,50)是一个比较有效的组合"
   ]
  },
  {
   "cell_type": "markdown",
   "metadata": {},
   "source": [
    "#### 激活函数：重要参数activation"
   ]
  },
  {
   "cell_type": "code",
   "execution_count": 88,
   "metadata": {},
   "outputs": [
    {
     "name": "stdout",
     "output_type": "stream",
     "text": [
      "identity 0.9613724576929048\n",
      "2.007845163345337\n",
      "logistic 0.9666356155876418\n",
      "7.091061115264893\n",
      "tanh 0.9754385964912281\n",
      "3.5398380756378174\n",
      "relu 0.9806862288464524\n",
      "1.9739201068878174\n"
     ]
    }
   ],
   "source": [
    "for activef in ['identity', 'logistic', 'tanh', 'relu']:\n",
    "    times = time()\n",
    "    dnn = DNN(hidden_layer_sizes=(200, 50),\n",
    "              activation=activef,\n",
    "              max_iter=2000,\n",
    "              random_state=420\n",
    "              )\n",
    "    print(activef, cv(dnn, X_, y, cv=5).mean())\n",
    "    print(time() - times)"
   ]
  },
  {
   "cell_type": "code",
   "execution_count": 89,
   "metadata": {},
   "outputs": [
    {
     "data": {
      "text/plain": [
       "'logistic'"
      ]
     },
     "execution_count": 89,
     "metadata": {},
     "output_type": "execute_result"
    }
   ],
   "source": [
    "# 重要属性out_activation_，猜猜它会返回什么内容？\n",
    "\n",
    "dnn.fit(X, y).out_activation_"
   ]
  },
  {
   "cell_type": "code",
   "execution_count": 90,
   "metadata": {},
   "outputs": [
    {
     "data": {
      "text/plain": [
       "'softmax'"
      ]
     },
     "execution_count": 90,
     "metadata": {},
     "output_type": "execute_result"
    }
   ],
   "source": [
    "# 如果更换数据，out_activation_会返回什么结果？\n",
    "\n",
    "dnn.fit(load_digits().data, load_digits().target).out_activation_"
   ]
  },
  {
   "cell_type": "code",
   "execution_count": 91,
   "metadata": {},
   "outputs": [],
   "source": [
    "# 很明显，属性out_activation_返回的是g(z)，而参数activation控制的是h(z)。"
   ]
  },
  {
   "cell_type": "markdown",
   "metadata": {},
   "source": [
    "## 神经网络学习"
   ]
  },
  {
   "cell_type": "markdown",
   "metadata": {},
   "source": [
    "### 神经网络学习的基本思想"
   ]
  },
  {
   "cell_type": "code",
   "execution_count": 93,
   "metadata": {
    "scrolled": true
   },
   "outputs": [
    {
     "name": "stdout",
     "output_type": "stream",
     "text": [
      "adam 0.9806862288464524\n",
      "1.9451310634613037\n",
      "lbfgs 0.9648967551622419\n",
      "0.5077519416809082\n",
      "sgd 0.9736531594472908\n",
      "5.633463144302368\n"
     ]
    }
   ],
   "source": [
    "for solver_ in ['adam', 'lbfgs', 'sgd']:\n",
    "    times = time()\n",
    "    dnn = DNN(hidden_layer_sizes=(200, 50),\n",
    "              solver=solver_,\n",
    "              activation='relu',\n",
    "              max_iter=2000,  # 如果设置较小的max_iter会发生什么？\n",
    "              random_state=420\n",
    "              )\n",
    "    print(solver_, cv(dnn, X_, y, cv=5).mean())\n",
    "    print(time() - times)"
   ]
  },
  {
   "cell_type": "markdown",
   "metadata": {},
   "source": [
    "#### mini-batch SGD"
   ]
  },
  {
   "cell_type": "code",
   "execution_count": 94,
   "metadata": {},
   "outputs": [
    {
     "data": {
      "text/plain": [
       "(569, 30)"
      ]
     },
     "execution_count": 94,
     "metadata": {},
     "output_type": "execute_result"
    }
   ],
   "source": [
    "# 看看乳腺癌数据集的结构，注意到这是一个非常小的数据集\n",
    "\n",
    "X_.shape"
   ]
  },
  {
   "cell_type": "code",
   "execution_count": 95,
   "metadata": {},
   "outputs": [
    {
     "data": {
      "text/plain": [
       "1.0"
      ]
     },
     "execution_count": 95,
     "metadata": {},
     "output_type": "execute_result"
    }
   ],
   "source": [
    "# 建立神经网络\n",
    "dnn = DNN(hidden_layer_sizes=(20,),\n",
    "          activation='relu',\n",
    "          batch_size=20,  # 批量大小N_B\n",
    "          shuffle=True,  # 是否随机选取\n",
    "          max_iter=500,  # 从参数的样子来看是最大迭代次数的意思，和逻辑回归中 相似，暂时不用去管\n",
    "          random_state=420\n",
    "          )\n",
    "dnn = dnn.fit(X_, y)\n",
    "\n",
    "# 接口score\n",
    "dnn.score(X_, y)"
   ]
  },
  {
   "cell_type": "code",
   "execution_count": 96,
   "metadata": {},
   "outputs": [
    {
     "data": {
      "text/plain": [
       "237"
      ]
     },
     "execution_count": 96,
     "metadata": {},
     "output_type": "execute_result"
    }
   ],
   "source": [
    "# 重要属性n_iter_\n",
    "# 注意，只有训练完毕的模型才存在该属性，使用交叉验证时无法获取模型的实际迭代次数\n",
    "\n",
    "dnn.n_iter_"
   ]
  },
  {
   "cell_type": "code",
   "execution_count": 98,
   "metadata": {},
   "outputs": [],
   "source": [
    "import datetime"
   ]
  },
  {
   "cell_type": "code",
   "execution_count": 100,
   "metadata": {},
   "outputs": [
    {
     "name": "stdout",
     "output_type": "stream",
     "text": [
      "batch_size: 450\n",
      "\t time: 00:01:287731\n",
      "\t cv value: 0.9771619313771154 4.892292503671222e-05\n",
      "\n",
      "batch_size: 200\n",
      "\t time: 00:02:156664\n",
      "\t cv value: 0.9789318428815401 7.964425808976153e-05\n",
      "\n",
      "batch_size: 50\n",
      "\t time: 00:04:286932\n",
      "\t cv value: 0.9753764943331781 4.4413022160158524e-05\n",
      "\n"
     ]
    }
   ],
   "source": [
    "# 试试看不同batch_size下的测试分数结果\n",
    "for size in [450, 200, 50]:\n",
    "    dnn = DNN(hidden_layer_sizes=(20,),\n",
    "              activation='relu',\n",
    "              batch_size=size,  # 批量大小N_B\n",
    "              shuffle=True,  # 是否随机选取\n",
    "              max_iter=500,  # 从参数的样子来看是最大迭代次数的意思，和逻辑回归中 相似，暂时不用去管\n",
    "              random_state=420\n",
    "              )\n",
    "    times = time()\n",
    "    cvresult = cv(dnn, X_, y, cv=5)  # 交叉验证\n",
    "    usedtime = time() - times\n",
    "    acc, var = cvresult.mean(), cvresult.var()\n",
    "    print(\"batch_size:\", size)\n",
    "    print(\"\\t time:\", datetime.datetime.fromtimestamp(\n",
    "        usedtime).strftime(\"%M:%S:%f\"))\n",
    "    print(\"\\t cv value:\", acc, var)  # 返回交叉验证的均值和方差\n",
    "    print(\"\")"
   ]
  },
  {
   "cell_type": "markdown",
   "metadata": {},
   "source": [
    "#### 更换成更大的数据集"
   ]
  },
  {
   "cell_type": "code",
   "execution_count": 101,
   "metadata": {},
   "outputs": [],
   "source": [
    "import pandas as pd"
   ]
  },
  {
   "cell_type": "code",
   "execution_count": 102,
   "metadata": {},
   "outputs": [],
   "source": [
    "# 导入神经网络入门数据MNIST \n",
    "#这是手写数字数据集，我们以前经常使用的sklearn中的load_digits就是从MNIST中 提取出来的1700多条数据\n",
    "data = pd.read_csv('./mnist-in-csv/mnist_train.csv')"
   ]
  },
  {
   "cell_type": "code",
   "execution_count": 103,
   "metadata": {},
   "outputs": [
    {
     "data": {
      "text/plain": [
       "(60000, 785)"
      ]
     },
     "execution_count": 103,
     "metadata": {},
     "output_type": "execute_result"
    }
   ],
   "source": [
    "data.shape"
   ]
  },
  {
   "cell_type": "code",
   "execution_count": 104,
   "metadata": {},
   "outputs": [
    {
     "data": {
      "text/html": [
       "<div>\n",
       "<style scoped>\n",
       "    .dataframe tbody tr th:only-of-type {\n",
       "        vertical-align: middle;\n",
       "    }\n",
       "\n",
       "    .dataframe tbody tr th {\n",
       "        vertical-align: top;\n",
       "    }\n",
       "\n",
       "    .dataframe thead th {\n",
       "        text-align: right;\n",
       "    }\n",
       "</style>\n",
       "<table border=\"1\" class=\"dataframe\">\n",
       "  <thead>\n",
       "    <tr style=\"text-align: right;\">\n",
       "      <th></th>\n",
       "      <th>label</th>\n",
       "      <th>1x1</th>\n",
       "      <th>1x2</th>\n",
       "      <th>1x3</th>\n",
       "      <th>1x4</th>\n",
       "      <th>1x5</th>\n",
       "      <th>1x6</th>\n",
       "      <th>1x7</th>\n",
       "      <th>1x8</th>\n",
       "      <th>1x9</th>\n",
       "      <th>...</th>\n",
       "      <th>28x19</th>\n",
       "      <th>28x20</th>\n",
       "      <th>28x21</th>\n",
       "      <th>28x22</th>\n",
       "      <th>28x23</th>\n",
       "      <th>28x24</th>\n",
       "      <th>28x25</th>\n",
       "      <th>28x26</th>\n",
       "      <th>28x27</th>\n",
       "      <th>28x28</th>\n",
       "    </tr>\n",
       "  </thead>\n",
       "  <tbody>\n",
       "    <tr>\n",
       "      <th>0</th>\n",
       "      <td>5</td>\n",
       "      <td>0</td>\n",
       "      <td>0</td>\n",
       "      <td>0</td>\n",
       "      <td>0</td>\n",
       "      <td>0</td>\n",
       "      <td>0</td>\n",
       "      <td>0</td>\n",
       "      <td>0</td>\n",
       "      <td>0</td>\n",
       "      <td>...</td>\n",
       "      <td>0</td>\n",
       "      <td>0</td>\n",
       "      <td>0</td>\n",
       "      <td>0</td>\n",
       "      <td>0</td>\n",
       "      <td>0</td>\n",
       "      <td>0</td>\n",
       "      <td>0</td>\n",
       "      <td>0</td>\n",
       "      <td>0</td>\n",
       "    </tr>\n",
       "    <tr>\n",
       "      <th>1</th>\n",
       "      <td>0</td>\n",
       "      <td>0</td>\n",
       "      <td>0</td>\n",
       "      <td>0</td>\n",
       "      <td>0</td>\n",
       "      <td>0</td>\n",
       "      <td>0</td>\n",
       "      <td>0</td>\n",
       "      <td>0</td>\n",
       "      <td>0</td>\n",
       "      <td>...</td>\n",
       "      <td>0</td>\n",
       "      <td>0</td>\n",
       "      <td>0</td>\n",
       "      <td>0</td>\n",
       "      <td>0</td>\n",
       "      <td>0</td>\n",
       "      <td>0</td>\n",
       "      <td>0</td>\n",
       "      <td>0</td>\n",
       "      <td>0</td>\n",
       "    </tr>\n",
       "    <tr>\n",
       "      <th>2</th>\n",
       "      <td>4</td>\n",
       "      <td>0</td>\n",
       "      <td>0</td>\n",
       "      <td>0</td>\n",
       "      <td>0</td>\n",
       "      <td>0</td>\n",
       "      <td>0</td>\n",
       "      <td>0</td>\n",
       "      <td>0</td>\n",
       "      <td>0</td>\n",
       "      <td>...</td>\n",
       "      <td>0</td>\n",
       "      <td>0</td>\n",
       "      <td>0</td>\n",
       "      <td>0</td>\n",
       "      <td>0</td>\n",
       "      <td>0</td>\n",
       "      <td>0</td>\n",
       "      <td>0</td>\n",
       "      <td>0</td>\n",
       "      <td>0</td>\n",
       "    </tr>\n",
       "    <tr>\n",
       "      <th>3</th>\n",
       "      <td>1</td>\n",
       "      <td>0</td>\n",
       "      <td>0</td>\n",
       "      <td>0</td>\n",
       "      <td>0</td>\n",
       "      <td>0</td>\n",
       "      <td>0</td>\n",
       "      <td>0</td>\n",
       "      <td>0</td>\n",
       "      <td>0</td>\n",
       "      <td>...</td>\n",
       "      <td>0</td>\n",
       "      <td>0</td>\n",
       "      <td>0</td>\n",
       "      <td>0</td>\n",
       "      <td>0</td>\n",
       "      <td>0</td>\n",
       "      <td>0</td>\n",
       "      <td>0</td>\n",
       "      <td>0</td>\n",
       "      <td>0</td>\n",
       "    </tr>\n",
       "    <tr>\n",
       "      <th>4</th>\n",
       "      <td>9</td>\n",
       "      <td>0</td>\n",
       "      <td>0</td>\n",
       "      <td>0</td>\n",
       "      <td>0</td>\n",
       "      <td>0</td>\n",
       "      <td>0</td>\n",
       "      <td>0</td>\n",
       "      <td>0</td>\n",
       "      <td>0</td>\n",
       "      <td>...</td>\n",
       "      <td>0</td>\n",
       "      <td>0</td>\n",
       "      <td>0</td>\n",
       "      <td>0</td>\n",
       "      <td>0</td>\n",
       "      <td>0</td>\n",
       "      <td>0</td>\n",
       "      <td>0</td>\n",
       "      <td>0</td>\n",
       "      <td>0</td>\n",
       "    </tr>\n",
       "  </tbody>\n",
       "</table>\n",
       "<p>5 rows × 785 columns</p>\n",
       "</div>"
      ],
      "text/plain": [
       "   label  1x1  1x2  1x3  1x4  1x5  1x6  1x7  1x8  1x9  ...  28x19  28x20  \\\n",
       "0      5    0    0    0    0    0    0    0    0    0  ...      0      0   \n",
       "1      0    0    0    0    0    0    0    0    0    0  ...      0      0   \n",
       "2      4    0    0    0    0    0    0    0    0    0  ...      0      0   \n",
       "3      1    0    0    0    0    0    0    0    0    0  ...      0      0   \n",
       "4      9    0    0    0    0    0    0    0    0    0  ...      0      0   \n",
       "\n",
       "   28x21  28x22  28x23  28x24  28x25  28x26  28x27  28x28  \n",
       "0      0      0      0      0      0      0      0      0  \n",
       "1      0      0      0      0      0      0      0      0  \n",
       "2      0      0      0      0      0      0      0      0  \n",
       "3      0      0      0      0      0      0      0      0  \n",
       "4      0      0      0      0      0      0      0      0  \n",
       "\n",
       "[5 rows x 785 columns]"
      ]
     },
     "execution_count": 104,
     "metadata": {},
     "output_type": "execute_result"
    }
   ],
   "source": [
    "data.head()"
   ]
  },
  {
   "cell_type": "code",
   "execution_count": 105,
   "metadata": {},
   "outputs": [],
   "source": [
    "datay = data.iloc[:, 0]\n",
    "datax = data.iloc[:, 1:]"
   ]
  },
  {
   "cell_type": "code",
   "execution_count": 106,
   "metadata": {},
   "outputs": [],
   "source": [
    "from sklearn.preprocessing import StandardScaler as SS\n",
    "datax_ = SS().fit_transform(datax)"
   ]
  },
  {
   "cell_type": "code",
   "execution_count": 108,
   "metadata": {},
   "outputs": [
    {
     "name": "stdout",
     "output_type": "stream",
     "text": [
      "batch_size: 60000\n",
      "\t time: 10:39:177924\n",
      "\t acc: 0.9646333333333333\n",
      "\t actual iter: 774\n",
      "\t actual seen data amount: 46440000\n",
      "\n",
      "batch_size: 10000\n",
      "\t time: 09:24:239203\n",
      "\t acc: 0.99535\n",
      "\t actual iter: 689\n",
      "\t actual seen data amount: 6890000\n",
      "\n",
      "batch_size: 5000\n",
      "\t time: 08:18:141077\n",
      "\t acc: 0.9996333333333334\n",
      "\t actual iter: 613\n",
      "\t actual seen data amount: 3065000\n",
      "\n",
      "batch_size: 1000\n",
      "\t time: 04:55:844825\n",
      "\t acc: 0.9999166666666667\n",
      "\t actual iter: 335\n",
      "\t actual seen data amount: 335000\n",
      "\n",
      "batch_size: 200\n",
      "\t time: 04:04:480439\n",
      "\t acc: 0.99995\n",
      "\t actual iter: 243\n",
      "\t actual seen data amount: 48600\n",
      "\n"
     ]
    }
   ],
   "source": [
    "# 在该数据集的基础上，建立不同batch_size的神经网络\n",
    "for size in [60000, 10000, 5000, 1000, 200]:\n",
    "    dnn = DNN(hidden_layer_sizes=(20,),\n",
    "              activation='relu',\n",
    "              batch_size=size,  # 批量大小N_B\n",
    "              max_iter=3000,\n",
    "              random_state=420\n",
    "              )\n",
    "    times = time()\n",
    "    model = dnn.fit(datax_, datay)  # 为了更快的计算速度而不使用交叉验证\n",
    "    result = model.score(datax_, datay)\n",
    "    print(\"batch_size:\", size)\n",
    "    print(\"\\t time:\", datetime.datetime.fromtimestamp(\n",
    "        time() - times).strftime(\"%M:%S:%f\"))  # 运行时间\n",
    "    print(\"\\t acc:\", result)  # 运行结果\n",
    "    print(\"\\t actual iter:\", model.n_iter_)  # 在这里由于没有使用交叉验证，可以查看模型实际的迭代次数\n",
    "    # 迭代次数*每次迭代时使用的数据，就可以看到真实的“算法遍历了多少数据”\n",
    "    print(\"\\t actual seen data amount:\", model.n_iter_ * size)\n",
    "    print(\"\")"
   ]
  },
  {
   "cell_type": "markdown",
   "metadata": {},
   "source": [
    "### 神经网络的学习流程"
   ]
  },
  {
   "cell_type": "markdown",
   "metadata": {},
   "source": [
    "#### 第一轮迭代：全数据，小批量，epochs"
   ]
  },
  {
   "cell_type": "code",
   "execution_count": 109,
   "metadata": {},
   "outputs": [
    {
     "name": "stdout",
     "output_type": "stream",
     "text": [
      "batch_size: 450\n",
      "\t time: 00:01:275362\n",
      "\t cv value: 0.9771619313771154 4.892292503671222e-05\n",
      "\t 完成一个epoch所需要的迭代次数: 1.0115555555555558\n",
      "\n",
      "batch_size: 200\n",
      "\t time: 00:02:191194\n",
      "\t cv value: 0.9789318428815401 7.964425808976153e-05\n",
      "\t 完成一个epoch所需要的迭代次数: 2.2760000000000002\n",
      "\n",
      "batch_size: 50\n",
      "\t time: 00:04:356731\n",
      "\t cv value: 0.9753764943331781 4.4413022160158524e-05\n",
      "\t 完成一个epoch所需要的迭代次数: 9.104000000000001\n",
      "\n"
     ]
    }
   ],
   "source": [
    "for size in [450, 200, 50]:\n",
    "    dnn = DNN(hidden_layer_sizes=(20,),\n",
    "              activation='relu',\n",
    "              batch_size=size,  # 批量大小N_B\n",
    "              max_iter=500,\n",
    "              random_state=420\n",
    "              )\n",
    "    times = time()\n",
    "    cvresult = cv(dnn, X_, y, cv=5)\n",
    "    usedtime = time() - times\n",
    "    acc, var = cvresult.mean(), cvresult.var()\n",
    "    print(\"batch_size:\", size)\n",
    "    print(\"\\t time:\", datetime.datetime.fromtimestamp(\n",
    "        usedtime).strftime(\"%M:%S:%f\"))  # 运行时间\n",
    "    print(\"\\t cv value:\", acc, var)  # 返回交叉验证的均值和方差\n",
    "    print(\"\\t 完成一个epoch所需要的迭代次数:\", X_.shape[0]*0.8/size)\n",
    "    print(\"\")"
   ]
  },
  {
   "cell_type": "code",
   "execution_count": 111,
   "metadata": {},
   "outputs": [
    {
     "name": "stderr",
     "output_type": "stream",
     "text": [
      "/Users/cool/.pyenv/versions/3.8.5/lib/python3.8/site-packages/sklearn/neural_network/_multilayer_perceptron.py:582: ConvergenceWarning: Stochastic Optimizer: Maximum iterations (200) reached and the optimization hasn't converged yet.\n",
      "  warnings.warn(\n"
     ]
    },
    {
     "name": "stdout",
     "output_type": "stream",
     "text": [
      "batch_size: 450\n",
      "\t time: 00:00:184113\n",
      "\t result: 0.9894551845342706\n",
      "\t actual iter: 200\n",
      "\t 完成一个epoch所需要的迭代次数: 1.0115555555555558\n",
      "\n"
     ]
    },
    {
     "name": "stderr",
     "output_type": "stream",
     "text": [
      "/Users/cool/.pyenv/versions/3.8.5/lib/python3.8/site-packages/sklearn/neural_network/_multilayer_perceptron.py:582: ConvergenceWarning: Stochastic Optimizer: Maximum iterations (200) reached and the optimization hasn't converged yet.\n",
      "  warnings.warn(\n"
     ]
    },
    {
     "name": "stdout",
     "output_type": "stream",
     "text": [
      "batch_size: 200\n",
      "\t time: 00:00:238927\n",
      "\t result: 0.9929701230228472\n",
      "\t actual iter: 200\n",
      "\t 完成一个epoch所需要的迭代次数: 2.2760000000000002\n",
      "\n",
      "batch_size: 50\n",
      "\t time: 00:00:723968\n",
      "\t result: 0.9929701230228472\n",
      "\t actual iter: 200\n",
      "\t 完成一个epoch所需要的迭代次数: 9.104000000000001\n",
      "\n"
     ]
    },
    {
     "name": "stderr",
     "output_type": "stream",
     "text": [
      "/Users/cool/.pyenv/versions/3.8.5/lib/python3.8/site-packages/sklearn/neural_network/_multilayer_perceptron.py:582: ConvergenceWarning: Stochastic Optimizer: Maximum iterations (200) reached and the optimization hasn't converged yet.\n",
      "  warnings.warn(\n"
     ]
    }
   ],
   "source": [
    "for size in [450, 200, 50]:\n",
    "    dnn = DNN(hidden_layer_sizes=(20,),\n",
    "              activation='relu',\n",
    "              batch_size=size,  # 批量大小N_B\n",
    "              max_iter=200,\n",
    "              random_state=420\n",
    "              )\n",
    "    times = time()\n",
    "    dnn = dnn.fit(X_, y)  # 为了调用真实的n_iter所以不使用交叉验证\n",
    "    usedtime = time() - times\n",
    "    print(\"batch_size:\", size)\n",
    "    print(\"\\t time:\", datetime.datetime.fromtimestamp(\n",
    "        usedtime).strftime(\"%M:%S:%f\"))  # 运行时间\n",
    "    print(\"\\t result:\", dnn.score(X_, y))  # 返回结果\n",
    "    print(\"\\t actual iter:\", dnn.n_iter_)  # 调用实际的迭代次数\n",
    "    print(\"\\t 完成一个epoch所需要的迭代次数:\", X_.shape[0]*0.8/size)\n",
    "    print(\"\")"
   ]
  },
  {
   "cell_type": "markdown",
   "metadata": {},
   "source": [
    "#### 第一轮迭代：学习率与学习率的调整"
   ]
  },
  {
   "cell_type": "markdown",
   "metadata": {},
   "source": [
    "##### 学习率衰减"
   ]
  },
  {
   "cell_type": "code",
   "execution_count": 120,
   "metadata": {},
   "outputs": [
    {
     "name": "stdout",
     "output_type": "stream",
     "text": [
      "iter: 1 \teta: 0.1\n",
      "iter: 2 \teta: 0.08705505632961241\n",
      "iter: 5 \teta: 0.07247796636776956\n",
      "iter: 10 \teta: 0.06309573444801933\n",
      "iter: 20 \teta: 0.05492802716530589\n"
     ]
    }
   ],
   "source": [
    "for t in [1, 2, 5, 10, 20]:  # t是迭代次数\n",
    "    eta0, power_t = 0.1, 0.2  # 可以试着更换一下原始的eta0和设置的衰减用指数\n",
    "    eta = eta0/np.power(t, power_t)\n",
    "    print('iter:', t, '\\teta:', eta)"
   ]
  },
  {
   "cell_type": "markdown",
   "metadata": {},
   "source": [
    "##### 自适应学习率调整"
   ]
  },
  {
   "cell_type": "code",
   "execution_count": 121,
   "metadata": {},
   "outputs": [
    {
     "name": "stdout",
     "output_type": "stream",
     "text": [
      "eta_strategy: constant\n",
      "\t time: 00:00:343704\n",
      "\t cv value: 0.9736376339077782 3.0787378664389295e-05\n",
      "\n",
      "eta_strategy: invscaling\n",
      "\t time: 00:00:531842\n",
      "\t cv value: 0.9754075454122031 4.265823365447623e-05\n",
      "\n",
      "eta_strategy: adaptive\n",
      "\t time: 00:00:834964\n",
      "\t cv value: 0.9736376339077782 3.0787378664389295e-05\n",
      "\n"
     ]
    }
   ],
   "source": [
    "for eta_strategy in ['constant', 'invscaling', 'adaptive']:\n",
    "    dnn = DNN(hidden_layer_sizes=(20,),\n",
    "              activation='relu',\n",
    "              solver='sgd',\n",
    "              learning_rate_init=0.5,  # 初始学习率\n",
    "              learning_rate=eta_strategy,  # 学习率的变化策略\n",
    "              power_t=0.1,  # 衰减指数\n",
    "              batch_size=200,\n",
    "              max_iter=3000,\n",
    "              random_state=420\n",
    "              )\n",
    "    times = time()\n",
    "    cvresult = cv(dnn, X_, y, cv=5)\n",
    "    usedtime = time() - times\n",
    "    acc, var = cvresult.mean(), cvresult.var()\n",
    "    print(\"eta_strategy:\", eta_strategy)\n",
    "    print(\"\\t time:\", datetime.datetime.fromtimestamp(\n",
    "        usedtime).strftime(\"%M:%S:%f\"))  # 运行时间\n",
    "    print(\"\\t cv value:\", acc, var)\n",
    "    print(\"\")"
   ]
  },
  {
   "cell_type": "code",
   "execution_count": 124,
   "metadata": {},
   "outputs": [
    {
     "name": "stdout",
     "output_type": "stream",
     "text": [
      "2.2760000000000002\n",
      "Iteration 1, loss = 0.40927842\n",
      "Iteration 2, loss = 0.11355190\n",
      "Iteration 3, loss = 0.06903990\n",
      "Iteration 4, loss = 0.05962010\n",
      "Iteration 5, loss = 0.05282566\n",
      "Iteration 6, loss = 0.04439347\n",
      "Iteration 7, loss = 0.03777019\n",
      "Iteration 8, loss = 0.03430887\n",
      "Iteration 9, loss = 0.03915498\n",
      "Iteration 10, loss = 0.02625859\n",
      "Iteration 11, loss = 0.02301228\n",
      "Iteration 12, loss = 0.02062814\n",
      "Iteration 13, loss = 0.01939899\n",
      "Iteration 14, loss = 0.01822174\n",
      "Iteration 15, loss = 0.01640199\n",
      "Iteration 16, loss = 0.01585494\n",
      "Iteration 17, loss = 0.01446319\n",
      "Iteration 18, loss = 0.01413215\n",
      "Iteration 19, loss = 0.01361747\n",
      "Iteration 20, loss = 0.01231684\n",
      "Iteration 21, loss = 0.01230287\n",
      "Iteration 22, loss = 0.01287507\n",
      "Iteration 23, loss = 0.01091168\n",
      "Iteration 24, loss = 0.01079219\n",
      "Iteration 25, loss = 0.01149510\n",
      "Iteration 26, loss = 0.00959888\n",
      "Iteration 27, loss = 0.00922374\n",
      "Iteration 28, loss = 0.00929903\n",
      "Iteration 29, loss = 0.00861801\n",
      "Iteration 30, loss = 0.00765946\n",
      "Iteration 31, loss = 0.00784510\n",
      "Iteration 32, loss = 0.00742281\n",
      "Iteration 33, loss = 0.00813189\n",
      "Iteration 34, loss = 0.00672897\n",
      "Iteration 35, loss = 0.00654196\n",
      "Iteration 36, loss = 0.00698488\n",
      "Iteration 37, loss = 0.00645903\n",
      "Iteration 38, loss = 0.00628378\n",
      "Iteration 39, loss = 0.00558154\n",
      "Iteration 40, loss = 0.00532418\n",
      "Iteration 41, loss = 0.00523431\n",
      "Iteration 42, loss = 0.00537215\n",
      "Iteration 43, loss = 0.00508703\n",
      "Iteration 44, loss = 0.00469617\n",
      "Iteration 45, loss = 0.00462512\n",
      "Iteration 46, loss = 0.00440572\n",
      "Iteration 47, loss = 0.00443804\n",
      "Iteration 48, loss = 0.00434195\n",
      "Iteration 49, loss = 0.00431392\n",
      "Iteration 50, loss = 0.00435148\n",
      "Iteration 51, loss = 0.00396748\n",
      "Iteration 52, loss = 0.00413501\n",
      "Iteration 53, loss = 0.00426411\n",
      "Iteration 54, loss = 0.00389054\n",
      "Iteration 55, loss = 0.00346937\n",
      "Iteration 56, loss = 0.00388288\n",
      "Iteration 57, loss = 0.00334606\n",
      "Iteration 58, loss = 0.00337535\n",
      "Iteration 59, loss = 0.00330898\n",
      "Iteration 60, loss = 0.00315367\n",
      "Iteration 61, loss = 0.00301716\n",
      "Iteration 62, loss = 0.00308186\n",
      "Iteration 63, loss = 0.00313218\n",
      "Iteration 64, loss = 0.00276555\n",
      "Iteration 65, loss = 0.00278059\n",
      "Iteration 66, loss = 0.00270048\n",
      "Iteration 67, loss = 0.00268588\n",
      "Iteration 68, loss = 0.00274110\n",
      "Iteration 69, loss = 0.00270697\n",
      "Iteration 70, loss = 0.00249026\n",
      "Iteration 71, loss = 0.00268520\n",
      "Iteration 72, loss = 0.00241956\n",
      "Iteration 73, loss = 0.00233597\n",
      "Iteration 74, loss = 0.00241198\n",
      "Iteration 75, loss = 0.00229508\n",
      "Iteration 76, loss = 0.00224988\n",
      "Training loss did not improve more than tol=0.000100 for 5 consecutive epochs. Setting learning rate to 0.100000\n",
      "Iteration 77, loss = 0.00214717\n",
      "Iteration 78, loss = 0.00211508\n",
      "Iteration 79, loss = 0.00210587\n",
      "Iteration 80, loss = 0.00207809\n",
      "Iteration 81, loss = 0.00206661\n",
      "Iteration 82, loss = 0.00204386\n",
      "Iteration 83, loss = 0.00204833\n",
      "Training loss did not improve more than tol=0.000100 for 5 consecutive epochs. Setting learning rate to 0.020000\n",
      "Iteration 84, loss = 0.00201429\n",
      "Iteration 85, loss = 0.00200367\n",
      "Iteration 86, loss = 0.00200221\n",
      "Iteration 87, loss = 0.00199352\n",
      "Iteration 88, loss = 0.00199256\n",
      "Iteration 89, loss = 0.00198806\n",
      "Training loss did not improve more than tol=0.000100 for 5 consecutive epochs. Setting learning rate to 0.004000\n",
      "Iteration 90, loss = 0.00198418\n",
      "Iteration 91, loss = 0.00198078\n",
      "Iteration 92, loss = 0.00197911\n",
      "Iteration 93, loss = 0.00197725\n",
      "Iteration 94, loss = 0.00197604\n",
      "Iteration 95, loss = 0.00197623\n",
      "Training loss did not improve more than tol=0.000100 for 5 consecutive epochs. Setting learning rate to 0.000800\n",
      "Iteration 96, loss = 0.00197442\n",
      "Iteration 97, loss = 0.00197408\n",
      "Iteration 98, loss = 0.00197371\n",
      "Iteration 99, loss = 0.00197328\n",
      "Iteration 100, loss = 0.00197310\n",
      "Iteration 101, loss = 0.00197303\n",
      "Training loss did not improve more than tol=0.000100 for 5 consecutive epochs. Setting learning rate to 0.000160\n",
      "Iteration 102, loss = 0.00197262\n",
      "Iteration 103, loss = 0.00197248\n",
      "Iteration 104, loss = 0.00197248\n",
      "Iteration 105, loss = 0.00197236\n",
      "Iteration 106, loss = 0.00197232\n",
      "Iteration 107, loss = 0.00197226\n",
      "Training loss did not improve more than tol=0.000100 for 5 consecutive epochs. Setting learning rate to 0.000032\n",
      "Iteration 108, loss = 0.00197219\n",
      "Iteration 109, loss = 0.00197219\n",
      "Iteration 110, loss = 0.00197217\n",
      "Iteration 111, loss = 0.00197217\n",
      "Iteration 112, loss = 0.00197216\n",
      "Iteration 113, loss = 0.00197214\n",
      "Training loss did not improve more than tol=0.000100 for 5 consecutive epochs. Setting learning rate to 0.000006\n",
      "Iteration 114, loss = 0.00197213\n",
      "Iteration 115, loss = 0.00197213\n",
      "Iteration 116, loss = 0.00197212\n",
      "Iteration 117, loss = 0.00197212\n",
      "Iteration 118, loss = 0.00197211\n",
      "Iteration 119, loss = 0.00197211\n",
      "Training loss did not improve more than tol=0.000100 for 5 consecutive epochs. Setting learning rate to 0.000001\n",
      "Iteration 120, loss = 0.00197211\n",
      "Iteration 121, loss = 0.00197211\n",
      "Iteration 122, loss = 0.00197211\n",
      "Iteration 123, loss = 0.00197210\n",
      "Iteration 124, loss = 0.00197210\n",
      "Iteration 125, loss = 0.00197210\n",
      "Training loss did not improve more than tol=0.000100 for 5 consecutive epochs. Setting learning rate to 0.000000\n",
      "Iteration 126, loss = 0.00197210\n",
      "Iteration 127, loss = 0.00197210\n",
      "Iteration 128, loss = 0.00197210\n",
      "Iteration 129, loss = 0.00197210\n",
      "Iteration 130, loss = 0.00197210\n",
      "Iteration 131, loss = 0.00197210\n",
      "Training loss did not improve more than tol=0.000100 for 5 consecutive epochs. Learning rate too small. Stopping.\n",
      "eta_strategy:adaptive\n",
      "\t time: 00:00:175174\n",
      "\t score: 1.0\n"
     ]
    }
   ],
   "source": [
    "# 完成一次epoch所需要的迭代次数\n",
    "iter_ = X_.shape[0]*0.8/200\n",
    "print(iter_)\n",
    "\n",
    "dnn = DNN(hidden_layer_sizes=(20,),\n",
    "          activation='relu',\n",
    "          solver='sgd',\n",
    "          learning_rate_init=0.5,  # 初始学习率\n",
    "          learning_rate='adaptive',  # 学习率的变化策略\n",
    "          n_iter_no_change=5,  # 设定允许的最大无效epochs为5\n",
    "          verbose=True,\n",
    "          batch_size=200,\n",
    "          max_iter=3000,\n",
    "          random_state=420\n",
    "          )\n",
    "\n",
    "times = time()\n",
    "dnn = dnn.fit(X_, y)\n",
    "usedtime = time() - times\n",
    "print(\"eta_strategy:adaptive\")\n",
    "print(\"\\t time:\", datetime.datetime.fromtimestamp(\n",
    "    usedtime).strftime(\"%M:%S:%f\"))\n",
    "print(\"\\t score:\", dnn.score(X_, y))"
   ]
  },
  {
   "cell_type": "markdown",
   "metadata": {},
   "source": [
    "#### 从第一轮迭代到第t轮迭代"
   ]
  },
  {
   "cell_type": "code",
   "execution_count": 125,
   "metadata": {},
   "outputs": [
    {
     "data": {
      "text/plain": [
       "[array([[-4.17596414e-01, -1.48419775e-01, -4.29184936e-01,\n",
       "         -7.43552173e-01,  3.83854177e-01, -7.97619100e-01,\n",
       "         -1.56208474e-01, -4.90088320e-01,  4.31618493e-01,\n",
       "         -3.70042612e-01, -2.01993585e-01,  2.23947270e-01,\n",
       "         -9.01819245e-01, -4.53543039e-01,  8.34168792e-01,\n",
       "         -2.93744433e-01, -1.86687185e-01, -1.06768466e-01,\n",
       "         -6.99340520e-02,  1.32475943e-01],\n",
       "        [ 6.85512118e-02, -3.41560979e-01, -6.94878193e-02,\n",
       "         -1.60544036e-01, -1.41115249e+00, -5.62433321e-01,\n",
       "         -2.77367862e-01, -1.52279757e-01,  1.44854630e-01,\n",
       "         -7.30926154e-02, -4.63730885e-01,  4.03432318e-01,\n",
       "         -9.40562232e-03, -1.47364860e-01,  6.99654175e-01,\n",
       "          1.70161828e-01,  3.56157944e-01, -3.09518618e-01,\n",
       "         -4.00990898e-01, -6.57836591e-03],\n",
       "        [-1.60932508e-01, -2.51548172e-01, -7.60034201e-02,\n",
       "         -4.35258080e-01, -1.69072118e-01, -6.35916221e-01,\n",
       "         -1.59900703e-01, -1.50802286e-01,  5.60704335e-01,\n",
       "         -1.76861870e-01,  1.82331053e-01,  2.90209568e-01,\n",
       "         -5.93738712e-01, -4.02845222e-01,  6.88327502e-01,\n",
       "          8.40444854e-02, -2.58416964e-01, -4.33065078e-01,\n",
       "         -9.22183331e-02, -4.16139631e-01],\n",
       "        [-7.62840665e-02, -2.94333142e-01, -5.65647841e-01,\n",
       "         -3.84838211e-01, -1.26877430e-01, -1.07348584e+00,\n",
       "         -3.85469953e-02, -5.10165131e-01,  1.64107969e-01,\n",
       "         -6.44107623e-01, -3.16171875e-02,  5.03896662e-01,\n",
       "         -9.46539199e-01, -2.34486860e-01,  4.50634882e-01,\n",
       "         -9.73050275e-02, -1.71490784e-01, -1.44173308e-01,\n",
       "         -3.35449533e-01, -9.95447114e-02],\n",
       "        [ 3.62695432e-01, -4.05797217e-01, -7.89569090e-02,\n",
       "         -1.15452434e-01,  3.91607309e-01, -1.62655734e-01,\n",
       "         -1.25230119e-01, -5.01596672e-01,  2.03315245e-01,\n",
       "         -1.46150502e-01,  2.15130588e-01,  5.28031108e-01,\n",
       "         -5.56423949e-01,  2.48707260e-01,  3.38833338e-01,\n",
       "         -1.89774191e-01,  6.97810866e-02,  9.48573744e-02,\n",
       "         -2.65693737e-01, -4.39601871e-01],\n",
       "        [ 1.27979840e-01, -6.01506156e-02, -2.60037596e-01,\n",
       "         -8.45306901e-01,  2.10293727e-01, -9.57099630e-01,\n",
       "         -6.23815866e-02,  1.05396001e-01, -7.93549992e-02,\n",
       "          2.06523028e-02,  5.46424142e-02,  6.01397946e-01,\n",
       "         -9.51493063e-01, -6.97345581e-01,  2.60783932e-01,\n",
       "          2.75972135e-01,  2.14116181e-02, -2.50009724e-01,\n",
       "         -1.47705972e-01,  3.96092021e-01],\n",
       "        [ 5.37708794e-02, -2.69357445e-01, -8.25995263e-02,\n",
       "         -1.00210373e-01, -4.12903255e-01, -6.43231091e-01,\n",
       "         -4.26540003e-01, -5.06999274e-01,  2.82900501e-01,\n",
       "         -4.95682146e-01,  3.98748519e-01,  5.18609702e-01,\n",
       "         -4.99478687e-01, -4.73183787e-01,  9.10298075e-01,\n",
       "         -8.89632442e-02, -4.21649298e-03, -4.21886525e-02,\n",
       "         -6.30012161e-01, -8.97341484e-02],\n",
       "        [-5.78171961e-01, -2.69299772e-01, -5.12308962e-01,\n",
       "         -9.62079201e-02, -4.93945423e-01, -1.08233942e+00,\n",
       "         -3.28454659e-01, -5.42472166e-01,  5.48341710e-01,\n",
       "         -5.91611124e-01,  4.04046841e-01,  5.46350892e-01,\n",
       "         -3.67147119e-01, -2.70345822e-01,  8.69737075e-01,\n",
       "         -1.80683539e-01, -2.45594830e-01, -4.68222713e-02,\n",
       "         -1.90279956e-01, -3.18590946e-01],\n",
       "        [-9.51928489e-02,  3.56443514e-01, -6.84509242e-02,\n",
       "          1.09166572e-02, -1.86201446e-01, -1.44382581e-01,\n",
       "         -2.20040070e-01, -1.66811619e-02, -2.81989808e-01,\n",
       "          5.73528381e-01,  6.23563429e-02,  5.06538779e-01,\n",
       "         -9.75586418e-02, -3.26345805e-01,  1.97693276e-01,\n",
       "         -8.58140056e-03, -1.20938286e-01,  1.15857735e-01,\n",
       "         -1.37088887e-01, -4.43852785e-02],\n",
       "        [-1.30326202e-02, -9.50873289e-02,  2.81397826e-01,\n",
       "         -2.56027599e-01, -3.37970417e-01,  7.53986923e-02,\n",
       "          1.71669069e-02, -1.15815232e-01, -4.25203268e-01,\n",
       "          3.39836898e-02,  8.04844558e-02, -7.62392867e-01,\n",
       "         -1.35383949e-01,  1.77059815e-02, -1.65513950e-01,\n",
       "          1.03145190e-01, -4.78971055e-01,  9.49652523e-02,\n",
       "          1.55347799e-01,  2.99387772e-01],\n",
       "        [-3.75392669e-02, -9.22253620e-02,  1.86963689e-01,\n",
       "         -7.00392400e-02, -4.64553651e-01, -4.29544114e-01,\n",
       "         -4.98329493e-01, -3.31188794e-01, -2.48947742e-02,\n",
       "         -6.23773590e-01,  4.03859796e-01,  3.27990427e-01,\n",
       "         -3.37872055e-01,  2.64461315e-01,  7.25929307e-01,\n",
       "          3.24402961e-01, -7.44975368e-01,  2.02805490e-01,\n",
       "         -3.18604170e-01, -3.77682878e-01],\n",
       "        [ 3.98643928e-02,  1.60781733e-01, -2.84642002e-01,\n",
       "          1.61672496e-01, -5.99944514e-01, -4.36741403e-01,\n",
       "          1.52604988e-01, -9.08880448e-03, -1.78311684e-01,\n",
       "         -1.62029133e-01, -2.80852522e-01, -2.40369697e-01,\n",
       "          1.59211962e-01, -4.67389802e-01, -3.08948049e-01,\n",
       "          2.15804779e-01,  1.67104884e-01, -2.71148500e-01,\n",
       "          3.67331124e-01,  5.10189027e-02],\n",
       "        [-2.99887575e-01, -1.36418151e-01, -1.74695185e-01,\n",
       "          1.41616632e-01, -3.34547330e-01, -3.19572004e-01,\n",
       "         -2.11067415e-01, -2.62933807e-01, -1.39655199e-01,\n",
       "         -5.49345222e-01,  1.44731634e-01,  6.08331985e-01,\n",
       "         -7.34803868e-01, -7.38113587e-02,  4.25251359e-01,\n",
       "          2.08590638e-01, -4.42909975e-01,  4.66078236e-02,\n",
       "         -2.99215446e-01, -4.26345169e-01],\n",
       "        [-2.86627118e-01,  8.14054668e-02,  4.80528380e-02,\n",
       "         -2.66759950e-02, -7.58397208e-01, -7.47404540e-01,\n",
       "         -1.42599622e-01, -5.67100978e-01,  2.43521615e-01,\n",
       "         -4.55002354e-01, -2.24112956e-01,  7.75770368e-01,\n",
       "         -3.04088816e-01,  2.19091689e-01,  8.87623651e-01,\n",
       "          1.13047090e-01, -1.69814586e-01,  2.06983775e-01,\n",
       "         -6.06368024e-01, -3.26091918e-01],\n",
       "        [ 2.63111861e-01, -2.62910144e-01, -3.85434017e-01,\n",
       "          1.03724914e-01,  3.16973382e-01,  4.21762687e-02,\n",
       "          3.91280865e-01, -1.36287219e-01,  3.80465573e-01,\n",
       "          2.67267778e-01, -1.53798847e-01, -2.16549432e-01,\n",
       "          3.62369337e-01, -4.43275538e-01, -3.29933936e-01,\n",
       "          8.47618099e-02, -4.21639567e-02,  1.81044061e-01,\n",
       "         -2.37363778e-01, -2.72288421e-01],\n",
       "        [-1.24705891e-01,  2.31885376e-01, -1.06158166e-01,\n",
       "         -3.10245260e-01,  6.48191199e-01, -7.04147727e-01,\n",
       "         -1.26229506e-01,  4.48475993e-01, -2.72368227e-01,\n",
       "          3.33969249e-01, -1.22203982e-01, -3.09335999e-01,\n",
       "         -5.55201336e-01, -7.50895292e-01, -4.98198336e-01,\n",
       "         -1.66159354e-01,  6.01450472e-01, -6.78586974e-02,\n",
       "          1.08190709e-01,  7.11820307e-01],\n",
       "        [-1.32910443e-01, -1.49274736e-01, -2.10828410e-01,\n",
       "         -3.40610229e-01, -7.91990476e-02, -4.04203561e-01,\n",
       "         -1.57778423e-01,  9.06773828e-02,  2.08015716e-01,\n",
       "          1.49001402e-01, -4.12381738e-01, -1.23466677e-03,\n",
       "          7.18911100e-02, -4.28659835e-03, -1.68269061e-01,\n",
       "          1.60747353e-01, -3.75096654e-01,  1.25835528e-01,\n",
       "         -2.04872406e-02, -7.98131740e-02],\n",
       "        [-1.18350641e-01,  2.47867264e-01, -1.86504382e-02,\n",
       "          2.16781611e-01, -5.58603348e-01, -3.59786204e-01,\n",
       "         -4.90266479e-01, -4.28159422e-01,  1.97734933e-01,\n",
       "         -4.20180522e-01, -6.71115015e-02,  1.68842266e-01,\n",
       "         -3.01296877e-01, -2.28962517e-01, -1.77575179e-01,\n",
       "          3.29373224e-01, -3.42122929e-01, -2.22602251e-01,\n",
       "         -1.27874413e-01, -9.11598215e-02],\n",
       "        [-1.81347204e-01, -1.70786917e-01, -2.04826776e-01,\n",
       "         -8.38216206e-02,  1.66143369e-01, -4.05789381e-01,\n",
       "          4.68106065e-01,  1.28910891e-01, -3.34040772e-01,\n",
       "          1.29057729e-01, -1.55271486e-01,  5.98050187e-01,\n",
       "          7.03483384e-02, -3.62398625e-01, -4.44994205e-01,\n",
       "          1.69305842e-01,  1.17020808e-01,  1.18582683e-01,\n",
       "          2.93202935e-01, -8.33342642e-02],\n",
       "        [ 8.66722010e-02,  2.90985689e-01, -3.58588543e-01,\n",
       "         -3.67570850e-01,  4.59538737e-02,  2.35672559e-01,\n",
       "          2.26712516e-01,  5.96592790e-01,  2.87185549e-02,\n",
       "          1.15507667e-01, -1.58299101e-01, -5.97336580e-01,\n",
       "          2.91671630e-02,  2.89722886e-02, -7.82765121e-01,\n",
       "         -3.65544529e-01,  7.54503228e-02,  9.07621998e-02,\n",
       "         -2.21526860e-02,  3.99454697e-01],\n",
       "        [-1.01846057e-01, -5.25778786e-01, -4.99429155e-01,\n",
       "         -6.03540740e-01, -4.32104791e-01, -4.95927707e-01,\n",
       "         -1.99053486e-01, -3.44807934e-01,  5.93582655e-01,\n",
       "         -3.10980024e-01,  2.77749127e-01,  5.41305236e-01,\n",
       "         -7.89050138e-01,  2.25925108e-02,  1.04898839e+00,\n",
       "          5.26221172e-02, -4.33649940e-01,  1.14007663e-01,\n",
       "         -5.58068667e-01, -7.74830080e-01],\n",
       "        [-3.49118665e-01, -4.32247641e-01, -1.42290610e-01,\n",
       "          2.98625065e-01, -9.67447340e-01, -4.88734682e-01,\n",
       "         -1.78478890e-01, -3.23327952e-02,  1.52821780e-01,\n",
       "          2.03506495e-02,  2.72715475e-02,  7.39268411e-01,\n",
       "         -1.84392641e-01,  8.32997437e-02,  5.28400499e-01,\n",
       "          1.62881975e-01, -4.61204543e-02,  1.51989522e-01,\n",
       "          4.24299675e-02, -4.53271921e-01],\n",
       "        [-6.07474247e-01, -8.21480967e-02,  7.40422737e-02,\n",
       "         -5.54400215e-01, -1.24269829e-01, -6.21459487e-01,\n",
       "         -2.30067198e-01, -5.25257589e-01,  4.80937498e-01,\n",
       "         -7.82201655e-01,  1.75222148e-01,  4.31745134e-01,\n",
       "         -6.20398913e-01,  1.68954043e-01,  1.16268091e+00,\n",
       "         -3.23256042e-01, -3.23469413e-01, -1.78074638e-01,\n",
       "         -6.42979054e-01, -5.35934689e-01],\n",
       "        [-3.69233452e-01, -4.84198586e-01,  6.93474983e-02,\n",
       "         -6.22967740e-01, -5.77863840e-01, -4.64762476e-01,\n",
       "         -1.97888848e-01, -4.81277086e-01,  5.29892696e-01,\n",
       "         -6.57443604e-01,  1.40110252e-01,  3.02489596e-01,\n",
       "         -5.85213370e-01, -3.41538699e-01,  8.09915995e-01,\n",
       "         -1.19457795e-01, -8.51261376e-02, -3.60091708e-01,\n",
       "         -2.99017796e-01, -7.11147968e-01],\n",
       "        [-1.09565394e-01,  4.37911071e-02,  7.33270547e-02,\n",
       "         -3.44818610e-01,  7.08595120e-01, -4.30073622e-01,\n",
       "          1.00783526e-01, -3.77353726e-01,  3.31173669e-01,\n",
       "         -5.70689001e-02,  3.42760929e-01,  5.66088039e-01,\n",
       "         -3.42361579e-01,  9.16307517e-02,  6.92340012e-01,\n",
       "          1.46626528e-01, -3.52288148e-01, -3.03009694e-01,\n",
       "         -4.34144476e-01, -6.27010051e-01],\n",
       "        [-4.30453096e-01,  4.58780355e-02, -6.58515422e-02,\n",
       "         -5.06362677e-01, -8.10182354e-02, -2.72116625e-01,\n",
       "         -4.07333223e-01,  1.06078468e-01,  2.49824535e-01,\n",
       "          8.40199839e-02,  5.24392921e-01, -5.77899700e-02,\n",
       "         -4.85082080e-01, -3.55565676e-02,  2.60901594e-01,\n",
       "          2.52283089e-01,  1.36500599e-01,  1.72886791e-01,\n",
       "         -3.85889227e-01,  1.27841472e-01],\n",
       "        [-5.93454468e-02, -3.66837041e-01, -1.55132448e-01,\n",
       "         -3.58375872e-02, -6.20681997e-01, -3.60412942e-01,\n",
       "         -5.32975233e-02, -1.43681075e-01,  3.38791071e-01,\n",
       "         -5.57725963e-01,  3.77146429e-01,  6.27751782e-01,\n",
       "         -2.32727395e-01,  3.11821103e-01,  6.31285348e-01,\n",
       "         -3.06133138e-01, -2.76152268e-01,  5.29280347e-02,\n",
       "         -3.53822526e-01, -4.58019982e-01],\n",
       "        [-4.88384789e-01,  2.95105893e-02, -5.20602262e-02,\n",
       "         -1.87305372e-02, -2.16655088e-01, -8.74551822e-01,\n",
       "         -2.26567244e-01, -2.07924036e-01,  4.12696968e-01,\n",
       "         -1.00649968e-01,  1.30059347e-01,  2.71988334e-01,\n",
       "         -4.49993047e-01,  2.20061868e-01,  5.86075726e-01,\n",
       "         -1.15004895e-01, -7.60206761e-01,  1.83790329e-02,\n",
       "         -6.91311458e-01, -3.17034628e-01],\n",
       "        [-2.26011986e-01, -8.22180954e-02, -3.72757125e-01,\n",
       "          1.73153313e-01, -1.45164672e-02, -4.53520741e-01,\n",
       "         -3.05145291e-01, -2.02547150e-01, -4.99175035e-02,\n",
       "         -1.54737171e-01, -2.33926341e-01,  7.53345524e-01,\n",
       "         -2.22373152e-01,  9.45743155e-02, -6.88270073e-02,\n",
       "         -2.89939219e-02, -3.79741344e-01, -2.52409727e-01,\n",
       "         -4.10969873e-01, -1.27861190e-01],\n",
       "        [-1.46802704e-01, -2.76352817e-01,  3.06236341e-01,\n",
       "         -3.47610871e-01, -6.29841751e-01,  4.59555595e-01,\n",
       "         -6.63335789e-02, -5.52100143e-01,  1.38785225e-01,\n",
       "         -1.99609503e-01,  7.01587471e-01, -4.74079967e-01,\n",
       "         -3.86832088e-01,  1.64138774e-01,  4.11078895e-01,\n",
       "         -4.07790600e-02, -1.60915893e-01, -4.10224601e-01,\n",
       "         -1.07562773e-01,  1.47038761e-02]]),\n",
       " array([[ 0.29792802],\n",
       "        [ 0.41759903],\n",
       "        [-0.71344849],\n",
       "        [-1.51073569],\n",
       "        [ 2.3933528 ],\n",
       "        [-0.95414011],\n",
       "        [ 0.92964497],\n",
       "        [ 1.30466836],\n",
       "        [-0.92870428],\n",
       "        [ 1.00791141],\n",
       "        [-1.64939757],\n",
       "        [-1.56411542],\n",
       "        [-0.55864417],\n",
       "        [-1.43756883],\n",
       "        [-1.50719567],\n",
       "        [-0.10551555],\n",
       "        [ 1.30425806],\n",
       "        [-0.10174263],\n",
       "        [ 0.89543607],\n",
       "        [ 1.5637587 ]])]"
      ]
     },
     "execution_count": 125,
     "metadata": {},
     "output_type": "execute_result"
    }
   ],
   "source": [
    "dnn = DNN(hidden_layer_sizes=(20,),\n",
    "          activation='relu',\n",
    "          solver='sgd',\n",
    "          learning_rate_init=0.5,  # 初始学习率\n",
    "          learning_rate='invscaling',  # 学习率的变化策略\n",
    "          power_t=0.1,  # 衰减指数\n",
    "          batch_size=200,\n",
    "          max_iter=3000,\n",
    "          random_state=420\n",
    "          ).fit(X_, y)\n",
    "\n",
    "# 查看最终生成的系数w\n",
    "dnn.coefs_"
   ]
  },
  {
   "cell_type": "code",
   "execution_count": 126,
   "metadata": {},
   "outputs": [
    {
     "data": {
      "text/plain": [
       "list"
      ]
     },
     "execution_count": 126,
     "metadata": {},
     "output_type": "execute_result"
    }
   ],
   "source": [
    "# 怎么看w的结构？ \n",
    "type(dnn.coefs_)"
   ]
  },
  {
   "cell_type": "code",
   "execution_count": 127,
   "metadata": {},
   "outputs": [
    {
     "name": "stdout",
     "output_type": "stream",
     "text": [
      "(30, 20)\n",
      "(20, 1)\n"
     ]
    }
   ],
   "source": [
    "for item in dnn.coefs_:\n",
    "    print(item.shape)"
   ]
  },
  {
   "cell_type": "markdown",
   "metadata": {},
   "source": [
    "结果有怎样的含义？  \n",
    "含有一层隐藏层的神经网络，会有两层连接：输入层-隐藏层，隐藏 层-输出层，输入层对隐藏层中有（输入层神经元个数*隐藏层神经元个数）个系数w，而隐 藏层到输出层有（隐藏层神经元个数 * 输出层神经元个数）个系数w。"
   ]
  },
  {
   "cell_type": "code",
   "execution_count": 128,
   "metadata": {},
   "outputs": [
    {
     "data": {
      "text/plain": [
       "array([-0.41759641, -0.14841978, -0.42918494, -0.74355217,  0.38385418,\n",
       "       -0.7976191 , -0.15620847, -0.49008832,  0.43161849, -0.37004261,\n",
       "       -0.20199358,  0.22394727, -0.90181925, -0.45354304,  0.83416879,\n",
       "       -0.29374443, -0.18668718, -0.10676847, -0.06993405,  0.13247594])"
      ]
     },
     "execution_count": 128,
     "metadata": {},
     "output_type": "execute_result"
    }
   ],
   "source": [
    "dnn.coefs_[0][0]  # 这就是输入层上的第一个神经元连接到隐藏层上的所有神经元的系数w"
   ]
  },
  {
   "cell_type": "code",
   "execution_count": 129,
   "metadata": {},
   "outputs": [
    {
     "data": {
      "text/plain": [
       "array([-0.41759641,  0.06855121, -0.16093251, -0.07628407,  0.36269543,\n",
       "        0.12797984,  0.05377088, -0.57817196, -0.09519285, -0.01303262,\n",
       "       -0.03753927,  0.03986439, -0.29988758, -0.28662712,  0.26311186,\n",
       "       -0.12470589, -0.13291044, -0.11835064, -0.1813472 ,  0.0866722 ,\n",
       "       -0.10184606, -0.34911867, -0.60747425, -0.36923345, -0.10956539,\n",
       "       -0.4304531 , -0.05934545, -0.48838479, -0.22601199, -0.1468027 ])"
      ]
     },
     "execution_count": 129,
     "metadata": {},
     "output_type": "execute_result"
    }
   ],
   "source": [
    "dnn.coefs_[0][:, 0] # 这就第一个隐藏层上的第一个神经元链接到输入层上的所有神经元的系数w"
   ]
  },
  {
   "cell_type": "code",
   "execution_count": 130,
   "metadata": {},
   "outputs": [
    {
     "data": {
      "text/plain": [
       "[array([-0.01208511,  0.23006008, -0.28853019, -0.29669951,  0.3123024 ,\n",
       "        -0.37657032,  0.03147937,  0.53339565,  0.24325214,  0.02444767,\n",
       "        -0.25642082, -0.0451247 , -0.63745918,  0.10328563,  0.72275721,\n",
       "        -0.21191841,  0.17054416, -0.34092959,  0.36398215,  0.78700881]),\n",
       " array([-0.4722992])]"
      ]
     },
     "execution_count": 130,
     "metadata": {},
     "output_type": "execute_result"
    }
   ],
   "source": [
    "# 查看最终生成的b以及b的结构 \n",
    "dnn.intercepts_"
   ]
  },
  {
   "cell_type": "code",
   "execution_count": 131,
   "metadata": {},
   "outputs": [
    {
     "name": "stdout",
     "output_type": "stream",
     "text": [
      "(20,)\n",
      "(1,)\n"
     ]
    }
   ],
   "source": [
    "for item in dnn.intercepts_:\n",
    "    print(item.shape)"
   ]
  },
  {
   "cell_type": "code",
   "execution_count": 132,
   "metadata": {},
   "outputs": [
    {
     "data": {
      "text/plain": [
       "0.004384897719095809"
      ]
     },
     "execution_count": 132,
     "metadata": {},
     "output_type": "execute_result"
    }
   ],
   "source": [
    "# 查看现在的损失函数 \n",
    "dnn.loss_"
   ]
  }
 ],
 "metadata": {
  "kernelspec": {
   "display_name": "Python 3",
   "language": "python",
   "name": "python3"
  },
  "language_info": {
   "codemirror_mode": {
    "name": "ipython",
    "version": 3
   },
   "file_extension": ".py",
   "mimetype": "text/x-python",
   "name": "python",
   "nbconvert_exporter": "python",
   "pygments_lexer": "ipython3",
   "version": "3.8.5"
  },
  "toc": {
   "base_numbering": 1,
   "nav_menu": {
    "height": "406px",
    "width": "222px"
   },
   "number_sections": true,
   "sideBar": true,
   "skip_h1_title": false,
   "title_cell": "Table of Contents",
   "title_sidebar": "Contents",
   "toc_cell": false,
   "toc_position": {
    "height": "calc(100% - 180px)",
    "left": "10px",
    "top": "150px",
    "width": "409.594px"
   },
   "toc_section_display": true,
   "toc_window_display": true
  }
 },
 "nbformat": 4,
 "nbformat_minor": 4
}
