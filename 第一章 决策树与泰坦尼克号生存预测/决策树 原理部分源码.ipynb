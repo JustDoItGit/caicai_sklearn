{
 "cells": [
  {
   "cell_type": "code",
   "execution_count": 1,
   "metadata": {},
   "outputs": [],
   "source": [
    "from sklearn import tree\n",
    "from sklearn.datasets import load_wine\n",
    "from sklearn.model_selection import train_test_split"
   ]
  },
  {
   "cell_type": "code",
   "execution_count": 2,
   "metadata": {},
   "outputs": [],
   "source": [
    "wine = load_wine()"
   ]
  },
  {
   "cell_type": "code",
   "execution_count": 3,
   "metadata": {},
   "outputs": [
    {
     "data": {
      "text/plain": [
       "(178, 13)"
      ]
     },
     "execution_count": 3,
     "metadata": {},
     "output_type": "execute_result"
    }
   ],
   "source": [
    "wine.data.shape"
   ]
  },
  {
   "cell_type": "code",
   "execution_count": 4,
   "metadata": {},
   "outputs": [
    {
     "data": {
      "text/plain": [
       "array([0, 0, 0, 0, 0, 0, 0, 0, 0, 0, 0, 0, 0, 0, 0, 0, 0, 0, 0, 0, 0, 0,\n",
       "       0, 0, 0, 0, 0, 0, 0, 0, 0, 0, 0, 0, 0, 0, 0, 0, 0, 0, 0, 0, 0, 0,\n",
       "       0, 0, 0, 0, 0, 0, 0, 0, 0, 0, 0, 0, 0, 0, 0, 1, 1, 1, 1, 1, 1, 1,\n",
       "       1, 1, 1, 1, 1, 1, 1, 1, 1, 1, 1, 1, 1, 1, 1, 1, 1, 1, 1, 1, 1, 1,\n",
       "       1, 1, 1, 1, 1, 1, 1, 1, 1, 1, 1, 1, 1, 1, 1, 1, 1, 1, 1, 1, 1, 1,\n",
       "       1, 1, 1, 1, 1, 1, 1, 1, 1, 1, 1, 1, 1, 1, 1, 1, 1, 1, 1, 1, 2, 2,\n",
       "       2, 2, 2, 2, 2, 2, 2, 2, 2, 2, 2, 2, 2, 2, 2, 2, 2, 2, 2, 2, 2, 2,\n",
       "       2, 2, 2, 2, 2, 2, 2, 2, 2, 2, 2, 2, 2, 2, 2, 2, 2, 2, 2, 2, 2, 2,\n",
       "       2, 2])"
      ]
     },
     "execution_count": 4,
     "metadata": {},
     "output_type": "execute_result"
    }
   ],
   "source": [
    "wine.target"
   ]
  },
  {
   "cell_type": "code",
   "execution_count": 5,
   "metadata": {},
   "outputs": [
    {
     "data": {
      "text/plain": [
       "array(['class_0', 'class_1', 'class_2'], dtype='<U7')"
      ]
     },
     "execution_count": 5,
     "metadata": {},
     "output_type": "execute_result"
    }
   ],
   "source": [
    "wine.target_names"
   ]
  },
  {
   "cell_type": "code",
   "execution_count": 6,
   "metadata": {},
   "outputs": [
    {
     "data": {
      "text/html": [
       "<div>\n",
       "<style scoped>\n",
       "    .dataframe tbody tr th:only-of-type {\n",
       "        vertical-align: middle;\n",
       "    }\n",
       "\n",
       "    .dataframe tbody tr th {\n",
       "        vertical-align: top;\n",
       "    }\n",
       "\n",
       "    .dataframe thead th {\n",
       "        text-align: right;\n",
       "    }\n",
       "</style>\n",
       "<table border=\"1\" class=\"dataframe\">\n",
       "  <thead>\n",
       "    <tr style=\"text-align: right;\">\n",
       "      <th></th>\n",
       "      <th>0</th>\n",
       "      <th>1</th>\n",
       "      <th>2</th>\n",
       "      <th>3</th>\n",
       "      <th>4</th>\n",
       "      <th>5</th>\n",
       "      <th>6</th>\n",
       "      <th>7</th>\n",
       "      <th>8</th>\n",
       "      <th>9</th>\n",
       "      <th>10</th>\n",
       "      <th>11</th>\n",
       "      <th>12</th>\n",
       "      <th>0</th>\n",
       "    </tr>\n",
       "  </thead>\n",
       "  <tbody>\n",
       "    <tr>\n",
       "      <th>0</th>\n",
       "      <td>14.23</td>\n",
       "      <td>1.71</td>\n",
       "      <td>2.43</td>\n",
       "      <td>15.6</td>\n",
       "      <td>127.0</td>\n",
       "      <td>2.80</td>\n",
       "      <td>3.06</td>\n",
       "      <td>0.28</td>\n",
       "      <td>2.29</td>\n",
       "      <td>5.64</td>\n",
       "      <td>1.04</td>\n",
       "      <td>3.92</td>\n",
       "      <td>1065.0</td>\n",
       "      <td>0</td>\n",
       "    </tr>\n",
       "    <tr>\n",
       "      <th>1</th>\n",
       "      <td>13.20</td>\n",
       "      <td>1.78</td>\n",
       "      <td>2.14</td>\n",
       "      <td>11.2</td>\n",
       "      <td>100.0</td>\n",
       "      <td>2.65</td>\n",
       "      <td>2.76</td>\n",
       "      <td>0.26</td>\n",
       "      <td>1.28</td>\n",
       "      <td>4.38</td>\n",
       "      <td>1.05</td>\n",
       "      <td>3.40</td>\n",
       "      <td>1050.0</td>\n",
       "      <td>0</td>\n",
       "    </tr>\n",
       "    <tr>\n",
       "      <th>2</th>\n",
       "      <td>13.16</td>\n",
       "      <td>2.36</td>\n",
       "      <td>2.67</td>\n",
       "      <td>18.6</td>\n",
       "      <td>101.0</td>\n",
       "      <td>2.80</td>\n",
       "      <td>3.24</td>\n",
       "      <td>0.30</td>\n",
       "      <td>2.81</td>\n",
       "      <td>5.68</td>\n",
       "      <td>1.03</td>\n",
       "      <td>3.17</td>\n",
       "      <td>1185.0</td>\n",
       "      <td>0</td>\n",
       "    </tr>\n",
       "    <tr>\n",
       "      <th>3</th>\n",
       "      <td>14.37</td>\n",
       "      <td>1.95</td>\n",
       "      <td>2.50</td>\n",
       "      <td>16.8</td>\n",
       "      <td>113.0</td>\n",
       "      <td>3.85</td>\n",
       "      <td>3.49</td>\n",
       "      <td>0.24</td>\n",
       "      <td>2.18</td>\n",
       "      <td>7.80</td>\n",
       "      <td>0.86</td>\n",
       "      <td>3.45</td>\n",
       "      <td>1480.0</td>\n",
       "      <td>0</td>\n",
       "    </tr>\n",
       "    <tr>\n",
       "      <th>4</th>\n",
       "      <td>13.24</td>\n",
       "      <td>2.59</td>\n",
       "      <td>2.87</td>\n",
       "      <td>21.0</td>\n",
       "      <td>118.0</td>\n",
       "      <td>2.80</td>\n",
       "      <td>2.69</td>\n",
       "      <td>0.39</td>\n",
       "      <td>1.82</td>\n",
       "      <td>4.32</td>\n",
       "      <td>1.04</td>\n",
       "      <td>2.93</td>\n",
       "      <td>735.0</td>\n",
       "      <td>0</td>\n",
       "    </tr>\n",
       "    <tr>\n",
       "      <th>...</th>\n",
       "      <td>...</td>\n",
       "      <td>...</td>\n",
       "      <td>...</td>\n",
       "      <td>...</td>\n",
       "      <td>...</td>\n",
       "      <td>...</td>\n",
       "      <td>...</td>\n",
       "      <td>...</td>\n",
       "      <td>...</td>\n",
       "      <td>...</td>\n",
       "      <td>...</td>\n",
       "      <td>...</td>\n",
       "      <td>...</td>\n",
       "      <td>...</td>\n",
       "    </tr>\n",
       "    <tr>\n",
       "      <th>173</th>\n",
       "      <td>13.71</td>\n",
       "      <td>5.65</td>\n",
       "      <td>2.45</td>\n",
       "      <td>20.5</td>\n",
       "      <td>95.0</td>\n",
       "      <td>1.68</td>\n",
       "      <td>0.61</td>\n",
       "      <td>0.52</td>\n",
       "      <td>1.06</td>\n",
       "      <td>7.70</td>\n",
       "      <td>0.64</td>\n",
       "      <td>1.74</td>\n",
       "      <td>740.0</td>\n",
       "      <td>2</td>\n",
       "    </tr>\n",
       "    <tr>\n",
       "      <th>174</th>\n",
       "      <td>13.40</td>\n",
       "      <td>3.91</td>\n",
       "      <td>2.48</td>\n",
       "      <td>23.0</td>\n",
       "      <td>102.0</td>\n",
       "      <td>1.80</td>\n",
       "      <td>0.75</td>\n",
       "      <td>0.43</td>\n",
       "      <td>1.41</td>\n",
       "      <td>7.30</td>\n",
       "      <td>0.70</td>\n",
       "      <td>1.56</td>\n",
       "      <td>750.0</td>\n",
       "      <td>2</td>\n",
       "    </tr>\n",
       "    <tr>\n",
       "      <th>175</th>\n",
       "      <td>13.27</td>\n",
       "      <td>4.28</td>\n",
       "      <td>2.26</td>\n",
       "      <td>20.0</td>\n",
       "      <td>120.0</td>\n",
       "      <td>1.59</td>\n",
       "      <td>0.69</td>\n",
       "      <td>0.43</td>\n",
       "      <td>1.35</td>\n",
       "      <td>10.20</td>\n",
       "      <td>0.59</td>\n",
       "      <td>1.56</td>\n",
       "      <td>835.0</td>\n",
       "      <td>2</td>\n",
       "    </tr>\n",
       "    <tr>\n",
       "      <th>176</th>\n",
       "      <td>13.17</td>\n",
       "      <td>2.59</td>\n",
       "      <td>2.37</td>\n",
       "      <td>20.0</td>\n",
       "      <td>120.0</td>\n",
       "      <td>1.65</td>\n",
       "      <td>0.68</td>\n",
       "      <td>0.53</td>\n",
       "      <td>1.46</td>\n",
       "      <td>9.30</td>\n",
       "      <td>0.60</td>\n",
       "      <td>1.62</td>\n",
       "      <td>840.0</td>\n",
       "      <td>2</td>\n",
       "    </tr>\n",
       "    <tr>\n",
       "      <th>177</th>\n",
       "      <td>14.13</td>\n",
       "      <td>4.10</td>\n",
       "      <td>2.74</td>\n",
       "      <td>24.5</td>\n",
       "      <td>96.0</td>\n",
       "      <td>2.05</td>\n",
       "      <td>0.76</td>\n",
       "      <td>0.56</td>\n",
       "      <td>1.35</td>\n",
       "      <td>9.20</td>\n",
       "      <td>0.61</td>\n",
       "      <td>1.60</td>\n",
       "      <td>560.0</td>\n",
       "      <td>2</td>\n",
       "    </tr>\n",
       "  </tbody>\n",
       "</table>\n",
       "<p>178 rows × 14 columns</p>\n",
       "</div>"
      ],
      "text/plain": [
       "        0     1     2     3      4     5     6     7     8      9     10  \\\n",
       "0    14.23  1.71  2.43  15.6  127.0  2.80  3.06  0.28  2.29   5.64  1.04   \n",
       "1    13.20  1.78  2.14  11.2  100.0  2.65  2.76  0.26  1.28   4.38  1.05   \n",
       "2    13.16  2.36  2.67  18.6  101.0  2.80  3.24  0.30  2.81   5.68  1.03   \n",
       "3    14.37  1.95  2.50  16.8  113.0  3.85  3.49  0.24  2.18   7.80  0.86   \n",
       "4    13.24  2.59  2.87  21.0  118.0  2.80  2.69  0.39  1.82   4.32  1.04   \n",
       "..     ...   ...   ...   ...    ...   ...   ...   ...   ...    ...   ...   \n",
       "173  13.71  5.65  2.45  20.5   95.0  1.68  0.61  0.52  1.06   7.70  0.64   \n",
       "174  13.40  3.91  2.48  23.0  102.0  1.80  0.75  0.43  1.41   7.30  0.70   \n",
       "175  13.27  4.28  2.26  20.0  120.0  1.59  0.69  0.43  1.35  10.20  0.59   \n",
       "176  13.17  2.59  2.37  20.0  120.0  1.65  0.68  0.53  1.46   9.30  0.60   \n",
       "177  14.13  4.10  2.74  24.5   96.0  2.05  0.76  0.56  1.35   9.20  0.61   \n",
       "\n",
       "       11      12  0   \n",
       "0    3.92  1065.0   0  \n",
       "1    3.40  1050.0   0  \n",
       "2    3.17  1185.0   0  \n",
       "3    3.45  1480.0   0  \n",
       "4    2.93   735.0   0  \n",
       "..    ...     ...  ..  \n",
       "173  1.74   740.0   2  \n",
       "174  1.56   750.0   2  \n",
       "175  1.56   835.0   2  \n",
       "176  1.62   840.0   2  \n",
       "177  1.60   560.0   2  \n",
       "\n",
       "[178 rows x 14 columns]"
      ]
     },
     "execution_count": 6,
     "metadata": {},
     "output_type": "execute_result"
    }
   ],
   "source": [
    "import pandas as pd\n",
    "pd.concat([pd.DataFrame(wine.data), pd.DataFrame(wine.target)], axis=1)"
   ]
  },
  {
   "cell_type": "code",
   "execution_count": 7,
   "metadata": {},
   "outputs": [
    {
     "data": {
      "text/plain": [
       "['alcohol',\n",
       " 'malic_acid',\n",
       " 'ash',\n",
       " 'alcalinity_of_ash',\n",
       " 'magnesium',\n",
       " 'total_phenols',\n",
       " 'flavanoids',\n",
       " 'nonflavanoid_phenols',\n",
       " 'proanthocyanins',\n",
       " 'color_intensity',\n",
       " 'hue',\n",
       " 'od280/od315_of_diluted_wines',\n",
       " 'proline']"
      ]
     },
     "execution_count": 7,
     "metadata": {},
     "output_type": "execute_result"
    }
   ],
   "source": [
    "wine.feature_names"
   ]
  },
  {
   "cell_type": "code",
   "execution_count": 8,
   "metadata": {},
   "outputs": [
    {
     "data": {
      "text/plain": [
       "array(['class_0', 'class_1', 'class_2'], dtype='<U7')"
      ]
     },
     "execution_count": 8,
     "metadata": {},
     "output_type": "execute_result"
    }
   ],
   "source": [
    "wine.target_names"
   ]
  },
  {
   "cell_type": "code",
   "execution_count": 9,
   "metadata": {},
   "outputs": [],
   "source": [
    "X_train, X_test, Y_train, Y_test = train_test_split(wine.data, wine.target, test_size=0.3)"
   ]
  },
  {
   "cell_type": "code",
   "execution_count": 10,
   "metadata": {},
   "outputs": [
    {
     "data": {
      "text/plain": [
       "(124, 13)"
      ]
     },
     "execution_count": 10,
     "metadata": {},
     "output_type": "execute_result"
    }
   ],
   "source": [
    "X_train.shape"
   ]
  },
  {
   "cell_type": "code",
   "execution_count": 11,
   "metadata": {},
   "outputs": [
    {
     "data": {
      "text/plain": [
       "(54, 13)"
      ]
     },
     "execution_count": 11,
     "metadata": {},
     "output_type": "execute_result"
    }
   ],
   "source": [
    "X_test.shape"
   ]
  },
  {
   "cell_type": "code",
   "execution_count": 12,
   "metadata": {},
   "outputs": [
    {
     "data": {
      "text/plain": [
       "array([1, 1, 0, 0, 0, 0, 0, 0, 1, 0, 0, 2, 1, 1, 0, 2, 0, 1, 0, 1, 1, 0,\n",
       "       2, 1, 1, 0, 1, 1, 0, 0, 1, 1, 0, 0, 2, 1, 1, 2, 2, 1, 1, 0, 2, 2,\n",
       "       0, 2, 2, 1, 0, 1, 2, 2, 2, 2, 0, 2, 1, 0, 2, 2, 0, 1, 0, 0, 1, 0,\n",
       "       1, 1, 1, 2, 1, 0, 1, 0, 2, 0, 2, 2, 0, 0, 2, 1, 0, 1, 0, 1, 1, 1,\n",
       "       2, 1, 2, 2, 1, 0, 0, 2, 0, 2, 2, 2, 1, 1, 0, 1, 1, 1, 0, 0, 1, 2,\n",
       "       0, 2, 1, 0, 2, 2, 1, 1, 0, 1, 2, 1, 0, 1])"
      ]
     },
     "execution_count": 12,
     "metadata": {},
     "output_type": "execute_result"
    }
   ],
   "source": [
    "Y_train"
   ]
  },
  {
   "cell_type": "code",
   "execution_count": 13,
   "metadata": {},
   "outputs": [
    {
     "data": {
      "text/plain": [
       "0.9444444444444444"
      ]
     },
     "execution_count": 13,
     "metadata": {},
     "output_type": "execute_result"
    }
   ],
   "source": [
    "clf = tree.DecisionTreeClassifier(criterion='entropy')\n",
    "clf.fit(X_train, Y_train)\n",
    "score = clf.score(X_test, Y_test)\n",
    "\n",
    "score"
   ]
  },
  {
   "cell_type": "code",
   "execution_count": 14,
   "metadata": {
    "scrolled": false
   },
   "outputs": [
    {
     "data": {
      "image/svg+xml": [
       "<?xml version=\"1.0\" encoding=\"UTF-8\" standalone=\"no\"?>\n",
       "<!DOCTYPE svg PUBLIC \"-//W3C//DTD SVG 1.1//EN\"\n",
       " \"http://www.w3.org/Graphics/SVG/1.1/DTD/svg11.dtd\">\n",
       "<!-- Generated by graphviz version 2.42.3 (20191010.1750)\n",
       " -->\n",
       "<!-- Title: Tree Pages: 1 -->\n",
       "<svg width=\"814pt\" height=\"578pt\"\n",
       " viewBox=\"0.00 0.00 813.91 578.40\" xmlns=\"http://www.w3.org/2000/svg\" xmlns:xlink=\"http://www.w3.org/1999/xlink\">\n",
       "<g id=\"graph0\" class=\"graph\" transform=\"scale(1 1) rotate(0) translate(4 574.4)\">\n",
       "<title>Tree</title>\n",
       "<polygon fill=\"white\" stroke=\"transparent\" points=\"-4,4 -4,-574.4 809.91,-574.4 809.91,4 -4,4\"/>\n",
       "<!-- 0 -->\n",
       "<g id=\"node1\" class=\"node\">\n",
       "<title>0</title>\n",
       "<path fill=\"#f5fef9\" stroke=\"black\" d=\"M322.93,-570.5C322.93,-570.5 210.97,-570.5 210.97,-570.5 204.97,-570.5 198.97,-564.5 198.97,-558.5 198.97,-558.5 198.97,-493.1 198.97,-493.1 198.97,-487.1 204.97,-481.1 210.97,-481.1 210.97,-481.1 322.93,-481.1 322.93,-481.1 328.93,-481.1 334.93,-487.1 334.93,-493.1 334.93,-493.1 334.93,-558.5 334.93,-558.5 334.93,-564.5 328.93,-570.5 322.93,-570.5\"/>\n",
       "<text text-anchor=\"middle\" x=\"266.95\" y=\"-555.2\" font-family=\"Helvetica,sans-Serif\" font-size=\"14.00\">类黄酮 &lt;= 1.575</text>\n",
       "<text text-anchor=\"middle\" x=\"266.95\" y=\"-535.6\" font-family=\"Helvetica,sans-Serif\" font-size=\"14.00\">entropy = 1.572</text>\n",
       "<text text-anchor=\"middle\" x=\"266.95\" y=\"-521.6\" font-family=\"Helvetica,sans-Serif\" font-size=\"14.00\">samples = 124</text>\n",
       "<text text-anchor=\"middle\" x=\"266.95\" y=\"-507.6\" font-family=\"Helvetica,sans-Serif\" font-size=\"14.00\">value = [43, 47, 34]</text>\n",
       "<text text-anchor=\"middle\" x=\"266.95\" y=\"-493.6\" font-family=\"Helvetica,sans-Serif\" font-size=\"14.00\">class = 雪梨</text>\n",
       "</g>\n",
       "<!-- 1 -->\n",
       "<g id=\"node2\" class=\"node\">\n",
       "<title>1</title>\n",
       "<path fill=\"#a673ed\" stroke=\"black\" d=\"M247.62,-445.3C247.62,-445.3 140.29,-445.3 140.29,-445.3 134.29,-445.3 128.29,-439.3 128.29,-433.3 128.29,-433.3 128.29,-367.9 128.29,-367.9 128.29,-361.9 134.29,-355.9 140.29,-355.9 140.29,-355.9 247.62,-355.9 247.62,-355.9 253.62,-355.9 259.62,-361.9 259.62,-367.9 259.62,-367.9 259.62,-433.3 259.62,-433.3 259.62,-439.3 253.62,-445.3 247.62,-445.3\"/>\n",
       "<text text-anchor=\"middle\" x=\"193.95\" y=\"-430\" font-family=\"Helvetica,sans-Serif\" font-size=\"14.00\">颜色强度 &lt;= 3.825</text>\n",
       "<text text-anchor=\"middle\" x=\"193.95\" y=\"-410.4\" font-family=\"Helvetica,sans-Serif\" font-size=\"14.00\">entropy = 0.773</text>\n",
       "<text text-anchor=\"middle\" x=\"193.95\" y=\"-396.4\" font-family=\"Helvetica,sans-Serif\" font-size=\"14.00\">samples = 44</text>\n",
       "<text text-anchor=\"middle\" x=\"193.95\" y=\"-382.4\" font-family=\"Helvetica,sans-Serif\" font-size=\"14.00\">value = [0, 10, 34]</text>\n",
       "<text text-anchor=\"middle\" x=\"193.95\" y=\"-368.4\" font-family=\"Helvetica,sans-Serif\" font-size=\"14.00\">class = 贝尔摩德</text>\n",
       "</g>\n",
       "<!-- 0&#45;&gt;1 -->\n",
       "<g id=\"edge1\" class=\"edge\">\n",
       "<title>0&#45;&gt;1</title>\n",
       "<path fill=\"none\" stroke=\"black\" d=\"M241.01,-481.02C235.85,-472.3 230.37,-463.07 225.06,-454.1\"/>\n",
       "<polygon fill=\"black\" stroke=\"black\" points=\"227.92,-452.06 219.81,-445.24 221.9,-455.63 227.92,-452.06\"/>\n",
       "<text text-anchor=\"middle\" x=\"213.62\" y=\"-465.26\" font-family=\"Helvetica,sans-Serif\" font-size=\"14.00\">True</text>\n",
       "</g>\n",
       "<!-- 6 -->\n",
       "<g id=\"node7\" class=\"node\">\n",
       "<title>6</title>\n",
       "<path fill=\"#fbede3\" stroke=\"black\" d=\"M455.65,-445.3C455.65,-445.3 352.26,-445.3 352.26,-445.3 346.26,-445.3 340.26,-439.3 340.26,-433.3 340.26,-433.3 340.26,-367.9 340.26,-367.9 340.26,-361.9 346.26,-355.9 352.26,-355.9 352.26,-355.9 455.65,-355.9 455.65,-355.9 461.65,-355.9 467.65,-361.9 467.65,-367.9 467.65,-367.9 467.65,-433.3 467.65,-433.3 467.65,-439.3 461.65,-445.3 455.65,-445.3\"/>\n",
       "<text text-anchor=\"middle\" x=\"403.95\" y=\"-430\" font-family=\"Helvetica,sans-Serif\" font-size=\"14.00\">脯氨酸 &lt;= 737.0</text>\n",
       "<text text-anchor=\"middle\" x=\"403.95\" y=\"-410.4\" font-family=\"Helvetica,sans-Serif\" font-size=\"14.00\">entropy = 0.996</text>\n",
       "<text text-anchor=\"middle\" x=\"403.95\" y=\"-396.4\" font-family=\"Helvetica,sans-Serif\" font-size=\"14.00\">samples = 80</text>\n",
       "<text text-anchor=\"middle\" x=\"403.95\" y=\"-382.4\" font-family=\"Helvetica,sans-Serif\" font-size=\"14.00\">value = [43, 37, 0]</text>\n",
       "<text text-anchor=\"middle\" x=\"403.95\" y=\"-368.4\" font-family=\"Helvetica,sans-Serif\" font-size=\"14.00\">class = 琴酒</text>\n",
       "</g>\n",
       "<!-- 0&#45;&gt;6 -->\n",
       "<g id=\"edge6\" class=\"edge\">\n",
       "<title>0&#45;&gt;6</title>\n",
       "<path fill=\"none\" stroke=\"black\" d=\"M315.64,-481.02C326.04,-471.67 337.1,-461.72 347.75,-452.14\"/>\n",
       "<polygon fill=\"black\" stroke=\"black\" points=\"350.33,-454.53 355.42,-445.24 345.65,-449.33 350.33,-454.53\"/>\n",
       "<text text-anchor=\"middle\" x=\"354.1\" y=\"-466.01\" font-family=\"Helvetica,sans-Serif\" font-size=\"14.00\">False</text>\n",
       "</g>\n",
       "<!-- 2 -->\n",
       "<g id=\"node3\" class=\"node\">\n",
       "<title>2</title>\n",
       "<path fill=\"#39e581\" stroke=\"black\" d=\"M104.07,-310C104.07,-310 15.83,-310 15.83,-310 9.83,-310 3.83,-304 3.83,-298 3.83,-298 3.83,-252.8 3.83,-252.8 3.83,-246.8 9.83,-240.8 15.83,-240.8 15.83,-240.8 104.07,-240.8 104.07,-240.8 110.07,-240.8 116.07,-246.8 116.07,-252.8 116.07,-252.8 116.07,-298 116.07,-298 116.07,-304 110.07,-310 104.07,-310\"/>\n",
       "<text text-anchor=\"middle\" x=\"59.95\" y=\"-295\" font-family=\"Helvetica,sans-Serif\" font-size=\"14.00\">entropy = 0.0</text>\n",
       "<text text-anchor=\"middle\" x=\"59.95\" y=\"-281\" font-family=\"Helvetica,sans-Serif\" font-size=\"14.00\">samples = 9</text>\n",
       "<text text-anchor=\"middle\" x=\"59.95\" y=\"-267\" font-family=\"Helvetica,sans-Serif\" font-size=\"14.00\">value = [0, 9, 0]</text>\n",
       "<text text-anchor=\"middle\" x=\"59.95\" y=\"-253\" font-family=\"Helvetica,sans-Serif\" font-size=\"14.00\">class = 雪梨</text>\n",
       "</g>\n",
       "<!-- 1&#45;&gt;2 -->\n",
       "<g id=\"edge2\" class=\"edge\">\n",
       "<title>1&#45;&gt;2</title>\n",
       "<path fill=\"none\" stroke=\"black\" d=\"M146.33,-355.82C132.75,-343.33 118,-329.77 104.61,-317.45\"/>\n",
       "<polygon fill=\"black\" stroke=\"black\" points=\"106.62,-314.55 96.89,-310.36 101.88,-319.71 106.62,-314.55\"/>\n",
       "</g>\n",
       "<!-- 3 -->\n",
       "<g id=\"node4\" class=\"node\">\n",
       "<title>3</title>\n",
       "<path fill=\"#853fe6\" stroke=\"black\" d=\"M241.86,-320.1C241.86,-320.1 146.05,-320.1 146.05,-320.1 140.05,-320.1 134.05,-314.1 134.05,-308.1 134.05,-308.1 134.05,-242.7 134.05,-242.7 134.05,-236.7 140.05,-230.7 146.05,-230.7 146.05,-230.7 241.86,-230.7 241.86,-230.7 247.86,-230.7 253.86,-236.7 253.86,-242.7 253.86,-242.7 253.86,-308.1 253.86,-308.1 253.86,-314.1 247.86,-320.1 241.86,-320.1\"/>\n",
       "<text text-anchor=\"middle\" x=\"193.95\" y=\"-304.8\" font-family=\"Helvetica,sans-Serif\" font-size=\"14.00\">色调 &lt;= 0.97</text>\n",
       "<text text-anchor=\"middle\" x=\"193.95\" y=\"-285.2\" font-family=\"Helvetica,sans-Serif\" font-size=\"14.00\">entropy = 0.187</text>\n",
       "<text text-anchor=\"middle\" x=\"193.95\" y=\"-271.2\" font-family=\"Helvetica,sans-Serif\" font-size=\"14.00\">samples = 35</text>\n",
       "<text text-anchor=\"middle\" x=\"193.95\" y=\"-257.2\" font-family=\"Helvetica,sans-Serif\" font-size=\"14.00\">value = [0, 1, 34]</text>\n",
       "<text text-anchor=\"middle\" x=\"193.95\" y=\"-243.2\" font-family=\"Helvetica,sans-Serif\" font-size=\"14.00\">class = 贝尔摩德</text>\n",
       "</g>\n",
       "<!-- 1&#45;&gt;3 -->\n",
       "<g id=\"edge3\" class=\"edge\">\n",
       "<title>1&#45;&gt;3</title>\n",
       "<path fill=\"none\" stroke=\"black\" d=\"M193.95,-355.82C193.95,-347.56 193.95,-338.83 193.95,-330.3\"/>\n",
       "<polygon fill=\"black\" stroke=\"black\" points=\"197.45,-330.04 193.95,-320.04 190.45,-330.04 197.45,-330.04\"/>\n",
       "</g>\n",
       "<!-- 4 -->\n",
       "<g id=\"node5\" class=\"node\">\n",
       "<title>4</title>\n",
       "<path fill=\"#8139e5\" stroke=\"black\" d=\"M107.86,-184.8C107.86,-184.8 12.05,-184.8 12.05,-184.8 6.05,-184.8 0.05,-178.8 0.05,-172.8 0.05,-172.8 0.05,-127.6 0.05,-127.6 0.05,-121.6 6.05,-115.6 12.05,-115.6 12.05,-115.6 107.86,-115.6 107.86,-115.6 113.86,-115.6 119.86,-121.6 119.86,-127.6 119.86,-127.6 119.86,-172.8 119.86,-172.8 119.86,-178.8 113.86,-184.8 107.86,-184.8\"/>\n",
       "<text text-anchor=\"middle\" x=\"59.95\" y=\"-169.8\" font-family=\"Helvetica,sans-Serif\" font-size=\"14.00\">entropy = 0.0</text>\n",
       "<text text-anchor=\"middle\" x=\"59.95\" y=\"-155.8\" font-family=\"Helvetica,sans-Serif\" font-size=\"14.00\">samples = 34</text>\n",
       "<text text-anchor=\"middle\" x=\"59.95\" y=\"-141.8\" font-family=\"Helvetica,sans-Serif\" font-size=\"14.00\">value = [0, 0, 34]</text>\n",
       "<text text-anchor=\"middle\" x=\"59.95\" y=\"-127.8\" font-family=\"Helvetica,sans-Serif\" font-size=\"14.00\">class = 贝尔摩德</text>\n",
       "</g>\n",
       "<!-- 3&#45;&gt;4 -->\n",
       "<g id=\"edge4\" class=\"edge\">\n",
       "<title>3&#45;&gt;4</title>\n",
       "<path fill=\"none\" stroke=\"black\" d=\"M146.33,-230.62C132.75,-218.13 118,-204.57 104.61,-192.25\"/>\n",
       "<polygon fill=\"black\" stroke=\"black\" points=\"106.62,-189.35 96.89,-185.16 101.88,-194.51 106.62,-189.35\"/>\n",
       "</g>\n",
       "<!-- 5 -->\n",
       "<g id=\"node6\" class=\"node\">\n",
       "<title>5</title>\n",
       "<path fill=\"#39e581\" stroke=\"black\" d=\"M238.07,-184.8C238.07,-184.8 149.83,-184.8 149.83,-184.8 143.83,-184.8 137.83,-178.8 137.83,-172.8 137.83,-172.8 137.83,-127.6 137.83,-127.6 137.83,-121.6 143.83,-115.6 149.83,-115.6 149.83,-115.6 238.07,-115.6 238.07,-115.6 244.07,-115.6 250.07,-121.6 250.07,-127.6 250.07,-127.6 250.07,-172.8 250.07,-172.8 250.07,-178.8 244.07,-184.8 238.07,-184.8\"/>\n",
       "<text text-anchor=\"middle\" x=\"193.95\" y=\"-169.8\" font-family=\"Helvetica,sans-Serif\" font-size=\"14.00\">entropy = 0.0</text>\n",
       "<text text-anchor=\"middle\" x=\"193.95\" y=\"-155.8\" font-family=\"Helvetica,sans-Serif\" font-size=\"14.00\">samples = 1</text>\n",
       "<text text-anchor=\"middle\" x=\"193.95\" y=\"-141.8\" font-family=\"Helvetica,sans-Serif\" font-size=\"14.00\">value = [0, 1, 0]</text>\n",
       "<text text-anchor=\"middle\" x=\"193.95\" y=\"-127.8\" font-family=\"Helvetica,sans-Serif\" font-size=\"14.00\">class = 雪梨</text>\n",
       "</g>\n",
       "<!-- 3&#45;&gt;5 -->\n",
       "<g id=\"edge5\" class=\"edge\">\n",
       "<title>3&#45;&gt;5</title>\n",
       "<path fill=\"none\" stroke=\"black\" d=\"M193.95,-230.62C193.95,-219.18 193.95,-206.85 193.95,-195.39\"/>\n",
       "<polygon fill=\"black\" stroke=\"black\" points=\"197.45,-195.16 193.95,-185.16 190.45,-195.16 197.45,-195.16\"/>\n",
       "</g>\n",
       "<!-- 7 -->\n",
       "<g id=\"node8\" class=\"node\">\n",
       "<title>7</title>\n",
       "<path fill=\"#3fe685\" stroke=\"black\" d=\"M451.86,-320.1C451.86,-320.1 356.05,-320.1 356.05,-320.1 350.05,-320.1 344.05,-314.1 344.05,-308.1 344.05,-308.1 344.05,-242.7 344.05,-242.7 344.05,-236.7 350.05,-230.7 356.05,-230.7 356.05,-230.7 451.86,-230.7 451.86,-230.7 457.86,-230.7 463.86,-236.7 463.86,-242.7 463.86,-242.7 463.86,-308.1 463.86,-308.1 463.86,-314.1 457.86,-320.1 451.86,-320.1\"/>\n",
       "<text text-anchor=\"middle\" x=\"403.95\" y=\"-304.8\" font-family=\"Helvetica,sans-Serif\" font-size=\"14.00\">脯氨酸 &lt;= 676.0</text>\n",
       "<text text-anchor=\"middle\" x=\"403.95\" y=\"-285.2\" font-family=\"Helvetica,sans-Serif\" font-size=\"14.00\">entropy = 0.187</text>\n",
       "<text text-anchor=\"middle\" x=\"403.95\" y=\"-271.2\" font-family=\"Helvetica,sans-Serif\" font-size=\"14.00\">samples = 35</text>\n",
       "<text text-anchor=\"middle\" x=\"403.95\" y=\"-257.2\" font-family=\"Helvetica,sans-Serif\" font-size=\"14.00\">value = [1, 34, 0]</text>\n",
       "<text text-anchor=\"middle\" x=\"403.95\" y=\"-243.2\" font-family=\"Helvetica,sans-Serif\" font-size=\"14.00\">class = 雪梨</text>\n",
       "</g>\n",
       "<!-- 6&#45;&gt;7 -->\n",
       "<g id=\"edge7\" class=\"edge\">\n",
       "<title>6&#45;&gt;7</title>\n",
       "<path fill=\"none\" stroke=\"black\" d=\"M403.95,-355.82C403.95,-347.56 403.95,-338.83 403.95,-330.3\"/>\n",
       "<polygon fill=\"black\" stroke=\"black\" points=\"407.45,-330.04 403.95,-320.04 400.45,-330.04 407.45,-330.04\"/>\n",
       "</g>\n",
       "<!-- 12 -->\n",
       "<g id=\"node13\" class=\"node\">\n",
       "<title>12</title>\n",
       "<path fill=\"#e78a47\" stroke=\"black\" d=\"M665.62,-320.1C665.62,-320.1 558.29,-320.1 558.29,-320.1 552.29,-320.1 546.29,-314.1 546.29,-308.1 546.29,-308.1 546.29,-242.7 546.29,-242.7 546.29,-236.7 552.29,-230.7 558.29,-230.7 558.29,-230.7 665.62,-230.7 665.62,-230.7 671.62,-230.7 677.62,-236.7 677.62,-242.7 677.62,-242.7 677.62,-308.1 677.62,-308.1 677.62,-314.1 671.62,-320.1 665.62,-320.1\"/>\n",
       "<text text-anchor=\"middle\" x=\"611.95\" y=\"-304.8\" font-family=\"Helvetica,sans-Serif\" font-size=\"14.00\">颜色强度 &lt;= 3.435</text>\n",
       "<text text-anchor=\"middle\" x=\"611.95\" y=\"-285.2\" font-family=\"Helvetica,sans-Serif\" font-size=\"14.00\">entropy = 0.353</text>\n",
       "<text text-anchor=\"middle\" x=\"611.95\" y=\"-271.2\" font-family=\"Helvetica,sans-Serif\" font-size=\"14.00\">samples = 45</text>\n",
       "<text text-anchor=\"middle\" x=\"611.95\" y=\"-257.2\" font-family=\"Helvetica,sans-Serif\" font-size=\"14.00\">value = [42, 3, 0]</text>\n",
       "<text text-anchor=\"middle\" x=\"611.95\" y=\"-243.2\" font-family=\"Helvetica,sans-Serif\" font-size=\"14.00\">class = 琴酒</text>\n",
       "</g>\n",
       "<!-- 6&#45;&gt;12 -->\n",
       "<g id=\"edge12\" class=\"edge\">\n",
       "<title>6&#45;&gt;12</title>\n",
       "<path fill=\"none\" stroke=\"black\" d=\"M467.77,-361.8C489.8,-348.75 514.67,-334.02 537.47,-320.52\"/>\n",
       "<polygon fill=\"black\" stroke=\"black\" points=\"539.28,-323.52 546.1,-315.41 535.71,-317.49 539.28,-323.52\"/>\n",
       "</g>\n",
       "<!-- 8 -->\n",
       "<g id=\"node9\" class=\"node\">\n",
       "<title>8</title>\n",
       "<path fill=\"#39e581\" stroke=\"black\" d=\"M375.86,-184.8C375.86,-184.8 280.05,-184.8 280.05,-184.8 274.05,-184.8 268.05,-178.8 268.05,-172.8 268.05,-172.8 268.05,-127.6 268.05,-127.6 268.05,-121.6 274.05,-115.6 280.05,-115.6 280.05,-115.6 375.86,-115.6 375.86,-115.6 381.86,-115.6 387.86,-121.6 387.86,-127.6 387.86,-127.6 387.86,-172.8 387.86,-172.8 387.86,-178.8 381.86,-184.8 375.86,-184.8\"/>\n",
       "<text text-anchor=\"middle\" x=\"327.95\" y=\"-169.8\" font-family=\"Helvetica,sans-Serif\" font-size=\"14.00\">entropy = 0.0</text>\n",
       "<text text-anchor=\"middle\" x=\"327.95\" y=\"-155.8\" font-family=\"Helvetica,sans-Serif\" font-size=\"14.00\">samples = 32</text>\n",
       "<text text-anchor=\"middle\" x=\"327.95\" y=\"-141.8\" font-family=\"Helvetica,sans-Serif\" font-size=\"14.00\">value = [0, 32, 0]</text>\n",
       "<text text-anchor=\"middle\" x=\"327.95\" y=\"-127.8\" font-family=\"Helvetica,sans-Serif\" font-size=\"14.00\">class = 雪梨</text>\n",
       "</g>\n",
       "<!-- 7&#45;&gt;8 -->\n",
       "<g id=\"edge8\" class=\"edge\">\n",
       "<title>7&#45;&gt;8</title>\n",
       "<path fill=\"none\" stroke=\"black\" d=\"M376.94,-230.62C369.6,-218.71 361.66,-205.84 354.35,-193.99\"/>\n",
       "<polygon fill=\"black\" stroke=\"black\" points=\"357.13,-191.83 348.9,-185.16 351.17,-195.51 357.13,-191.83\"/>\n",
       "</g>\n",
       "<!-- 9 -->\n",
       "<g id=\"node10\" class=\"node\">\n",
       "<title>9</title>\n",
       "<path fill=\"#9cf2c0\" stroke=\"black\" d=\"M525.62,-194.9C525.62,-194.9 418.29,-194.9 418.29,-194.9 412.29,-194.9 406.29,-188.9 406.29,-182.9 406.29,-182.9 406.29,-117.5 406.29,-117.5 406.29,-111.5 412.29,-105.5 418.29,-105.5 418.29,-105.5 525.62,-105.5 525.62,-105.5 531.62,-105.5 537.62,-111.5 537.62,-117.5 537.62,-117.5 537.62,-182.9 537.62,-182.9 537.62,-188.9 531.62,-194.9 525.62,-194.9\"/>\n",
       "<text text-anchor=\"middle\" x=\"471.95\" y=\"-179.6\" font-family=\"Helvetica,sans-Serif\" font-size=\"14.00\">灰的碱性 &lt;= 18.15</text>\n",
       "<text text-anchor=\"middle\" x=\"471.95\" y=\"-160\" font-family=\"Helvetica,sans-Serif\" font-size=\"14.00\">entropy = 0.918</text>\n",
       "<text text-anchor=\"middle\" x=\"471.95\" y=\"-146\" font-family=\"Helvetica,sans-Serif\" font-size=\"14.00\">samples = 3</text>\n",
       "<text text-anchor=\"middle\" x=\"471.95\" y=\"-132\" font-family=\"Helvetica,sans-Serif\" font-size=\"14.00\">value = [1, 2, 0]</text>\n",
       "<text text-anchor=\"middle\" x=\"471.95\" y=\"-118\" font-family=\"Helvetica,sans-Serif\" font-size=\"14.00\">class = 雪梨</text>\n",
       "</g>\n",
       "<!-- 7&#45;&gt;9 -->\n",
       "<g id=\"edge9\" class=\"edge\">\n",
       "<title>7&#45;&gt;9</title>\n",
       "<path fill=\"none\" stroke=\"black\" d=\"M428.12,-230.62C432.93,-221.9 438.03,-212.67 442.98,-203.7\"/>\n",
       "<polygon fill=\"black\" stroke=\"black\" points=\"446.1,-205.29 447.87,-194.84 439.97,-201.91 446.1,-205.29\"/>\n",
       "</g>\n",
       "<!-- 10 -->\n",
       "<g id=\"node11\" class=\"node\">\n",
       "<title>10</title>\n",
       "<path fill=\"#e58139\" stroke=\"black\" d=\"M451.07,-69.4C451.07,-69.4 362.83,-69.4 362.83,-69.4 356.83,-69.4 350.83,-63.4 350.83,-57.4 350.83,-57.4 350.83,-12.2 350.83,-12.2 350.83,-6.2 356.83,-0.2 362.83,-0.2 362.83,-0.2 451.07,-0.2 451.07,-0.2 457.07,-0.2 463.07,-6.2 463.07,-12.2 463.07,-12.2 463.07,-57.4 463.07,-57.4 463.07,-63.4 457.07,-69.4 451.07,-69.4\"/>\n",
       "<text text-anchor=\"middle\" x=\"406.95\" y=\"-54.4\" font-family=\"Helvetica,sans-Serif\" font-size=\"14.00\">entropy = 0.0</text>\n",
       "<text text-anchor=\"middle\" x=\"406.95\" y=\"-40.4\" font-family=\"Helvetica,sans-Serif\" font-size=\"14.00\">samples = 1</text>\n",
       "<text text-anchor=\"middle\" x=\"406.95\" y=\"-26.4\" font-family=\"Helvetica,sans-Serif\" font-size=\"14.00\">value = [1, 0, 0]</text>\n",
       "<text text-anchor=\"middle\" x=\"406.95\" y=\"-12.4\" font-family=\"Helvetica,sans-Serif\" font-size=\"14.00\">class = 琴酒</text>\n",
       "</g>\n",
       "<!-- 9&#45;&gt;10 -->\n",
       "<g id=\"edge10\" class=\"edge\">\n",
       "<title>9&#45;&gt;10</title>\n",
       "<path fill=\"none\" stroke=\"black\" d=\"M446.82,-105.36C441.78,-96.57 436.5,-87.34 431.48,-78.59\"/>\n",
       "<polygon fill=\"black\" stroke=\"black\" points=\"434.38,-76.61 426.37,-69.68 428.31,-80.09 434.38,-76.61\"/>\n",
       "</g>\n",
       "<!-- 11 -->\n",
       "<g id=\"node12\" class=\"node\">\n",
       "<title>11</title>\n",
       "<path fill=\"#39e581\" stroke=\"black\" d=\"M581.07,-69.4C581.07,-69.4 492.83,-69.4 492.83,-69.4 486.83,-69.4 480.83,-63.4 480.83,-57.4 480.83,-57.4 480.83,-12.2 480.83,-12.2 480.83,-6.2 486.83,-0.2 492.83,-0.2 492.83,-0.2 581.07,-0.2 581.07,-0.2 587.07,-0.2 593.07,-6.2 593.07,-12.2 593.07,-12.2 593.07,-57.4 593.07,-57.4 593.07,-63.4 587.07,-69.4 581.07,-69.4\"/>\n",
       "<text text-anchor=\"middle\" x=\"536.95\" y=\"-54.4\" font-family=\"Helvetica,sans-Serif\" font-size=\"14.00\">entropy = 0.0</text>\n",
       "<text text-anchor=\"middle\" x=\"536.95\" y=\"-40.4\" font-family=\"Helvetica,sans-Serif\" font-size=\"14.00\">samples = 2</text>\n",
       "<text text-anchor=\"middle\" x=\"536.95\" y=\"-26.4\" font-family=\"Helvetica,sans-Serif\" font-size=\"14.00\">value = [0, 2, 0]</text>\n",
       "<text text-anchor=\"middle\" x=\"536.95\" y=\"-12.4\" font-family=\"Helvetica,sans-Serif\" font-size=\"14.00\">class = 雪梨</text>\n",
       "</g>\n",
       "<!-- 9&#45;&gt;11 -->\n",
       "<g id=\"edge11\" class=\"edge\">\n",
       "<title>9&#45;&gt;11</title>\n",
       "<path fill=\"none\" stroke=\"black\" d=\"M497.08,-105.36C502.12,-96.57 507.41,-87.34 512.43,-78.59\"/>\n",
       "<polygon fill=\"black\" stroke=\"black\" points=\"515.6,-80.09 517.53,-69.68 509.52,-76.61 515.6,-80.09\"/>\n",
       "</g>\n",
       "<!-- 13 -->\n",
       "<g id=\"node14\" class=\"node\">\n",
       "<title>13</title>\n",
       "<path fill=\"#39e581\" stroke=\"black\" d=\"M656.07,-184.8C656.07,-184.8 567.83,-184.8 567.83,-184.8 561.83,-184.8 555.83,-178.8 555.83,-172.8 555.83,-172.8 555.83,-127.6 555.83,-127.6 555.83,-121.6 561.83,-115.6 567.83,-115.6 567.83,-115.6 656.07,-115.6 656.07,-115.6 662.07,-115.6 668.07,-121.6 668.07,-127.6 668.07,-127.6 668.07,-172.8 668.07,-172.8 668.07,-178.8 662.07,-184.8 656.07,-184.8\"/>\n",
       "<text text-anchor=\"middle\" x=\"611.95\" y=\"-169.8\" font-family=\"Helvetica,sans-Serif\" font-size=\"14.00\">entropy = 0.0</text>\n",
       "<text text-anchor=\"middle\" x=\"611.95\" y=\"-155.8\" font-family=\"Helvetica,sans-Serif\" font-size=\"14.00\">samples = 3</text>\n",
       "<text text-anchor=\"middle\" x=\"611.95\" y=\"-141.8\" font-family=\"Helvetica,sans-Serif\" font-size=\"14.00\">value = [0, 3, 0]</text>\n",
       "<text text-anchor=\"middle\" x=\"611.95\" y=\"-127.8\" font-family=\"Helvetica,sans-Serif\" font-size=\"14.00\">class = 雪梨</text>\n",
       "</g>\n",
       "<!-- 12&#45;&gt;13 -->\n",
       "<g id=\"edge13\" class=\"edge\">\n",
       "<title>12&#45;&gt;13</title>\n",
       "<path fill=\"none\" stroke=\"black\" d=\"M611.95,-230.62C611.95,-219.18 611.95,-206.85 611.95,-195.39\"/>\n",
       "<polygon fill=\"black\" stroke=\"black\" points=\"615.45,-195.16 611.95,-185.16 608.45,-195.16 615.45,-195.16\"/>\n",
       "</g>\n",
       "<!-- 14 -->\n",
       "<g id=\"node15\" class=\"node\">\n",
       "<title>14</title>\n",
       "<path fill=\"#e58139\" stroke=\"black\" d=\"M793.86,-184.8C793.86,-184.8 698.05,-184.8 698.05,-184.8 692.05,-184.8 686.05,-178.8 686.05,-172.8 686.05,-172.8 686.05,-127.6 686.05,-127.6 686.05,-121.6 692.05,-115.6 698.05,-115.6 698.05,-115.6 793.86,-115.6 793.86,-115.6 799.86,-115.6 805.86,-121.6 805.86,-127.6 805.86,-127.6 805.86,-172.8 805.86,-172.8 805.86,-178.8 799.86,-184.8 793.86,-184.8\"/>\n",
       "<text text-anchor=\"middle\" x=\"745.95\" y=\"-169.8\" font-family=\"Helvetica,sans-Serif\" font-size=\"14.00\">entropy = 0.0</text>\n",
       "<text text-anchor=\"middle\" x=\"745.95\" y=\"-155.8\" font-family=\"Helvetica,sans-Serif\" font-size=\"14.00\">samples = 42</text>\n",
       "<text text-anchor=\"middle\" x=\"745.95\" y=\"-141.8\" font-family=\"Helvetica,sans-Serif\" font-size=\"14.00\">value = [42, 0, 0]</text>\n",
       "<text text-anchor=\"middle\" x=\"745.95\" y=\"-127.8\" font-family=\"Helvetica,sans-Serif\" font-size=\"14.00\">class = 琴酒</text>\n",
       "</g>\n",
       "<!-- 12&#45;&gt;14 -->\n",
       "<g id=\"edge14\" class=\"edge\">\n",
       "<title>12&#45;&gt;14</title>\n",
       "<path fill=\"none\" stroke=\"black\" d=\"M659.57,-230.62C673.16,-218.13 687.9,-204.57 701.3,-192.25\"/>\n",
       "<polygon fill=\"black\" stroke=\"black\" points=\"704.02,-194.51 709.02,-185.16 699.29,-189.35 704.02,-194.51\"/>\n",
       "</g>\n",
       "</g>\n",
       "</svg>\n"
      ],
      "text/plain": [
       "<graphviz.files.Source at 0x12d3c9cd0>"
      ]
     },
     "execution_count": 14,
     "metadata": {},
     "output_type": "execute_result"
    }
   ],
   "source": [
    "import graphviz\n",
    "feature_name = ['酒精', '苹果酸', '灰', '灰的碱性', '镁', '总酚', '类黄酮',\n",
    "                '非黄烷类酚类', '花青素', '颜色强度', '色调', 'od280/od315稀释葡萄酒', '脯氨酸']\n",
    "\n",
    "dot_data = tree.export_graphviz(clf,\n",
    "                                out_file=None,\n",
    "                                feature_names=feature_name,\n",
    "                                class_names=['琴酒', '雪梨', '贝尔摩德'],\n",
    "                                filled=True,\n",
    "                                rounded=True,\n",
    "                                )\n",
    "graph = graphviz.Source(dot_data)\n",
    "graph"
   ]
  },
  {
   "cell_type": "code",
   "execution_count": 15,
   "metadata": {},
   "outputs": [
    {
     "data": {
      "text/plain": [
       "'tree.pdf'"
      ]
     },
     "execution_count": 15,
     "metadata": {},
     "output_type": "execute_result"
    }
   ],
   "source": [
    "graph.render('tree')"
   ]
  },
  {
   "cell_type": "code",
   "execution_count": 16,
   "metadata": {},
   "outputs": [
    {
     "data": {
      "text/plain": [
       "array([0.        , 0.        , 0.        , 0.01413114, 0.        ,\n",
       "       0.        , 0.41679322, 0.        , 0.        , 0.22247567,\n",
       "       0.03360409, 0.        , 0.31299588])"
      ]
     },
     "execution_count": 16,
     "metadata": {},
     "output_type": "execute_result"
    }
   ],
   "source": [
    "clf.feature_importances_"
   ]
  },
  {
   "cell_type": "code",
   "execution_count": 17,
   "metadata": {},
   "outputs": [
    {
     "data": {
      "text/plain": [
       "{'酒精': 0.0,\n",
       " '苹果酸': 0.0,\n",
       " '灰': 0.0,\n",
       " '灰的碱性': 0.014131139593936162,\n",
       " '镁': 0.0,\n",
       " '总酚': 0.0,\n",
       " '类黄酮': 0.4167932239607436,\n",
       " '非黄烷类酚类': 0.0,\n",
       " '花青素': 0.0,\n",
       " '颜色强度': 0.22247566524329718,\n",
       " '色调': 0.03360408852862417,\n",
       " 'od280/od315稀释葡萄酒': 0.0,\n",
       " '脯氨酸': 0.31299588267339884}"
      ]
     },
     "execution_count": 17,
     "metadata": {},
     "output_type": "execute_result"
    }
   ],
   "source": [
    "list(zip(feature_name, clf.feature_importances_))\n",
    "dict(zip(feature_name, clf.feature_importances_))"
   ]
  },
  {
   "cell_type": "code",
   "execution_count": 18,
   "metadata": {},
   "outputs": [
    {
     "data": {
      "text/plain": [
       "0.9444444444444444"
      ]
     },
     "execution_count": 18,
     "metadata": {},
     "output_type": "execute_result"
    }
   ],
   "source": [
    "clf = tree.DecisionTreeClassifier(criterion='entropy', random_state=30)\n",
    "clf.fit(X_train, Y_train)\n",
    "score = clf.score(X_test, Y_test)\n",
    "score"
   ]
  },
  {
   "cell_type": "code",
   "execution_count": 19,
   "metadata": {},
   "outputs": [
    {
     "data": {
      "text/plain": [
       "1.0"
      ]
     },
     "execution_count": 19,
     "metadata": {},
     "output_type": "execute_result"
    }
   ],
   "source": [
    "clf = tree.DecisionTreeClassifier(criterion=\"entropy\",\n",
    "                                  random_state=30,\n",
    "                                  splitter=\"random\"\n",
    "                                  )\n",
    "clf = clf.fit(X_train, Y_train)\n",
    "score = clf.score(X_test, Y_test)\n",
    "score"
   ]
  },
  {
   "cell_type": "code",
   "execution_count": 20,
   "metadata": {},
   "outputs": [
    {
     "data": {
      "image/svg+xml": [
       "<?xml version=\"1.0\" encoding=\"UTF-8\" standalone=\"no\"?>\n",
       "<!DOCTYPE svg PUBLIC \"-//W3C//DTD SVG 1.1//EN\"\n",
       " \"http://www.w3.org/Graphics/SVG/1.1/DTD/svg11.dtd\">\n",
       "<!-- Generated by graphviz version 2.42.3 (20191010.1750)\n",
       " -->\n",
       "<!-- Title: Tree Pages: 1 -->\n",
       "<svg width=\"1286pt\" height=\"954pt\"\n",
       " viewBox=\"0.00 0.00 1286.01 954.00\" xmlns=\"http://www.w3.org/2000/svg\" xmlns:xlink=\"http://www.w3.org/1999/xlink\">\n",
       "<g id=\"graph0\" class=\"graph\" transform=\"scale(1 1) rotate(0) translate(4 950)\">\n",
       "<title>Tree</title>\n",
       "<polygon fill=\"white\" stroke=\"transparent\" points=\"-4,4 -4,-950 1282.01,-950 1282.01,4 -4,4\"/>\n",
       "<!-- 0 -->\n",
       "<g id=\"node1\" class=\"node\">\n",
       "<title>0</title>\n",
       "<path fill=\"#f5fef9\" stroke=\"black\" d=\"M704.93,-946.1C704.93,-946.1 592.97,-946.1 592.97,-946.1 586.97,-946.1 580.97,-940.1 580.97,-934.1 580.97,-934.1 580.97,-868.7 580.97,-868.7 580.97,-862.7 586.97,-856.7 592.97,-856.7 592.97,-856.7 704.93,-856.7 704.93,-856.7 710.93,-856.7 716.93,-862.7 716.93,-868.7 716.93,-868.7 716.93,-934.1 716.93,-934.1 716.93,-940.1 710.93,-946.1 704.93,-946.1\"/>\n",
       "<text text-anchor=\"middle\" x=\"648.95\" y=\"-930.8\" font-family=\"Helvetica,sans-Serif\" font-size=\"14.00\">类黄酮 &lt;= 1.714</text>\n",
       "<text text-anchor=\"middle\" x=\"648.95\" y=\"-911.2\" font-family=\"Helvetica,sans-Serif\" font-size=\"14.00\">entropy = 1.572</text>\n",
       "<text text-anchor=\"middle\" x=\"648.95\" y=\"-897.2\" font-family=\"Helvetica,sans-Serif\" font-size=\"14.00\">samples = 124</text>\n",
       "<text text-anchor=\"middle\" x=\"648.95\" y=\"-883.2\" font-family=\"Helvetica,sans-Serif\" font-size=\"14.00\">value = [43, 47, 34]</text>\n",
       "<text text-anchor=\"middle\" x=\"648.95\" y=\"-869.2\" font-family=\"Helvetica,sans-Serif\" font-size=\"14.00\">class = 雪莉</text>\n",
       "</g>\n",
       "<!-- 1 -->\n",
       "<g id=\"node2\" class=\"node\">\n",
       "<title>1</title>\n",
       "<path fill=\"#bc96f1\" stroke=\"black\" d=\"M615.84,-820.9C615.84,-820.9 414.07,-820.9 414.07,-820.9 408.07,-820.9 402.07,-814.9 402.07,-808.9 402.07,-808.9 402.07,-743.5 402.07,-743.5 402.07,-737.5 408.07,-731.5 414.07,-731.5 414.07,-731.5 615.84,-731.5 615.84,-731.5 621.84,-731.5 627.84,-737.5 627.84,-743.5 627.84,-743.5 627.84,-808.9 627.84,-808.9 627.84,-814.9 621.84,-820.9 615.84,-820.9\"/>\n",
       "<text text-anchor=\"middle\" x=\"514.95\" y=\"-805.6\" font-family=\"Helvetica,sans-Serif\" font-size=\"14.00\">od280/od315稀释葡萄酒 &lt;= 2.112</text>\n",
       "<text text-anchor=\"middle\" x=\"514.95\" y=\"-786\" font-family=\"Helvetica,sans-Serif\" font-size=\"14.00\">entropy = 0.904</text>\n",
       "<text text-anchor=\"middle\" x=\"514.95\" y=\"-772\" font-family=\"Helvetica,sans-Serif\" font-size=\"14.00\">samples = 50</text>\n",
       "<text text-anchor=\"middle\" x=\"514.95\" y=\"-758\" font-family=\"Helvetica,sans-Serif\" font-size=\"14.00\">value = [0, 16, 34]</text>\n",
       "<text text-anchor=\"middle\" x=\"514.95\" y=\"-744\" font-family=\"Helvetica,sans-Serif\" font-size=\"14.00\">class = 贝尔摩德</text>\n",
       "</g>\n",
       "<!-- 0&#45;&gt;1 -->\n",
       "<g id=\"edge1\" class=\"edge\">\n",
       "<title>0&#45;&gt;1</title>\n",
       "<path fill=\"none\" stroke=\"black\" d=\"M601.33,-856.62C591.16,-847.27 580.34,-837.32 569.92,-827.74\"/>\n",
       "<polygon fill=\"black\" stroke=\"black\" points=\"572.15,-825.03 562.42,-820.84 567.41,-830.19 572.15,-825.03\"/>\n",
       "<text text-anchor=\"middle\" x=\"563.47\" y=\"-841.62\" font-family=\"Helvetica,sans-Serif\" font-size=\"14.00\">True</text>\n",
       "</g>\n",
       "<!-- 18 -->\n",
       "<g id=\"node19\" class=\"node\">\n",
       "<title>18</title>\n",
       "<path fill=\"#f8dcc8\" stroke=\"black\" d=\"M858.65,-820.9C858.65,-820.9 755.26,-820.9 755.26,-820.9 749.26,-820.9 743.26,-814.9 743.26,-808.9 743.26,-808.9 743.26,-743.5 743.26,-743.5 743.26,-737.5 749.26,-731.5 755.26,-731.5 755.26,-731.5 858.65,-731.5 858.65,-731.5 864.65,-731.5 870.65,-737.5 870.65,-743.5 870.65,-743.5 870.65,-808.9 870.65,-808.9 870.65,-814.9 864.65,-820.9 858.65,-820.9\"/>\n",
       "<text text-anchor=\"middle\" x=\"806.95\" y=\"-805.6\" font-family=\"Helvetica,sans-Serif\" font-size=\"14.00\">镁 &lt;= 96.577</text>\n",
       "<text text-anchor=\"middle\" x=\"806.95\" y=\"-786\" font-family=\"Helvetica,sans-Serif\" font-size=\"14.00\">entropy = 0.981</text>\n",
       "<text text-anchor=\"middle\" x=\"806.95\" y=\"-772\" font-family=\"Helvetica,sans-Serif\" font-size=\"14.00\">samples = 74</text>\n",
       "<text text-anchor=\"middle\" x=\"806.95\" y=\"-758\" font-family=\"Helvetica,sans-Serif\" font-size=\"14.00\">value = [43, 31, 0]</text>\n",
       "<text text-anchor=\"middle\" x=\"806.95\" y=\"-744\" font-family=\"Helvetica,sans-Serif\" font-size=\"14.00\">class = 琴酒</text>\n",
       "</g>\n",
       "<!-- 0&#45;&gt;18 -->\n",
       "<g id=\"edge18\" class=\"edge\">\n",
       "<title>0&#45;&gt;18</title>\n",
       "<path fill=\"none\" stroke=\"black\" d=\"M705.1,-856.62C717.33,-847.09 730.35,-836.93 742.85,-827.18\"/>\n",
       "<polygon fill=\"black\" stroke=\"black\" points=\"745.25,-829.75 750.98,-820.84 740.95,-824.23 745.25,-829.75\"/>\n",
       "<text text-anchor=\"middle\" x=\"747.91\" y=\"-841.45\" font-family=\"Helvetica,sans-Serif\" font-size=\"14.00\">False</text>\n",
       "</g>\n",
       "<!-- 2 -->\n",
       "<g id=\"node3\" class=\"node\">\n",
       "<title>2</title>\n",
       "<path fill=\"#995eea\" stroke=\"black\" d=\"M381.86,-695.7C381.86,-695.7 286.05,-695.7 286.05,-695.7 280.05,-695.7 274.05,-689.7 274.05,-683.7 274.05,-683.7 274.05,-618.3 274.05,-618.3 274.05,-612.3 280.05,-606.3 286.05,-606.3 286.05,-606.3 381.86,-606.3 381.86,-606.3 387.86,-606.3 393.86,-612.3 393.86,-618.3 393.86,-618.3 393.86,-683.7 393.86,-683.7 393.86,-689.7 387.86,-695.7 381.86,-695.7\"/>\n",
       "<text text-anchor=\"middle\" x=\"333.95\" y=\"-680.4\" font-family=\"Helvetica,sans-Serif\" font-size=\"14.00\">色调 &lt;= 0.95</text>\n",
       "<text text-anchor=\"middle\" x=\"333.95\" y=\"-660.8\" font-family=\"Helvetica,sans-Serif\" font-size=\"14.00\">entropy = 0.629</text>\n",
       "<text text-anchor=\"middle\" x=\"333.95\" y=\"-646.8\" font-family=\"Helvetica,sans-Serif\" font-size=\"14.00\">samples = 38</text>\n",
       "<text text-anchor=\"middle\" x=\"333.95\" y=\"-632.8\" font-family=\"Helvetica,sans-Serif\" font-size=\"14.00\">value = [0, 6, 32]</text>\n",
       "<text text-anchor=\"middle\" x=\"333.95\" y=\"-618.8\" font-family=\"Helvetica,sans-Serif\" font-size=\"14.00\">class = 贝尔摩德</text>\n",
       "</g>\n",
       "<!-- 1&#45;&gt;2 -->\n",
       "<g id=\"edge2\" class=\"edge\">\n",
       "<title>1&#45;&gt;2</title>\n",
       "<path fill=\"none\" stroke=\"black\" d=\"M450.88,-731.59C435.27,-720.96 418.5,-709.55 402.68,-698.78\"/>\n",
       "<polygon fill=\"black\" stroke=\"black\" points=\"404.23,-695.6 394,-692.87 400.29,-701.39 404.23,-695.6\"/>\n",
       "</g>\n",
       "<!-- 15 -->\n",
       "<g id=\"node16\" class=\"node\">\n",
       "<title>15</title>\n",
       "<path fill=\"#61ea9a\" stroke=\"black\" d=\"M568.62,-695.7C568.62,-695.7 461.29,-695.7 461.29,-695.7 455.29,-695.7 449.29,-689.7 449.29,-683.7 449.29,-683.7 449.29,-618.3 449.29,-618.3 449.29,-612.3 455.29,-606.3 461.29,-606.3 461.29,-606.3 568.62,-606.3 568.62,-606.3 574.62,-606.3 580.62,-612.3 580.62,-618.3 580.62,-618.3 580.62,-683.7 580.62,-683.7 580.62,-689.7 574.62,-695.7 568.62,-695.7\"/>\n",
       "<text text-anchor=\"middle\" x=\"514.95\" y=\"-680.4\" font-family=\"Helvetica,sans-Serif\" font-size=\"14.00\">颜色强度 &lt;= 4.434</text>\n",
       "<text text-anchor=\"middle\" x=\"514.95\" y=\"-660.8\" font-family=\"Helvetica,sans-Serif\" font-size=\"14.00\">entropy = 0.65</text>\n",
       "<text text-anchor=\"middle\" x=\"514.95\" y=\"-646.8\" font-family=\"Helvetica,sans-Serif\" font-size=\"14.00\">samples = 12</text>\n",
       "<text text-anchor=\"middle\" x=\"514.95\" y=\"-632.8\" font-family=\"Helvetica,sans-Serif\" font-size=\"14.00\">value = [0, 10, 2]</text>\n",
       "<text text-anchor=\"middle\" x=\"514.95\" y=\"-618.8\" font-family=\"Helvetica,sans-Serif\" font-size=\"14.00\">class = 雪莉</text>\n",
       "</g>\n",
       "<!-- 1&#45;&gt;15 -->\n",
       "<g id=\"edge15\" class=\"edge\">\n",
       "<title>1&#45;&gt;15</title>\n",
       "<path fill=\"none\" stroke=\"black\" d=\"M514.95,-731.42C514.95,-723.16 514.95,-714.43 514.95,-705.9\"/>\n",
       "<polygon fill=\"black\" stroke=\"black\" points=\"518.45,-705.64 514.95,-695.64 511.45,-705.64 518.45,-705.64\"/>\n",
       "</g>\n",
       "<!-- 3 -->\n",
       "<g id=\"node4\" class=\"node\">\n",
       "<title>3</title>\n",
       "<path fill=\"#8946e7\" stroke=\"black\" d=\"M244.86,-570.5C244.86,-570.5 149.05,-570.5 149.05,-570.5 143.05,-570.5 137.05,-564.5 137.05,-558.5 137.05,-558.5 137.05,-493.1 137.05,-493.1 137.05,-487.1 143.05,-481.1 149.05,-481.1 149.05,-481.1 244.86,-481.1 244.86,-481.1 250.86,-481.1 256.86,-487.1 256.86,-493.1 256.86,-493.1 256.86,-558.5 256.86,-558.5 256.86,-564.5 250.86,-570.5 244.86,-570.5\"/>\n",
       "<text text-anchor=\"middle\" x=\"196.95\" y=\"-555.2\" font-family=\"Helvetica,sans-Serif\" font-size=\"14.00\">色调 &lt;= 0.716</text>\n",
       "<text text-anchor=\"middle\" x=\"196.95\" y=\"-535.6\" font-family=\"Helvetica,sans-Serif\" font-size=\"14.00\">entropy = 0.33</text>\n",
       "<text text-anchor=\"middle\" x=\"196.95\" y=\"-521.6\" font-family=\"Helvetica,sans-Serif\" font-size=\"14.00\">samples = 33</text>\n",
       "<text text-anchor=\"middle\" x=\"196.95\" y=\"-507.6\" font-family=\"Helvetica,sans-Serif\" font-size=\"14.00\">value = [0, 2, 31]</text>\n",
       "<text text-anchor=\"middle\" x=\"196.95\" y=\"-493.6\" font-family=\"Helvetica,sans-Serif\" font-size=\"14.00\">class = 贝尔摩德</text>\n",
       "</g>\n",
       "<!-- 2&#45;&gt;3 -->\n",
       "<g id=\"edge3\" class=\"edge\">\n",
       "<title>2&#45;&gt;3</title>\n",
       "<path fill=\"none\" stroke=\"black\" d=\"M285.27,-606.22C274.87,-596.87 263.81,-586.92 253.15,-577.34\"/>\n",
       "<polygon fill=\"black\" stroke=\"black\" points=\"255.26,-574.53 245.48,-570.44 250.58,-579.73 255.26,-574.53\"/>\n",
       "</g>\n",
       "<!-- 12 -->\n",
       "<g id=\"node13\" class=\"node\">\n",
       "<title>12</title>\n",
       "<path fill=\"#6aeca0\" stroke=\"black\" d=\"M380.62,-570.5C380.62,-570.5 287.29,-570.5 287.29,-570.5 281.29,-570.5 275.29,-564.5 275.29,-558.5 275.29,-558.5 275.29,-493.1 275.29,-493.1 275.29,-487.1 281.29,-481.1 287.29,-481.1 287.29,-481.1 380.62,-481.1 380.62,-481.1 386.62,-481.1 392.62,-487.1 392.62,-493.1 392.62,-493.1 392.62,-558.5 392.62,-558.5 392.62,-564.5 386.62,-570.5 380.62,-570.5\"/>\n",
       "<text text-anchor=\"middle\" x=\"333.95\" y=\"-555.2\" font-family=\"Helvetica,sans-Serif\" font-size=\"14.00\">苹果酸 &lt;= 2.885</text>\n",
       "<text text-anchor=\"middle\" x=\"333.95\" y=\"-535.6\" font-family=\"Helvetica,sans-Serif\" font-size=\"14.00\">entropy = 0.722</text>\n",
       "<text text-anchor=\"middle\" x=\"333.95\" y=\"-521.6\" font-family=\"Helvetica,sans-Serif\" font-size=\"14.00\">samples = 5</text>\n",
       "<text text-anchor=\"middle\" x=\"333.95\" y=\"-507.6\" font-family=\"Helvetica,sans-Serif\" font-size=\"14.00\">value = [0, 4, 1]</text>\n",
       "<text text-anchor=\"middle\" x=\"333.95\" y=\"-493.6\" font-family=\"Helvetica,sans-Serif\" font-size=\"14.00\">class = 雪莉</text>\n",
       "</g>\n",
       "<!-- 2&#45;&gt;12 -->\n",
       "<g id=\"edge12\" class=\"edge\">\n",
       "<title>2&#45;&gt;12</title>\n",
       "<path fill=\"none\" stroke=\"black\" d=\"M333.95,-606.22C333.95,-597.96 333.95,-589.23 333.95,-580.7\"/>\n",
       "<polygon fill=\"black\" stroke=\"black\" points=\"337.45,-580.44 333.95,-570.44 330.45,-580.44 337.45,-580.44\"/>\n",
       "</g>\n",
       "<!-- 4 -->\n",
       "<g id=\"node5\" class=\"node\">\n",
       "<title>4</title>\n",
       "<path fill=\"#8139e5\" stroke=\"black\" d=\"M107.86,-435.2C107.86,-435.2 12.05,-435.2 12.05,-435.2 6.05,-435.2 0.05,-429.2 0.05,-423.2 0.05,-423.2 0.05,-378 0.05,-378 0.05,-372 6.05,-366 12.05,-366 12.05,-366 107.86,-366 107.86,-366 113.86,-366 119.86,-372 119.86,-378 119.86,-378 119.86,-423.2 119.86,-423.2 119.86,-429.2 113.86,-435.2 107.86,-435.2\"/>\n",
       "<text text-anchor=\"middle\" x=\"59.95\" y=\"-420.2\" font-family=\"Helvetica,sans-Serif\" font-size=\"14.00\">entropy = 0.0</text>\n",
       "<text text-anchor=\"middle\" x=\"59.95\" y=\"-406.2\" font-family=\"Helvetica,sans-Serif\" font-size=\"14.00\">samples = 22</text>\n",
       "<text text-anchor=\"middle\" x=\"59.95\" y=\"-392.2\" font-family=\"Helvetica,sans-Serif\" font-size=\"14.00\">value = [0, 0, 22]</text>\n",
       "<text text-anchor=\"middle\" x=\"59.95\" y=\"-378.2\" font-family=\"Helvetica,sans-Serif\" font-size=\"14.00\">class = 贝尔摩德</text>\n",
       "</g>\n",
       "<!-- 3&#45;&gt;4 -->\n",
       "<g id=\"edge4\" class=\"edge\">\n",
       "<title>3&#45;&gt;4</title>\n",
       "<path fill=\"none\" stroke=\"black\" d=\"M148.27,-481.02C134.25,-468.41 119.02,-454.72 105.22,-442.31\"/>\n",
       "<polygon fill=\"black\" stroke=\"black\" points=\"107.49,-439.64 97.72,-435.56 102.81,-444.85 107.49,-439.64\"/>\n",
       "</g>\n",
       "<!-- 5 -->\n",
       "<g id=\"node6\" class=\"node\">\n",
       "<title>5</title>\n",
       "<path fill=\"#9d65eb\" stroke=\"black\" d=\"M245.8,-445.3C245.8,-445.3 150.1,-445.3 150.1,-445.3 144.1,-445.3 138.1,-439.3 138.1,-433.3 138.1,-433.3 138.1,-367.9 138.1,-367.9 138.1,-361.9 144.1,-355.9 150.1,-355.9 150.1,-355.9 245.8,-355.9 245.8,-355.9 251.8,-355.9 257.8,-361.9 257.8,-367.9 257.8,-367.9 257.8,-433.3 257.8,-433.3 257.8,-439.3 251.8,-445.3 245.8,-445.3\"/>\n",
       "<text text-anchor=\"middle\" x=\"197.95\" y=\"-430\" font-family=\"Helvetica,sans-Serif\" font-size=\"14.00\">总酚 &lt;= 1.209</text>\n",
       "<text text-anchor=\"middle\" x=\"197.95\" y=\"-410.4\" font-family=\"Helvetica,sans-Serif\" font-size=\"14.00\">entropy = 0.684</text>\n",
       "<text text-anchor=\"middle\" x=\"197.95\" y=\"-396.4\" font-family=\"Helvetica,sans-Serif\" font-size=\"14.00\">samples = 11</text>\n",
       "<text text-anchor=\"middle\" x=\"197.95\" y=\"-382.4\" font-family=\"Helvetica,sans-Serif\" font-size=\"14.00\">value = [0, 2, 9]</text>\n",
       "<text text-anchor=\"middle\" x=\"197.95\" y=\"-368.4\" font-family=\"Helvetica,sans-Serif\" font-size=\"14.00\">class = 贝尔摩德</text>\n",
       "</g>\n",
       "<!-- 3&#45;&gt;5 -->\n",
       "<g id=\"edge5\" class=\"edge\">\n",
       "<title>3&#45;&gt;5</title>\n",
       "<path fill=\"none\" stroke=\"black\" d=\"M197.31,-481.02C197.38,-472.76 197.45,-464.03 197.52,-455.5\"/>\n",
       "<polygon fill=\"black\" stroke=\"black\" points=\"201.02,-455.27 197.6,-445.24 194.02,-455.21 201.02,-455.27\"/>\n",
       "</g>\n",
       "<!-- 6 -->\n",
       "<g id=\"node7\" class=\"node\">\n",
       "<title>6</title>\n",
       "<path fill=\"#39e581\" stroke=\"black\" d=\"M175.07,-310C175.07,-310 86.83,-310 86.83,-310 80.83,-310 74.83,-304 74.83,-298 74.83,-298 74.83,-252.8 74.83,-252.8 74.83,-246.8 80.83,-240.8 86.83,-240.8 86.83,-240.8 175.07,-240.8 175.07,-240.8 181.07,-240.8 187.07,-246.8 187.07,-252.8 187.07,-252.8 187.07,-298 187.07,-298 187.07,-304 181.07,-310 175.07,-310\"/>\n",
       "<text text-anchor=\"middle\" x=\"130.95\" y=\"-295\" font-family=\"Helvetica,sans-Serif\" font-size=\"14.00\">entropy = 0.0</text>\n",
       "<text text-anchor=\"middle\" x=\"130.95\" y=\"-281\" font-family=\"Helvetica,sans-Serif\" font-size=\"14.00\">samples = 1</text>\n",
       "<text text-anchor=\"middle\" x=\"130.95\" y=\"-267\" font-family=\"Helvetica,sans-Serif\" font-size=\"14.00\">value = [0, 1, 0]</text>\n",
       "<text text-anchor=\"middle\" x=\"130.95\" y=\"-253\" font-family=\"Helvetica,sans-Serif\" font-size=\"14.00\">class = 雪莉</text>\n",
       "</g>\n",
       "<!-- 5&#45;&gt;6 -->\n",
       "<g id=\"edge6\" class=\"edge\">\n",
       "<title>5&#45;&gt;6</title>\n",
       "<path fill=\"none\" stroke=\"black\" d=\"M174.14,-355.82C167.67,-343.91 160.67,-331.04 154.22,-319.19\"/>\n",
       "<polygon fill=\"black\" stroke=\"black\" points=\"157.27,-317.47 149.42,-310.36 151.12,-320.82 157.27,-317.47\"/>\n",
       "</g>\n",
       "<!-- 7 -->\n",
       "<g id=\"node8\" class=\"node\">\n",
       "<title>7</title>\n",
       "<path fill=\"#8f4fe8\" stroke=\"black\" d=\"M312.8,-320.1C312.8,-320.1 217.1,-320.1 217.1,-320.1 211.1,-320.1 205.1,-314.1 205.1,-308.1 205.1,-308.1 205.1,-242.7 205.1,-242.7 205.1,-236.7 211.1,-230.7 217.1,-230.7 217.1,-230.7 312.8,-230.7 312.8,-230.7 318.8,-230.7 324.8,-236.7 324.8,-242.7 324.8,-242.7 324.8,-308.1 324.8,-308.1 324.8,-314.1 318.8,-320.1 312.8,-320.1\"/>\n",
       "<text text-anchor=\"middle\" x=\"264.95\" y=\"-304.8\" font-family=\"Helvetica,sans-Serif\" font-size=\"14.00\">类黄酮 &lt;= 0.693</text>\n",
       "<text text-anchor=\"middle\" x=\"264.95\" y=\"-285.2\" font-family=\"Helvetica,sans-Serif\" font-size=\"14.00\">entropy = 0.469</text>\n",
       "<text text-anchor=\"middle\" x=\"264.95\" y=\"-271.2\" font-family=\"Helvetica,sans-Serif\" font-size=\"14.00\">samples = 10</text>\n",
       "<text text-anchor=\"middle\" x=\"264.95\" y=\"-257.2\" font-family=\"Helvetica,sans-Serif\" font-size=\"14.00\">value = [0, 1, 9]</text>\n",
       "<text text-anchor=\"middle\" x=\"264.95\" y=\"-243.2\" font-family=\"Helvetica,sans-Serif\" font-size=\"14.00\">class = 贝尔摩德</text>\n",
       "</g>\n",
       "<!-- 5&#45;&gt;7 -->\n",
       "<g id=\"edge7\" class=\"edge\">\n",
       "<title>5&#45;&gt;7</title>\n",
       "<path fill=\"none\" stroke=\"black\" d=\"M221.76,-355.82C226.5,-347.1 231.52,-337.87 236.4,-328.9\"/>\n",
       "<polygon fill=\"black\" stroke=\"black\" points=\"239.52,-330.5 241.22,-320.04 233.37,-327.15 239.52,-330.5\"/>\n",
       "</g>\n",
       "<!-- 8 -->\n",
       "<g id=\"node9\" class=\"node\">\n",
       "<title>8</title>\n",
       "<path fill=\"#8139e5\" stroke=\"black\" d=\"M243.8,-184.8C243.8,-184.8 148.1,-184.8 148.1,-184.8 142.1,-184.8 136.1,-178.8 136.1,-172.8 136.1,-172.8 136.1,-127.6 136.1,-127.6 136.1,-121.6 142.1,-115.6 148.1,-115.6 148.1,-115.6 243.8,-115.6 243.8,-115.6 249.8,-115.6 255.8,-121.6 255.8,-127.6 255.8,-127.6 255.8,-172.8 255.8,-172.8 255.8,-178.8 249.8,-184.8 243.8,-184.8\"/>\n",
       "<text text-anchor=\"middle\" x=\"195.95\" y=\"-169.8\" font-family=\"Helvetica,sans-Serif\" font-size=\"14.00\">entropy = 0.0</text>\n",
       "<text text-anchor=\"middle\" x=\"195.95\" y=\"-155.8\" font-family=\"Helvetica,sans-Serif\" font-size=\"14.00\">samples = 7</text>\n",
       "<text text-anchor=\"middle\" x=\"195.95\" y=\"-141.8\" font-family=\"Helvetica,sans-Serif\" font-size=\"14.00\">value = [0, 0, 7]</text>\n",
       "<text text-anchor=\"middle\" x=\"195.95\" y=\"-127.8\" font-family=\"Helvetica,sans-Serif\" font-size=\"14.00\">class = 贝尔摩德</text>\n",
       "</g>\n",
       "<!-- 7&#45;&gt;8 -->\n",
       "<g id=\"edge8\" class=\"edge\">\n",
       "<title>7&#45;&gt;8</title>\n",
       "<path fill=\"none\" stroke=\"black\" d=\"M240.43,-230.62C233.76,-218.71 226.55,-205.84 219.92,-193.99\"/>\n",
       "<polygon fill=\"black\" stroke=\"black\" points=\"222.91,-192.18 214.97,-185.16 216.81,-195.6 222.91,-192.18\"/>\n",
       "</g>\n",
       "<!-- 9 -->\n",
       "<g id=\"node10\" class=\"node\">\n",
       "<title>9</title>\n",
       "<path fill=\"#c09cf2\" stroke=\"black\" d=\"M381.8,-194.9C381.8,-194.9 286.1,-194.9 286.1,-194.9 280.1,-194.9 274.1,-188.9 274.1,-182.9 274.1,-182.9 274.1,-117.5 274.1,-117.5 274.1,-111.5 280.1,-105.5 286.1,-105.5 286.1,-105.5 381.8,-105.5 381.8,-105.5 387.8,-105.5 393.8,-111.5 393.8,-117.5 393.8,-117.5 393.8,-182.9 393.8,-182.9 393.8,-188.9 387.8,-194.9 381.8,-194.9\"/>\n",
       "<text text-anchor=\"middle\" x=\"333.95\" y=\"-179.6\" font-family=\"Helvetica,sans-Serif\" font-size=\"14.00\">类黄酮 &lt;= 1.528</text>\n",
       "<text text-anchor=\"middle\" x=\"333.95\" y=\"-160\" font-family=\"Helvetica,sans-Serif\" font-size=\"14.00\">entropy = 0.918</text>\n",
       "<text text-anchor=\"middle\" x=\"333.95\" y=\"-146\" font-family=\"Helvetica,sans-Serif\" font-size=\"14.00\">samples = 3</text>\n",
       "<text text-anchor=\"middle\" x=\"333.95\" y=\"-132\" font-family=\"Helvetica,sans-Serif\" font-size=\"14.00\">value = [0, 1, 2]</text>\n",
       "<text text-anchor=\"middle\" x=\"333.95\" y=\"-118\" font-family=\"Helvetica,sans-Serif\" font-size=\"14.00\">class = 贝尔摩德</text>\n",
       "</g>\n",
       "<!-- 7&#45;&gt;9 -->\n",
       "<g id=\"edge9\" class=\"edge\">\n",
       "<title>7&#45;&gt;9</title>\n",
       "<path fill=\"none\" stroke=\"black\" d=\"M289.47,-230.62C294.35,-221.9 299.53,-212.67 304.55,-203.7\"/>\n",
       "<polygon fill=\"black\" stroke=\"black\" points=\"307.68,-205.28 309.51,-194.84 301.57,-201.86 307.68,-205.28\"/>\n",
       "</g>\n",
       "<!-- 10 -->\n",
       "<g id=\"node11\" class=\"node\">\n",
       "<title>10</title>\n",
       "<path fill=\"#8139e5\" stroke=\"black\" d=\"M314.8,-69.4C314.8,-69.4 219.1,-69.4 219.1,-69.4 213.1,-69.4 207.1,-63.4 207.1,-57.4 207.1,-57.4 207.1,-12.2 207.1,-12.2 207.1,-6.2 213.1,-0.2 219.1,-0.2 219.1,-0.2 314.8,-0.2 314.8,-0.2 320.8,-0.2 326.8,-6.2 326.8,-12.2 326.8,-12.2 326.8,-57.4 326.8,-57.4 326.8,-63.4 320.8,-69.4 314.8,-69.4\"/>\n",
       "<text text-anchor=\"middle\" x=\"266.95\" y=\"-54.4\" font-family=\"Helvetica,sans-Serif\" font-size=\"14.00\">entropy = 0.0</text>\n",
       "<text text-anchor=\"middle\" x=\"266.95\" y=\"-40.4\" font-family=\"Helvetica,sans-Serif\" font-size=\"14.00\">samples = 2</text>\n",
       "<text text-anchor=\"middle\" x=\"266.95\" y=\"-26.4\" font-family=\"Helvetica,sans-Serif\" font-size=\"14.00\">value = [0, 0, 2]</text>\n",
       "<text text-anchor=\"middle\" x=\"266.95\" y=\"-12.4\" font-family=\"Helvetica,sans-Serif\" font-size=\"14.00\">class = 贝尔摩德</text>\n",
       "</g>\n",
       "<!-- 9&#45;&gt;10 -->\n",
       "<g id=\"edge10\" class=\"edge\">\n",
       "<title>9&#45;&gt;10</title>\n",
       "<path fill=\"none\" stroke=\"black\" d=\"M308.05,-105.36C302.8,-96.48 297.29,-87.15 292.07,-78.31\"/>\n",
       "<polygon fill=\"black\" stroke=\"black\" points=\"295.07,-76.51 286.97,-69.68 289.04,-80.07 295.07,-76.51\"/>\n",
       "</g>\n",
       "<!-- 11 -->\n",
       "<g id=\"node12\" class=\"node\">\n",
       "<title>11</title>\n",
       "<path fill=\"#39e581\" stroke=\"black\" d=\"M445.07,-69.4C445.07,-69.4 356.83,-69.4 356.83,-69.4 350.83,-69.4 344.83,-63.4 344.83,-57.4 344.83,-57.4 344.83,-12.2 344.83,-12.2 344.83,-6.2 350.83,-0.2 356.83,-0.2 356.83,-0.2 445.07,-0.2 445.07,-0.2 451.07,-0.2 457.07,-6.2 457.07,-12.2 457.07,-12.2 457.07,-57.4 457.07,-57.4 457.07,-63.4 451.07,-69.4 445.07,-69.4\"/>\n",
       "<text text-anchor=\"middle\" x=\"400.95\" y=\"-54.4\" font-family=\"Helvetica,sans-Serif\" font-size=\"14.00\">entropy = 0.0</text>\n",
       "<text text-anchor=\"middle\" x=\"400.95\" y=\"-40.4\" font-family=\"Helvetica,sans-Serif\" font-size=\"14.00\">samples = 1</text>\n",
       "<text text-anchor=\"middle\" x=\"400.95\" y=\"-26.4\" font-family=\"Helvetica,sans-Serif\" font-size=\"14.00\">value = [0, 1, 0]</text>\n",
       "<text text-anchor=\"middle\" x=\"400.95\" y=\"-12.4\" font-family=\"Helvetica,sans-Serif\" font-size=\"14.00\">class = 雪莉</text>\n",
       "</g>\n",
       "<!-- 9&#45;&gt;11 -->\n",
       "<g id=\"edge11\" class=\"edge\">\n",
       "<title>9&#45;&gt;11</title>\n",
       "<path fill=\"none\" stroke=\"black\" d=\"M359.86,-105.36C365.1,-96.48 370.61,-87.15 375.83,-78.31\"/>\n",
       "<polygon fill=\"black\" stroke=\"black\" points=\"378.86,-80.07 380.94,-69.68 372.84,-76.51 378.86,-80.07\"/>\n",
       "</g>\n",
       "<!-- 13 -->\n",
       "<g id=\"node14\" class=\"node\">\n",
       "<title>13</title>\n",
       "<path fill=\"#39e581\" stroke=\"black\" d=\"M377.07,-435.2C377.07,-435.2 288.83,-435.2 288.83,-435.2 282.83,-435.2 276.83,-429.2 276.83,-423.2 276.83,-423.2 276.83,-378 276.83,-378 276.83,-372 282.83,-366 288.83,-366 288.83,-366 377.07,-366 377.07,-366 383.07,-366 389.07,-372 389.07,-378 389.07,-378 389.07,-423.2 389.07,-423.2 389.07,-429.2 383.07,-435.2 377.07,-435.2\"/>\n",
       "<text text-anchor=\"middle\" x=\"332.95\" y=\"-420.2\" font-family=\"Helvetica,sans-Serif\" font-size=\"14.00\">entropy = 0.0</text>\n",
       "<text text-anchor=\"middle\" x=\"332.95\" y=\"-406.2\" font-family=\"Helvetica,sans-Serif\" font-size=\"14.00\">samples = 4</text>\n",
       "<text text-anchor=\"middle\" x=\"332.95\" y=\"-392.2\" font-family=\"Helvetica,sans-Serif\" font-size=\"14.00\">value = [0, 4, 0]</text>\n",
       "<text text-anchor=\"middle\" x=\"332.95\" y=\"-378.2\" font-family=\"Helvetica,sans-Serif\" font-size=\"14.00\">class = 雪莉</text>\n",
       "</g>\n",
       "<!-- 12&#45;&gt;13 -->\n",
       "<g id=\"edge13\" class=\"edge\">\n",
       "<title>12&#45;&gt;13</title>\n",
       "<path fill=\"none\" stroke=\"black\" d=\"M333.6,-481.02C333.5,-469.58 333.4,-457.25 333.31,-445.79\"/>\n",
       "<polygon fill=\"black\" stroke=\"black\" points=\"336.81,-445.53 333.23,-435.56 329.81,-445.59 336.81,-445.53\"/>\n",
       "</g>\n",
       "<!-- 14 -->\n",
       "<g id=\"node15\" class=\"node\">\n",
       "<title>14</title>\n",
       "<path fill=\"#8139e5\" stroke=\"black\" d=\"M514.8,-435.2C514.8,-435.2 419.1,-435.2 419.1,-435.2 413.1,-435.2 407.1,-429.2 407.1,-423.2 407.1,-423.2 407.1,-378 407.1,-378 407.1,-372 413.1,-366 419.1,-366 419.1,-366 514.8,-366 514.8,-366 520.8,-366 526.8,-372 526.8,-378 526.8,-378 526.8,-423.2 526.8,-423.2 526.8,-429.2 520.8,-435.2 514.8,-435.2\"/>\n",
       "<text text-anchor=\"middle\" x=\"466.95\" y=\"-420.2\" font-family=\"Helvetica,sans-Serif\" font-size=\"14.00\">entropy = 0.0</text>\n",
       "<text text-anchor=\"middle\" x=\"466.95\" y=\"-406.2\" font-family=\"Helvetica,sans-Serif\" font-size=\"14.00\">samples = 1</text>\n",
       "<text text-anchor=\"middle\" x=\"466.95\" y=\"-392.2\" font-family=\"Helvetica,sans-Serif\" font-size=\"14.00\">value = [0, 0, 1]</text>\n",
       "<text text-anchor=\"middle\" x=\"466.95\" y=\"-378.2\" font-family=\"Helvetica,sans-Serif\" font-size=\"14.00\">class = 贝尔摩德</text>\n",
       "</g>\n",
       "<!-- 12&#45;&gt;14 -->\n",
       "<g id=\"edge14\" class=\"edge\">\n",
       "<title>12&#45;&gt;14</title>\n",
       "<path fill=\"none\" stroke=\"black\" d=\"M381.22,-481.02C394.7,-468.53 409.34,-454.97 422.63,-442.65\"/>\n",
       "<polygon fill=\"black\" stroke=\"black\" points=\"425.33,-444.92 430.29,-435.56 420.58,-439.79 425.33,-444.92\"/>\n",
       "</g>\n",
       "<!-- 16 -->\n",
       "<g id=\"node17\" class=\"node\">\n",
       "<title>16</title>\n",
       "<path fill=\"#39e581\" stroke=\"black\" d=\"M518.86,-560.4C518.86,-560.4 423.05,-560.4 423.05,-560.4 417.05,-560.4 411.05,-554.4 411.05,-548.4 411.05,-548.4 411.05,-503.2 411.05,-503.2 411.05,-497.2 417.05,-491.2 423.05,-491.2 423.05,-491.2 518.86,-491.2 518.86,-491.2 524.86,-491.2 530.86,-497.2 530.86,-503.2 530.86,-503.2 530.86,-548.4 530.86,-548.4 530.86,-554.4 524.86,-560.4 518.86,-560.4\"/>\n",
       "<text text-anchor=\"middle\" x=\"470.95\" y=\"-545.4\" font-family=\"Helvetica,sans-Serif\" font-size=\"14.00\">entropy = 0.0</text>\n",
       "<text text-anchor=\"middle\" x=\"470.95\" y=\"-531.4\" font-family=\"Helvetica,sans-Serif\" font-size=\"14.00\">samples = 10</text>\n",
       "<text text-anchor=\"middle\" x=\"470.95\" y=\"-517.4\" font-family=\"Helvetica,sans-Serif\" font-size=\"14.00\">value = [0, 10, 0]</text>\n",
       "<text text-anchor=\"middle\" x=\"470.95\" y=\"-503.4\" font-family=\"Helvetica,sans-Serif\" font-size=\"14.00\">class = 雪莉</text>\n",
       "</g>\n",
       "<!-- 15&#45;&gt;16 -->\n",
       "<g id=\"edge16\" class=\"edge\">\n",
       "<title>15&#45;&gt;16</title>\n",
       "<path fill=\"none\" stroke=\"black\" d=\"M499.32,-606.22C495.15,-594.55 490.65,-581.94 486.48,-570.29\"/>\n",
       "<polygon fill=\"black\" stroke=\"black\" points=\"489.74,-569 483.08,-560.76 483.15,-571.36 489.74,-569\"/>\n",
       "</g>\n",
       "<!-- 17 -->\n",
       "<g id=\"node18\" class=\"node\">\n",
       "<title>17</title>\n",
       "<path fill=\"#8139e5\" stroke=\"black\" d=\"M656.8,-560.4C656.8,-560.4 561.1,-560.4 561.1,-560.4 555.1,-560.4 549.1,-554.4 549.1,-548.4 549.1,-548.4 549.1,-503.2 549.1,-503.2 549.1,-497.2 555.1,-491.2 561.1,-491.2 561.1,-491.2 656.8,-491.2 656.8,-491.2 662.8,-491.2 668.8,-497.2 668.8,-503.2 668.8,-503.2 668.8,-548.4 668.8,-548.4 668.8,-554.4 662.8,-560.4 656.8,-560.4\"/>\n",
       "<text text-anchor=\"middle\" x=\"608.95\" y=\"-545.4\" font-family=\"Helvetica,sans-Serif\" font-size=\"14.00\">entropy = 0.0</text>\n",
       "<text text-anchor=\"middle\" x=\"608.95\" y=\"-531.4\" font-family=\"Helvetica,sans-Serif\" font-size=\"14.00\">samples = 2</text>\n",
       "<text text-anchor=\"middle\" x=\"608.95\" y=\"-517.4\" font-family=\"Helvetica,sans-Serif\" font-size=\"14.00\">value = [0, 0, 2]</text>\n",
       "<text text-anchor=\"middle\" x=\"608.95\" y=\"-503.4\" font-family=\"Helvetica,sans-Serif\" font-size=\"14.00\">class = 贝尔摩德</text>\n",
       "</g>\n",
       "<!-- 15&#45;&gt;17 -->\n",
       "<g id=\"edge17\" class=\"edge\">\n",
       "<title>15&#45;&gt;17</title>\n",
       "<path fill=\"none\" stroke=\"black\" d=\"M548.36,-606.22C557.62,-594.08 567.65,-580.93 576.84,-568.89\"/>\n",
       "<polygon fill=\"black\" stroke=\"black\" points=\"579.76,-570.83 583.04,-560.76 574.19,-566.59 579.76,-570.83\"/>\n",
       "</g>\n",
       "<!-- 19 -->\n",
       "<g id=\"node20\" class=\"node\">\n",
       "<title>19</title>\n",
       "<path fill=\"#78eda9\" stroke=\"black\" d=\"M861.19,-695.7C861.19,-695.7 752.72,-695.7 752.72,-695.7 746.72,-695.7 740.72,-689.7 740.72,-683.7 740.72,-683.7 740.72,-618.3 740.72,-618.3 740.72,-612.3 746.72,-606.3 752.72,-606.3 752.72,-606.3 861.19,-606.3 861.19,-606.3 867.19,-606.3 873.19,-612.3 873.19,-618.3 873.19,-618.3 873.19,-683.7 873.19,-683.7 873.19,-689.7 867.19,-695.7 861.19,-695.7\"/>\n",
       "<text text-anchor=\"middle\" x=\"806.95\" y=\"-680.4\" font-family=\"Helvetica,sans-Serif\" font-size=\"14.00\">脯氨酸 &lt;= 804.154</text>\n",
       "<text text-anchor=\"middle\" x=\"806.95\" y=\"-660.8\" font-family=\"Helvetica,sans-Serif\" font-size=\"14.00\">entropy = 0.797</text>\n",
       "<text text-anchor=\"middle\" x=\"806.95\" y=\"-646.8\" font-family=\"Helvetica,sans-Serif\" font-size=\"14.00\">samples = 29</text>\n",
       "<text text-anchor=\"middle\" x=\"806.95\" y=\"-632.8\" font-family=\"Helvetica,sans-Serif\" font-size=\"14.00\">value = [7, 22, 0]</text>\n",
       "<text text-anchor=\"middle\" x=\"806.95\" y=\"-618.8\" font-family=\"Helvetica,sans-Serif\" font-size=\"14.00\">class = 雪莉</text>\n",
       "</g>\n",
       "<!-- 18&#45;&gt;19 -->\n",
       "<g id=\"edge19\" class=\"edge\">\n",
       "<title>18&#45;&gt;19</title>\n",
       "<path fill=\"none\" stroke=\"black\" d=\"M806.95,-731.42C806.95,-723.16 806.95,-714.43 806.95,-705.9\"/>\n",
       "<polygon fill=\"black\" stroke=\"black\" points=\"810.45,-705.64 806.95,-695.64 803.45,-705.64 810.45,-705.64\"/>\n",
       "</g>\n",
       "<!-- 22 -->\n",
       "<g id=\"node23\" class=\"node\">\n",
       "<title>22</title>\n",
       "<path fill=\"#eca06a\" stroke=\"black\" d=\"M1058.86,-695.7C1058.86,-695.7 963.05,-695.7 963.05,-695.7 957.05,-695.7 951.05,-689.7 951.05,-683.7 951.05,-683.7 951.05,-618.3 951.05,-618.3 951.05,-612.3 957.05,-606.3 963.05,-606.3 963.05,-606.3 1058.86,-606.3 1058.86,-606.3 1064.86,-606.3 1070.86,-612.3 1070.86,-618.3 1070.86,-618.3 1070.86,-683.7 1070.86,-683.7 1070.86,-689.7 1064.86,-695.7 1058.86,-695.7\"/>\n",
       "<text text-anchor=\"middle\" x=\"1010.95\" y=\"-680.4\" font-family=\"Helvetica,sans-Serif\" font-size=\"14.00\">酒精 &lt;= 12.867</text>\n",
       "<text text-anchor=\"middle\" x=\"1010.95\" y=\"-660.8\" font-family=\"Helvetica,sans-Serif\" font-size=\"14.00\">entropy = 0.722</text>\n",
       "<text text-anchor=\"middle\" x=\"1010.95\" y=\"-646.8\" font-family=\"Helvetica,sans-Serif\" font-size=\"14.00\">samples = 45</text>\n",
       "<text text-anchor=\"middle\" x=\"1010.95\" y=\"-632.8\" font-family=\"Helvetica,sans-Serif\" font-size=\"14.00\">value = [36, 9, 0]</text>\n",
       "<text text-anchor=\"middle\" x=\"1010.95\" y=\"-618.8\" font-family=\"Helvetica,sans-Serif\" font-size=\"14.00\">class = 琴酒</text>\n",
       "</g>\n",
       "<!-- 18&#45;&gt;22 -->\n",
       "<g id=\"edge22\" class=\"edge\">\n",
       "<title>18&#45;&gt;22</title>\n",
       "<path fill=\"none\" stroke=\"black\" d=\"M870.66,-736.73C893.36,-723.02 919.03,-707.52 942.14,-693.56\"/>\n",
       "<polygon fill=\"black\" stroke=\"black\" points=\"944.11,-696.46 950.86,-688.29 940.49,-690.47 944.11,-696.46\"/>\n",
       "</g>\n",
       "<!-- 20 -->\n",
       "<g id=\"node21\" class=\"node\">\n",
       "<title>20</title>\n",
       "<path fill=\"#39e581\" stroke=\"black\" d=\"M794.86,-560.4C794.86,-560.4 699.05,-560.4 699.05,-560.4 693.05,-560.4 687.05,-554.4 687.05,-548.4 687.05,-548.4 687.05,-503.2 687.05,-503.2 687.05,-497.2 693.05,-491.2 699.05,-491.2 699.05,-491.2 794.86,-491.2 794.86,-491.2 800.86,-491.2 806.86,-497.2 806.86,-503.2 806.86,-503.2 806.86,-548.4 806.86,-548.4 806.86,-554.4 800.86,-560.4 794.86,-560.4\"/>\n",
       "<text text-anchor=\"middle\" x=\"746.95\" y=\"-545.4\" font-family=\"Helvetica,sans-Serif\" font-size=\"14.00\">entropy = 0.0</text>\n",
       "<text text-anchor=\"middle\" x=\"746.95\" y=\"-531.4\" font-family=\"Helvetica,sans-Serif\" font-size=\"14.00\">samples = 22</text>\n",
       "<text text-anchor=\"middle\" x=\"746.95\" y=\"-517.4\" font-family=\"Helvetica,sans-Serif\" font-size=\"14.00\">value = [0, 22, 0]</text>\n",
       "<text text-anchor=\"middle\" x=\"746.95\" y=\"-503.4\" font-family=\"Helvetica,sans-Serif\" font-size=\"14.00\">class = 雪莉</text>\n",
       "</g>\n",
       "<!-- 19&#45;&gt;20 -->\n",
       "<g id=\"edge20\" class=\"edge\">\n",
       "<title>19&#45;&gt;20</title>\n",
       "<path fill=\"none\" stroke=\"black\" d=\"M785.63,-606.22C779.89,-594.43 773.68,-581.69 767.96,-569.94\"/>\n",
       "<polygon fill=\"black\" stroke=\"black\" points=\"771.02,-568.22 763.49,-560.76 764.72,-571.28 771.02,-568.22\"/>\n",
       "</g>\n",
       "<!-- 21 -->\n",
       "<g id=\"node22\" class=\"node\">\n",
       "<title>21</title>\n",
       "<path fill=\"#e58139\" stroke=\"black\" d=\"M925.07,-560.4C925.07,-560.4 836.83,-560.4 836.83,-560.4 830.83,-560.4 824.83,-554.4 824.83,-548.4 824.83,-548.4 824.83,-503.2 824.83,-503.2 824.83,-497.2 830.83,-491.2 836.83,-491.2 836.83,-491.2 925.07,-491.2 925.07,-491.2 931.07,-491.2 937.07,-497.2 937.07,-503.2 937.07,-503.2 937.07,-548.4 937.07,-548.4 937.07,-554.4 931.07,-560.4 925.07,-560.4\"/>\n",
       "<text text-anchor=\"middle\" x=\"880.95\" y=\"-545.4\" font-family=\"Helvetica,sans-Serif\" font-size=\"14.00\">entropy = 0.0</text>\n",
       "<text text-anchor=\"middle\" x=\"880.95\" y=\"-531.4\" font-family=\"Helvetica,sans-Serif\" font-size=\"14.00\">samples = 7</text>\n",
       "<text text-anchor=\"middle\" x=\"880.95\" y=\"-517.4\" font-family=\"Helvetica,sans-Serif\" font-size=\"14.00\">value = [7, 0, 0]</text>\n",
       "<text text-anchor=\"middle\" x=\"880.95\" y=\"-503.4\" font-family=\"Helvetica,sans-Serif\" font-size=\"14.00\">class = 琴酒</text>\n",
       "</g>\n",
       "<!-- 19&#45;&gt;21 -->\n",
       "<g id=\"edge21\" class=\"edge\">\n",
       "<title>19&#45;&gt;21</title>\n",
       "<path fill=\"none\" stroke=\"black\" d=\"M833.25,-606.22C840.4,-594.31 848.14,-581.44 855.25,-569.59\"/>\n",
       "<polygon fill=\"black\" stroke=\"black\" points=\"858.41,-571.14 860.55,-560.76 852.41,-567.53 858.41,-571.14\"/>\n",
       "</g>\n",
       "<!-- 23 -->\n",
       "<g id=\"node24\" class=\"node\">\n",
       "<title>23</title>\n",
       "<path fill=\"#39e581\" stroke=\"black\" d=\"M1055.07,-560.4C1055.07,-560.4 966.83,-560.4 966.83,-560.4 960.83,-560.4 954.83,-554.4 954.83,-548.4 954.83,-548.4 954.83,-503.2 954.83,-503.2 954.83,-497.2 960.83,-491.2 966.83,-491.2 966.83,-491.2 1055.07,-491.2 1055.07,-491.2 1061.07,-491.2 1067.07,-497.2 1067.07,-503.2 1067.07,-503.2 1067.07,-548.4 1067.07,-548.4 1067.07,-554.4 1061.07,-560.4 1055.07,-560.4\"/>\n",
       "<text text-anchor=\"middle\" x=\"1010.95\" y=\"-545.4\" font-family=\"Helvetica,sans-Serif\" font-size=\"14.00\">entropy = 0.0</text>\n",
       "<text text-anchor=\"middle\" x=\"1010.95\" y=\"-531.4\" font-family=\"Helvetica,sans-Serif\" font-size=\"14.00\">samples = 8</text>\n",
       "<text text-anchor=\"middle\" x=\"1010.95\" y=\"-517.4\" font-family=\"Helvetica,sans-Serif\" font-size=\"14.00\">value = [0, 8, 0]</text>\n",
       "<text text-anchor=\"middle\" x=\"1010.95\" y=\"-503.4\" font-family=\"Helvetica,sans-Serif\" font-size=\"14.00\">class = 雪莉</text>\n",
       "</g>\n",
       "<!-- 22&#45;&gt;23 -->\n",
       "<g id=\"edge23\" class=\"edge\">\n",
       "<title>22&#45;&gt;23</title>\n",
       "<path fill=\"none\" stroke=\"black\" d=\"M1010.95,-606.22C1010.95,-594.78 1010.95,-582.45 1010.95,-570.99\"/>\n",
       "<polygon fill=\"black\" stroke=\"black\" points=\"1014.45,-570.76 1010.95,-560.76 1007.45,-570.76 1014.45,-570.76\"/>\n",
       "</g>\n",
       "<!-- 24 -->\n",
       "<g id=\"node25\" class=\"node\">\n",
       "<title>24</title>\n",
       "<path fill=\"#e6843e\" stroke=\"black\" d=\"M1212.4,-570.5C1212.4,-570.5 1097.5,-570.5 1097.5,-570.5 1091.5,-570.5 1085.5,-564.5 1085.5,-558.5 1085.5,-558.5 1085.5,-493.1 1085.5,-493.1 1085.5,-487.1 1091.5,-481.1 1097.5,-481.1 1097.5,-481.1 1212.4,-481.1 1212.4,-481.1 1218.4,-481.1 1224.4,-487.1 1224.4,-493.1 1224.4,-493.1 1224.4,-558.5 1224.4,-558.5 1224.4,-564.5 1218.4,-570.5 1212.4,-570.5\"/>\n",
       "<text text-anchor=\"middle\" x=\"1154.95\" y=\"-555.2\" font-family=\"Helvetica,sans-Serif\" font-size=\"14.00\">灰的碱性 &lt;= 27.476</text>\n",
       "<text text-anchor=\"middle\" x=\"1154.95\" y=\"-535.6\" font-family=\"Helvetica,sans-Serif\" font-size=\"14.00\">entropy = 0.179</text>\n",
       "<text text-anchor=\"middle\" x=\"1154.95\" y=\"-521.6\" font-family=\"Helvetica,sans-Serif\" font-size=\"14.00\">samples = 37</text>\n",
       "<text text-anchor=\"middle\" x=\"1154.95\" y=\"-507.6\" font-family=\"Helvetica,sans-Serif\" font-size=\"14.00\">value = [36, 1, 0]</text>\n",
       "<text text-anchor=\"middle\" x=\"1154.95\" y=\"-493.6\" font-family=\"Helvetica,sans-Serif\" font-size=\"14.00\">class = 琴酒</text>\n",
       "</g>\n",
       "<!-- 22&#45;&gt;24 -->\n",
       "<g id=\"edge24\" class=\"edge\">\n",
       "<title>22&#45;&gt;24</title>\n",
       "<path fill=\"none\" stroke=\"black\" d=\"M1062.13,-606.22C1073.16,-596.78 1084.91,-586.73 1096.21,-577.06\"/>\n",
       "<polygon fill=\"black\" stroke=\"black\" points=\"1098.62,-579.6 1103.94,-570.44 1094.07,-574.28 1098.62,-579.6\"/>\n",
       "</g>\n",
       "<!-- 25 -->\n",
       "<g id=\"node26\" class=\"node\">\n",
       "<title>25</title>\n",
       "<path fill=\"#e58139\" stroke=\"black\" d=\"M1135.86,-435.2C1135.86,-435.2 1040.05,-435.2 1040.05,-435.2 1034.05,-435.2 1028.05,-429.2 1028.05,-423.2 1028.05,-423.2 1028.05,-378 1028.05,-378 1028.05,-372 1034.05,-366 1040.05,-366 1040.05,-366 1135.86,-366 1135.86,-366 1141.86,-366 1147.86,-372 1147.86,-378 1147.86,-378 1147.86,-423.2 1147.86,-423.2 1147.86,-429.2 1141.86,-435.2 1135.86,-435.2\"/>\n",
       "<text text-anchor=\"middle\" x=\"1087.95\" y=\"-420.2\" font-family=\"Helvetica,sans-Serif\" font-size=\"14.00\">entropy = 0.0</text>\n",
       "<text text-anchor=\"middle\" x=\"1087.95\" y=\"-406.2\" font-family=\"Helvetica,sans-Serif\" font-size=\"14.00\">samples = 36</text>\n",
       "<text text-anchor=\"middle\" x=\"1087.95\" y=\"-392.2\" font-family=\"Helvetica,sans-Serif\" font-size=\"14.00\">value = [36, 0, 0]</text>\n",
       "<text text-anchor=\"middle\" x=\"1087.95\" y=\"-378.2\" font-family=\"Helvetica,sans-Serif\" font-size=\"14.00\">class = 琴酒</text>\n",
       "</g>\n",
       "<!-- 24&#45;&gt;25 -->\n",
       "<g id=\"edge25\" class=\"edge\">\n",
       "<title>24&#45;&gt;25</title>\n",
       "<path fill=\"none\" stroke=\"black\" d=\"M1131.14,-481.02C1124.67,-469.11 1117.67,-456.24 1111.22,-444.39\"/>\n",
       "<polygon fill=\"black\" stroke=\"black\" points=\"1114.27,-442.67 1106.42,-435.56 1108.12,-446.02 1114.27,-442.67\"/>\n",
       "</g>\n",
       "<!-- 26 -->\n",
       "<g id=\"node27\" class=\"node\">\n",
       "<title>26</title>\n",
       "<path fill=\"#39e581\" stroke=\"black\" d=\"M1266.07,-435.2C1266.07,-435.2 1177.83,-435.2 1177.83,-435.2 1171.83,-435.2 1165.83,-429.2 1165.83,-423.2 1165.83,-423.2 1165.83,-378 1165.83,-378 1165.83,-372 1171.83,-366 1177.83,-366 1177.83,-366 1266.07,-366 1266.07,-366 1272.07,-366 1278.07,-372 1278.07,-378 1278.07,-378 1278.07,-423.2 1278.07,-423.2 1278.07,-429.2 1272.07,-435.2 1266.07,-435.2\"/>\n",
       "<text text-anchor=\"middle\" x=\"1221.95\" y=\"-420.2\" font-family=\"Helvetica,sans-Serif\" font-size=\"14.00\">entropy = 0.0</text>\n",
       "<text text-anchor=\"middle\" x=\"1221.95\" y=\"-406.2\" font-family=\"Helvetica,sans-Serif\" font-size=\"14.00\">samples = 1</text>\n",
       "<text text-anchor=\"middle\" x=\"1221.95\" y=\"-392.2\" font-family=\"Helvetica,sans-Serif\" font-size=\"14.00\">value = [0, 1, 0]</text>\n",
       "<text text-anchor=\"middle\" x=\"1221.95\" y=\"-378.2\" font-family=\"Helvetica,sans-Serif\" font-size=\"14.00\">class = 雪莉</text>\n",
       "</g>\n",
       "<!-- 24&#45;&gt;26 -->\n",
       "<g id=\"edge26\" class=\"edge\">\n",
       "<title>24&#45;&gt;26</title>\n",
       "<path fill=\"none\" stroke=\"black\" d=\"M1178.76,-481.02C1185.24,-469.11 1192.24,-456.24 1198.68,-444.39\"/>\n",
       "<polygon fill=\"black\" stroke=\"black\" points=\"1201.78,-446.02 1203.48,-435.56 1195.63,-442.67 1201.78,-446.02\"/>\n",
       "</g>\n",
       "</g>\n",
       "</svg>\n"
      ],
      "text/plain": [
       "<graphviz.files.Source at 0x12fdb42d0>"
      ]
     },
     "execution_count": 20,
     "metadata": {},
     "output_type": "execute_result"
    }
   ],
   "source": [
    "import graphviz\n",
    "dot_data = tree.export_graphviz(clf,\n",
    "                                feature_names=feature_name,\n",
    "                                class_names=[\"琴酒\", \"雪莉\", \"贝尔摩德\"],\n",
    "                                filled=True,\n",
    "                                rounded=True\n",
    "                                )\n",
    "graph = graphviz.Source(dot_data)\n",
    "graph"
   ]
  },
  {
   "cell_type": "code",
   "execution_count": 21,
   "metadata": {},
   "outputs": [
    {
     "data": {
      "text/plain": [
       "1.0"
      ]
     },
     "execution_count": 21,
     "metadata": {},
     "output_type": "execute_result"
    }
   ],
   "source": [
    "#我们的树对训练集的拟合程度如何？\n",
    "score_train = clf.score(X_train, Y_train)\n",
    "score_train"
   ]
  },
  {
   "cell_type": "code",
   "execution_count": 22,
   "metadata": {
    "scrolled": false
   },
   "outputs": [
    {
     "data": {
      "image/svg+xml": [
       "<?xml version=\"1.0\" encoding=\"UTF-8\" standalone=\"no\"?>\n",
       "<!DOCTYPE svg PUBLIC \"-//W3C//DTD SVG 1.1//EN\"\n",
       " \"http://www.w3.org/Graphics/SVG/1.1/DTD/svg11.dtd\">\n",
       "<!-- Generated by graphviz version 2.42.3 (20191010.1750)\n",
       " -->\n",
       "<!-- Title: Tree Pages: 1 -->\n",
       "<svg width=\"867pt\" height=\"453pt\"\n",
       " viewBox=\"0.00 0.00 867.39 453.20\" xmlns=\"http://www.w3.org/2000/svg\" xmlns:xlink=\"http://www.w3.org/1999/xlink\">\n",
       "<g id=\"graph0\" class=\"graph\" transform=\"scale(1 1) rotate(0) translate(4 449.2)\">\n",
       "<title>Tree</title>\n",
       "<polygon fill=\"white\" stroke=\"transparent\" points=\"-4,4 -4,-449.2 863.39,-449.2 863.39,4 -4,4\"/>\n",
       "<!-- 0 -->\n",
       "<g id=\"node1\" class=\"node\">\n",
       "<title>0</title>\n",
       "<path fill=\"#f5fef9\" stroke=\"black\" d=\"M455.93,-445.3C455.93,-445.3 343.97,-445.3 343.97,-445.3 337.97,-445.3 331.97,-439.3 331.97,-433.3 331.97,-433.3 331.97,-367.9 331.97,-367.9 331.97,-361.9 337.97,-355.9 343.97,-355.9 343.97,-355.9 455.93,-355.9 455.93,-355.9 461.93,-355.9 467.93,-361.9 467.93,-367.9 467.93,-367.9 467.93,-433.3 467.93,-433.3 467.93,-439.3 461.93,-445.3 455.93,-445.3\"/>\n",
       "<text text-anchor=\"middle\" x=\"399.95\" y=\"-430\" font-family=\"Helvetica,sans-Serif\" font-size=\"14.00\">类黄酮 &lt;= 1.714</text>\n",
       "<text text-anchor=\"middle\" x=\"399.95\" y=\"-410.4\" font-family=\"Helvetica,sans-Serif\" font-size=\"14.00\">entropy = 1.572</text>\n",
       "<text text-anchor=\"middle\" x=\"399.95\" y=\"-396.4\" font-family=\"Helvetica,sans-Serif\" font-size=\"14.00\">samples = 124</text>\n",
       "<text text-anchor=\"middle\" x=\"399.95\" y=\"-382.4\" font-family=\"Helvetica,sans-Serif\" font-size=\"14.00\">value = [43, 47, 34]</text>\n",
       "<text text-anchor=\"middle\" x=\"399.95\" y=\"-368.4\" font-family=\"Helvetica,sans-Serif\" font-size=\"14.00\">class = 雪莉</text>\n",
       "</g>\n",
       "<!-- 1 -->\n",
       "<g id=\"node2\" class=\"node\">\n",
       "<title>1</title>\n",
       "<path fill=\"#bc96f1\" stroke=\"black\" d=\"M403.84,-320.1C403.84,-320.1 202.07,-320.1 202.07,-320.1 196.07,-320.1 190.07,-314.1 190.07,-308.1 190.07,-308.1 190.07,-242.7 190.07,-242.7 190.07,-236.7 196.07,-230.7 202.07,-230.7 202.07,-230.7 403.84,-230.7 403.84,-230.7 409.84,-230.7 415.84,-236.7 415.84,-242.7 415.84,-242.7 415.84,-308.1 415.84,-308.1 415.84,-314.1 409.84,-320.1 403.84,-320.1\"/>\n",
       "<text text-anchor=\"middle\" x=\"302.95\" y=\"-304.8\" font-family=\"Helvetica,sans-Serif\" font-size=\"14.00\">od280/od315稀释葡萄酒 &lt;= 2.112</text>\n",
       "<text text-anchor=\"middle\" x=\"302.95\" y=\"-285.2\" font-family=\"Helvetica,sans-Serif\" font-size=\"14.00\">entropy = 0.904</text>\n",
       "<text text-anchor=\"middle\" x=\"302.95\" y=\"-271.2\" font-family=\"Helvetica,sans-Serif\" font-size=\"14.00\">samples = 50</text>\n",
       "<text text-anchor=\"middle\" x=\"302.95\" y=\"-257.2\" font-family=\"Helvetica,sans-Serif\" font-size=\"14.00\">value = [0, 16, 34]</text>\n",
       "<text text-anchor=\"middle\" x=\"302.95\" y=\"-243.2\" font-family=\"Helvetica,sans-Serif\" font-size=\"14.00\">class = 贝尔摩德</text>\n",
       "</g>\n",
       "<!-- 0&#45;&gt;1 -->\n",
       "<g id=\"edge1\" class=\"edge\">\n",
       "<title>0&#45;&gt;1</title>\n",
       "<path fill=\"none\" stroke=\"black\" d=\"M365.48,-355.82C358.41,-346.83 350.89,-337.29 343.62,-328.06\"/>\n",
       "<polygon fill=\"black\" stroke=\"black\" points=\"346.25,-325.73 337.31,-320.04 340.75,-330.06 346.25,-325.73\"/>\n",
       "<text text-anchor=\"middle\" x=\"334.36\" y=\"-340.67\" font-family=\"Helvetica,sans-Serif\" font-size=\"14.00\">True</text>\n",
       "</g>\n",
       "<!-- 6 -->\n",
       "<g id=\"node7\" class=\"node\">\n",
       "<title>6</title>\n",
       "<path fill=\"#f8dcc8\" stroke=\"black\" d=\"M549.65,-320.1C549.65,-320.1 446.26,-320.1 446.26,-320.1 440.26,-320.1 434.26,-314.1 434.26,-308.1 434.26,-308.1 434.26,-242.7 434.26,-242.7 434.26,-236.7 440.26,-230.7 446.26,-230.7 446.26,-230.7 549.65,-230.7 549.65,-230.7 555.65,-230.7 561.65,-236.7 561.65,-242.7 561.65,-242.7 561.65,-308.1 561.65,-308.1 561.65,-314.1 555.65,-320.1 549.65,-320.1\"/>\n",
       "<text text-anchor=\"middle\" x=\"497.95\" y=\"-304.8\" font-family=\"Helvetica,sans-Serif\" font-size=\"14.00\">酒精 &lt;= 13.546</text>\n",
       "<text text-anchor=\"middle\" x=\"497.95\" y=\"-285.2\" font-family=\"Helvetica,sans-Serif\" font-size=\"14.00\">entropy = 0.981</text>\n",
       "<text text-anchor=\"middle\" x=\"497.95\" y=\"-271.2\" font-family=\"Helvetica,sans-Serif\" font-size=\"14.00\">samples = 74</text>\n",
       "<text text-anchor=\"middle\" x=\"497.95\" y=\"-257.2\" font-family=\"Helvetica,sans-Serif\" font-size=\"14.00\">value = [43, 31, 0]</text>\n",
       "<text text-anchor=\"middle\" x=\"497.95\" y=\"-243.2\" font-family=\"Helvetica,sans-Serif\" font-size=\"14.00\">class = 琴酒</text>\n",
       "</g>\n",
       "<!-- 0&#45;&gt;6 -->\n",
       "<g id=\"edge6\" class=\"edge\">\n",
       "<title>0&#45;&gt;6</title>\n",
       "<path fill=\"none\" stroke=\"black\" d=\"M434.78,-355.82C441.93,-346.83 449.52,-337.29 456.86,-328.06\"/>\n",
       "<polygon fill=\"black\" stroke=\"black\" points=\"459.75,-330.05 463.24,-320.04 454.27,-325.69 459.75,-330.05\"/>\n",
       "<text text-anchor=\"middle\" x=\"466.07\" y=\"-340.68\" font-family=\"Helvetica,sans-Serif\" font-size=\"14.00\">False</text>\n",
       "</g>\n",
       "<!-- 2 -->\n",
       "<g id=\"node3\" class=\"node\">\n",
       "<title>2</title>\n",
       "<path fill=\"#995eea\" stroke=\"black\" d=\"M225.86,-194.9C225.86,-194.9 130.05,-194.9 130.05,-194.9 124.05,-194.9 118.05,-188.9 118.05,-182.9 118.05,-182.9 118.05,-117.5 118.05,-117.5 118.05,-111.5 124.05,-105.5 130.05,-105.5 130.05,-105.5 225.86,-105.5 225.86,-105.5 231.86,-105.5 237.86,-111.5 237.86,-117.5 237.86,-117.5 237.86,-182.9 237.86,-182.9 237.86,-188.9 231.86,-194.9 225.86,-194.9\"/>\n",
       "<text text-anchor=\"middle\" x=\"177.95\" y=\"-179.6\" font-family=\"Helvetica,sans-Serif\" font-size=\"14.00\">酒精 &lt;= 13.478</text>\n",
       "<text text-anchor=\"middle\" x=\"177.95\" y=\"-160\" font-family=\"Helvetica,sans-Serif\" font-size=\"14.00\">entropy = 0.629</text>\n",
       "<text text-anchor=\"middle\" x=\"177.95\" y=\"-146\" font-family=\"Helvetica,sans-Serif\" font-size=\"14.00\">samples = 38</text>\n",
       "<text text-anchor=\"middle\" x=\"177.95\" y=\"-132\" font-family=\"Helvetica,sans-Serif\" font-size=\"14.00\">value = [0, 6, 32]</text>\n",
       "<text text-anchor=\"middle\" x=\"177.95\" y=\"-118\" font-family=\"Helvetica,sans-Serif\" font-size=\"14.00\">class = 贝尔摩德</text>\n",
       "</g>\n",
       "<!-- 1&#45;&gt;2 -->\n",
       "<g id=\"edge2\" class=\"edge\">\n",
       "<title>1&#45;&gt;2</title>\n",
       "<path fill=\"none\" stroke=\"black\" d=\"M258.53,-230.62C249.14,-221.36 239.15,-211.51 229.51,-202.02\"/>\n",
       "<polygon fill=\"black\" stroke=\"black\" points=\"231.81,-199.37 222.23,-194.84 226.9,-204.35 231.81,-199.37\"/>\n",
       "</g>\n",
       "<!-- 5 -->\n",
       "<g id=\"node6\" class=\"node\">\n",
       "<title>5</title>\n",
       "<path fill=\"#61ea9a\" stroke=\"black\" d=\"M363.86,-184.8C363.86,-184.8 268.05,-184.8 268.05,-184.8 262.05,-184.8 256.05,-178.8 256.05,-172.8 256.05,-172.8 256.05,-127.6 256.05,-127.6 256.05,-121.6 262.05,-115.6 268.05,-115.6 268.05,-115.6 363.86,-115.6 363.86,-115.6 369.86,-115.6 375.86,-121.6 375.86,-127.6 375.86,-127.6 375.86,-172.8 375.86,-172.8 375.86,-178.8 369.86,-184.8 363.86,-184.8\"/>\n",
       "<text text-anchor=\"middle\" x=\"315.95\" y=\"-169.8\" font-family=\"Helvetica,sans-Serif\" font-size=\"14.00\">entropy = 0.65</text>\n",
       "<text text-anchor=\"middle\" x=\"315.95\" y=\"-155.8\" font-family=\"Helvetica,sans-Serif\" font-size=\"14.00\">samples = 12</text>\n",
       "<text text-anchor=\"middle\" x=\"315.95\" y=\"-141.8\" font-family=\"Helvetica,sans-Serif\" font-size=\"14.00\">value = [0, 10, 2]</text>\n",
       "<text text-anchor=\"middle\" x=\"315.95\" y=\"-127.8\" font-family=\"Helvetica,sans-Serif\" font-size=\"14.00\">class = 雪莉</text>\n",
       "</g>\n",
       "<!-- 1&#45;&gt;5 -->\n",
       "<g id=\"edge5\" class=\"edge\">\n",
       "<title>1&#45;&gt;5</title>\n",
       "<path fill=\"none\" stroke=\"black\" d=\"M307.57,-230.62C308.78,-219.18 310.08,-206.85 311.29,-195.39\"/>\n",
       "<polygon fill=\"black\" stroke=\"black\" points=\"314.8,-195.47 312.37,-185.16 307.84,-194.74 314.8,-195.47\"/>\n",
       "</g>\n",
       "<!-- 3 -->\n",
       "<g id=\"node4\" class=\"node\">\n",
       "<title>3</title>\n",
       "<path fill=\"#a572ec\" stroke=\"black\" d=\"M107.86,-69.4C107.86,-69.4 12.05,-69.4 12.05,-69.4 6.05,-69.4 0.05,-63.4 0.05,-57.4 0.05,-57.4 0.05,-12.2 0.05,-12.2 0.05,-6.2 6.05,-0.2 12.05,-0.2 12.05,-0.2 107.86,-0.2 107.86,-0.2 113.86,-0.2 119.86,-6.2 119.86,-12.2 119.86,-12.2 119.86,-57.4 119.86,-57.4 119.86,-63.4 113.86,-69.4 107.86,-69.4\"/>\n",
       "<text text-anchor=\"middle\" x=\"59.95\" y=\"-54.4\" font-family=\"Helvetica,sans-Serif\" font-size=\"14.00\">entropy = 0.764</text>\n",
       "<text text-anchor=\"middle\" x=\"59.95\" y=\"-40.4\" font-family=\"Helvetica,sans-Serif\" font-size=\"14.00\">samples = 27</text>\n",
       "<text text-anchor=\"middle\" x=\"59.95\" y=\"-26.4\" font-family=\"Helvetica,sans-Serif\" font-size=\"14.00\">value = [0, 6, 21]</text>\n",
       "<text text-anchor=\"middle\" x=\"59.95\" y=\"-12.4\" font-family=\"Helvetica,sans-Serif\" font-size=\"14.00\">class = 贝尔摩德</text>\n",
       "</g>\n",
       "<!-- 2&#45;&gt;3 -->\n",
       "<g id=\"edge3\" class=\"edge\">\n",
       "<title>2&#45;&gt;3</title>\n",
       "<path fill=\"none\" stroke=\"black\" d=\"M132.33,-105.36C122.51,-95.92 112.17,-85.98 102.48,-76.66\"/>\n",
       "<polygon fill=\"black\" stroke=\"black\" points=\"104.84,-74.08 95.21,-69.68 99.99,-79.13 104.84,-74.08\"/>\n",
       "</g>\n",
       "<!-- 4 -->\n",
       "<g id=\"node5\" class=\"node\">\n",
       "<title>4</title>\n",
       "<path fill=\"#8139e5\" stroke=\"black\" d=\"M245.8,-69.4C245.8,-69.4 150.1,-69.4 150.1,-69.4 144.1,-69.4 138.1,-63.4 138.1,-57.4 138.1,-57.4 138.1,-12.2 138.1,-12.2 138.1,-6.2 144.1,-0.2 150.1,-0.2 150.1,-0.2 245.8,-0.2 245.8,-0.2 251.8,-0.2 257.8,-6.2 257.8,-12.2 257.8,-12.2 257.8,-57.4 257.8,-57.4 257.8,-63.4 251.8,-69.4 245.8,-69.4\"/>\n",
       "<text text-anchor=\"middle\" x=\"197.95\" y=\"-54.4\" font-family=\"Helvetica,sans-Serif\" font-size=\"14.00\">entropy = 0.0</text>\n",
       "<text text-anchor=\"middle\" x=\"197.95\" y=\"-40.4\" font-family=\"Helvetica,sans-Serif\" font-size=\"14.00\">samples = 11</text>\n",
       "<text text-anchor=\"middle\" x=\"197.95\" y=\"-26.4\" font-family=\"Helvetica,sans-Serif\" font-size=\"14.00\">value = [0, 0, 11]</text>\n",
       "<text text-anchor=\"middle\" x=\"197.95\" y=\"-12.4\" font-family=\"Helvetica,sans-Serif\" font-size=\"14.00\">class = 贝尔摩德</text>\n",
       "</g>\n",
       "<!-- 2&#45;&gt;4 -->\n",
       "<g id=\"edge4\" class=\"edge\">\n",
       "<title>2&#45;&gt;4</title>\n",
       "<path fill=\"none\" stroke=\"black\" d=\"M185.69,-105.36C187.17,-96.94 188.73,-88.12 190.21,-79.7\"/>\n",
       "<polygon fill=\"black\" stroke=\"black\" points=\"193.69,-80.13 191.98,-69.68 186.79,-78.92 193.69,-80.13\"/>\n",
       "</g>\n",
       "<!-- 7 -->\n",
       "<g id=\"node8\" class=\"node\">\n",
       "<title>7</title>\n",
       "<path fill=\"#9cf2c0\" stroke=\"black\" d=\"M539.19,-194.9C539.19,-194.9 430.72,-194.9 430.72,-194.9 424.72,-194.9 418.72,-188.9 418.72,-182.9 418.72,-182.9 418.72,-117.5 418.72,-117.5 418.72,-111.5 424.72,-105.5 430.72,-105.5 430.72,-105.5 539.19,-105.5 539.19,-105.5 545.19,-105.5 551.19,-111.5 551.19,-117.5 551.19,-117.5 551.19,-182.9 551.19,-182.9 551.19,-188.9 545.19,-194.9 539.19,-194.9\"/>\n",
       "<text text-anchor=\"middle\" x=\"484.95\" y=\"-179.6\" font-family=\"Helvetica,sans-Serif\" font-size=\"14.00\">脯氨酸 &lt;= 488.871</text>\n",
       "<text text-anchor=\"middle\" x=\"484.95\" y=\"-160\" font-family=\"Helvetica,sans-Serif\" font-size=\"14.00\">entropy = 0.918</text>\n",
       "<text text-anchor=\"middle\" x=\"484.95\" y=\"-146\" font-family=\"Helvetica,sans-Serif\" font-size=\"14.00\">samples = 45</text>\n",
       "<text text-anchor=\"middle\" x=\"484.95\" y=\"-132\" font-family=\"Helvetica,sans-Serif\" font-size=\"14.00\">value = [15, 30, 0]</text>\n",
       "<text text-anchor=\"middle\" x=\"484.95\" y=\"-118\" font-family=\"Helvetica,sans-Serif\" font-size=\"14.00\">class = 雪莉</text>\n",
       "</g>\n",
       "<!-- 6&#45;&gt;7 -->\n",
       "<g id=\"edge7\" class=\"edge\">\n",
       "<title>6&#45;&gt;7</title>\n",
       "<path fill=\"none\" stroke=\"black\" d=\"M493.33,-230.62C492.45,-222.27 491.52,-213.44 490.61,-204.82\"/>\n",
       "<polygon fill=\"black\" stroke=\"black\" points=\"494.09,-204.42 489.56,-194.84 487.13,-205.15 494.09,-204.42\"/>\n",
       "</g>\n",
       "<!-- 10 -->\n",
       "<g id=\"node11\" class=\"node\">\n",
       "<title>10</title>\n",
       "<path fill=\"#e68640\" stroke=\"black\" d=\"M784.37,-194.9C784.37,-194.9 581.54,-194.9 581.54,-194.9 575.54,-194.9 569.54,-188.9 569.54,-182.9 569.54,-182.9 569.54,-117.5 569.54,-117.5 569.54,-111.5 575.54,-105.5 581.54,-105.5 581.54,-105.5 784.37,-105.5 784.37,-105.5 790.37,-105.5 796.37,-111.5 796.37,-117.5 796.37,-117.5 796.37,-182.9 796.37,-182.9 796.37,-188.9 790.37,-194.9 784.37,-194.9\"/>\n",
       "<text text-anchor=\"middle\" x=\"682.95\" y=\"-179.6\" font-family=\"Helvetica,sans-Serif\" font-size=\"14.00\">od280/od315稀释葡萄酒 &lt;= 3.266</text>\n",
       "<text text-anchor=\"middle\" x=\"682.95\" y=\"-160\" font-family=\"Helvetica,sans-Serif\" font-size=\"14.00\">entropy = 0.216</text>\n",
       "<text text-anchor=\"middle\" x=\"682.95\" y=\"-146\" font-family=\"Helvetica,sans-Serif\" font-size=\"14.00\">samples = 29</text>\n",
       "<text text-anchor=\"middle\" x=\"682.95\" y=\"-132\" font-family=\"Helvetica,sans-Serif\" font-size=\"14.00\">value = [28, 1, 0]</text>\n",
       "<text text-anchor=\"middle\" x=\"682.95\" y=\"-118\" font-family=\"Helvetica,sans-Serif\" font-size=\"14.00\">class = 琴酒</text>\n",
       "</g>\n",
       "<!-- 6&#45;&gt;10 -->\n",
       "<g id=\"edge10\" class=\"edge\">\n",
       "<title>6&#45;&gt;10</title>\n",
       "<path fill=\"none\" stroke=\"black\" d=\"M561.88,-231.83C577.04,-221.74 593.33,-210.89 608.89,-200.52\"/>\n",
       "<polygon fill=\"black\" stroke=\"black\" points=\"611.07,-203.27 617.45,-194.82 607.19,-197.45 611.07,-203.27\"/>\n",
       "</g>\n",
       "<!-- 8 -->\n",
       "<g id=\"node9\" class=\"node\">\n",
       "<title>8</title>\n",
       "<path fill=\"#39e581\" stroke=\"black\" d=\"M412.86,-69.4C412.86,-69.4 317.05,-69.4 317.05,-69.4 311.05,-69.4 305.05,-63.4 305.05,-57.4 305.05,-57.4 305.05,-12.2 305.05,-12.2 305.05,-6.2 311.05,-0.2 317.05,-0.2 317.05,-0.2 412.86,-0.2 412.86,-0.2 418.86,-0.2 424.86,-6.2 424.86,-12.2 424.86,-12.2 424.86,-57.4 424.86,-57.4 424.86,-63.4 418.86,-69.4 412.86,-69.4\"/>\n",
       "<text text-anchor=\"middle\" x=\"364.95\" y=\"-54.4\" font-family=\"Helvetica,sans-Serif\" font-size=\"14.00\">entropy = 0.0</text>\n",
       "<text text-anchor=\"middle\" x=\"364.95\" y=\"-40.4\" font-family=\"Helvetica,sans-Serif\" font-size=\"14.00\">samples = 17</text>\n",
       "<text text-anchor=\"middle\" x=\"364.95\" y=\"-26.4\" font-family=\"Helvetica,sans-Serif\" font-size=\"14.00\">value = [0, 17, 0]</text>\n",
       "<text text-anchor=\"middle\" x=\"364.95\" y=\"-12.4\" font-family=\"Helvetica,sans-Serif\" font-size=\"14.00\">class = 雪莉</text>\n",
       "</g>\n",
       "<!-- 7&#45;&gt;8 -->\n",
       "<g id=\"edge8\" class=\"edge\">\n",
       "<title>7&#45;&gt;8</title>\n",
       "<path fill=\"none\" stroke=\"black\" d=\"M438.56,-105.36C428.57,-95.92 418.06,-85.98 408.2,-76.66\"/>\n",
       "<polygon fill=\"black\" stroke=\"black\" points=\"410.48,-74 400.8,-69.68 405.67,-79.09 410.48,-74\"/>\n",
       "</g>\n",
       "<!-- 9 -->\n",
       "<g id=\"node10\" class=\"node\">\n",
       "<title>9</title>\n",
       "<path fill=\"#fceee5\" stroke=\"black\" d=\"M558.65,-69.4C558.65,-69.4 455.26,-69.4 455.26,-69.4 449.26,-69.4 443.26,-63.4 443.26,-57.4 443.26,-57.4 443.26,-12.2 443.26,-12.2 443.26,-6.2 449.26,-0.2 455.26,-0.2 455.26,-0.2 558.65,-0.2 558.65,-0.2 564.65,-0.2 570.65,-6.2 570.65,-12.2 570.65,-12.2 570.65,-57.4 570.65,-57.4 570.65,-63.4 564.65,-69.4 558.65,-69.4\"/>\n",
       "<text text-anchor=\"middle\" x=\"506.95\" y=\"-54.4\" font-family=\"Helvetica,sans-Serif\" font-size=\"14.00\">entropy = 0.996</text>\n",
       "<text text-anchor=\"middle\" x=\"506.95\" y=\"-40.4\" font-family=\"Helvetica,sans-Serif\" font-size=\"14.00\">samples = 28</text>\n",
       "<text text-anchor=\"middle\" x=\"506.95\" y=\"-26.4\" font-family=\"Helvetica,sans-Serif\" font-size=\"14.00\">value = [15, 13, 0]</text>\n",
       "<text text-anchor=\"middle\" x=\"506.95\" y=\"-12.4\" font-family=\"Helvetica,sans-Serif\" font-size=\"14.00\">class = 琴酒</text>\n",
       "</g>\n",
       "<!-- 7&#45;&gt;9 -->\n",
       "<g id=\"edge9\" class=\"edge\">\n",
       "<title>7&#45;&gt;9</title>\n",
       "<path fill=\"none\" stroke=\"black\" d=\"M493.46,-105.36C495.09,-96.94 496.8,-88.12 498.44,-79.7\"/>\n",
       "<polygon fill=\"black\" stroke=\"black\" points=\"501.91,-80.16 500.38,-69.68 495.04,-78.83 501.91,-80.16\"/>\n",
       "</g>\n",
       "<!-- 11 -->\n",
       "<g id=\"node12\" class=\"node\">\n",
       "<title>11</title>\n",
       "<path fill=\"#e78845\" stroke=\"black\" d=\"M710.86,-69.4C710.86,-69.4 615.05,-69.4 615.05,-69.4 609.05,-69.4 603.05,-63.4 603.05,-57.4 603.05,-57.4 603.05,-12.2 603.05,-12.2 603.05,-6.2 609.05,-0.2 615.05,-0.2 615.05,-0.2 710.86,-0.2 710.86,-0.2 716.86,-0.2 722.86,-6.2 722.86,-12.2 722.86,-12.2 722.86,-57.4 722.86,-57.4 722.86,-63.4 716.86,-69.4 710.86,-69.4\"/>\n",
       "<text text-anchor=\"middle\" x=\"662.95\" y=\"-54.4\" font-family=\"Helvetica,sans-Serif\" font-size=\"14.00\">entropy = 0.31</text>\n",
       "<text text-anchor=\"middle\" x=\"662.95\" y=\"-40.4\" font-family=\"Helvetica,sans-Serif\" font-size=\"14.00\">samples = 18</text>\n",
       "<text text-anchor=\"middle\" x=\"662.95\" y=\"-26.4\" font-family=\"Helvetica,sans-Serif\" font-size=\"14.00\">value = [17, 1, 0]</text>\n",
       "<text text-anchor=\"middle\" x=\"662.95\" y=\"-12.4\" font-family=\"Helvetica,sans-Serif\" font-size=\"14.00\">class = 琴酒</text>\n",
       "</g>\n",
       "<!-- 10&#45;&gt;11 -->\n",
       "<g id=\"edge11\" class=\"edge\">\n",
       "<title>10&#45;&gt;11</title>\n",
       "<path fill=\"none\" stroke=\"black\" d=\"M675.22,-105.36C673.74,-96.94 672.18,-88.12 670.7,-79.7\"/>\n",
       "<polygon fill=\"black\" stroke=\"black\" points=\"674.11,-78.92 668.93,-69.68 667.22,-80.13 674.11,-78.92\"/>\n",
       "</g>\n",
       "<!-- 12 -->\n",
       "<g id=\"node13\" class=\"node\">\n",
       "<title>12</title>\n",
       "<path fill=\"#e58139\" stroke=\"black\" d=\"M847.33,-69.4C847.33,-69.4 752.58,-69.4 752.58,-69.4 746.58,-69.4 740.58,-63.4 740.58,-57.4 740.58,-57.4 740.58,-12.2 740.58,-12.2 740.58,-6.2 746.58,-0.2 752.58,-0.2 752.58,-0.2 847.33,-0.2 847.33,-0.2 853.33,-0.2 859.33,-6.2 859.33,-12.2 859.33,-12.2 859.33,-57.4 859.33,-57.4 859.33,-63.4 853.33,-69.4 847.33,-69.4\"/>\n",
       "<text text-anchor=\"middle\" x=\"799.95\" y=\"-54.4\" font-family=\"Helvetica,sans-Serif\" font-size=\"14.00\">entropy = 0.0</text>\n",
       "<text text-anchor=\"middle\" x=\"799.95\" y=\"-40.4\" font-family=\"Helvetica,sans-Serif\" font-size=\"14.00\">samples = 11</text>\n",
       "<text text-anchor=\"middle\" x=\"799.95\" y=\"-26.4\" font-family=\"Helvetica,sans-Serif\" font-size=\"14.00\">value = [11, 0, 0]</text>\n",
       "<text text-anchor=\"middle\" x=\"799.95\" y=\"-12.4\" font-family=\"Helvetica,sans-Serif\" font-size=\"14.00\">class = 琴酒</text>\n",
       "</g>\n",
       "<!-- 10&#45;&gt;12 -->\n",
       "<g id=\"edge12\" class=\"edge\">\n",
       "<title>10&#45;&gt;12</title>\n",
       "<path fill=\"none\" stroke=\"black\" d=\"M728.19,-105.36C737.92,-95.92 748.18,-85.98 757.79,-76.66\"/>\n",
       "<polygon fill=\"black\" stroke=\"black\" points=\"760.25,-79.15 765,-69.68 755.38,-74.13 760.25,-79.15\"/>\n",
       "</g>\n",
       "</g>\n",
       "</svg>\n"
      ],
      "text/plain": [
       "<graphviz.files.Source at 0x12fd84890>"
      ]
     },
     "execution_count": 22,
     "metadata": {},
     "output_type": "execute_result"
    }
   ],
   "source": [
    "clf = tree.DecisionTreeClassifier(criterion='entropy',\n",
    "                                  random_state=30,\n",
    "                                  splitter='random',\n",
    "                                  max_depth=3,\n",
    "                                  min_samples_leaf=10,\n",
    "                                  min_samples_split=10\n",
    "                                  )\n",
    "clf = clf.fit(X_train, Y_train)\n",
    "dot_data = tree.export_graphviz(clf,\n",
    "                                feature_names=feature_name,\n",
    "                                class_names=[\"琴酒\", \"雪莉\", \"贝尔摩德\"],\n",
    "                                filled=True,\n",
    "                                rounded=True\n",
    "                                )\n",
    "graph = graphviz.Source(dot_data)\n",
    "graph"
   ]
  },
  {
   "cell_type": "code",
   "execution_count": 23,
   "metadata": {},
   "outputs": [
    {
     "data": {
      "text/plain": [
       "0.8225806451612904"
      ]
     },
     "execution_count": 23,
     "metadata": {},
     "output_type": "execute_result"
    }
   ],
   "source": [
    "score = clf.score(X_train, Y_train)\n",
    "score"
   ]
  },
  {
   "cell_type": "code",
   "execution_count": 24,
   "metadata": {},
   "outputs": [
    {
     "data": {
      "text/plain": [
       "0.8518518518518519"
      ]
     },
     "execution_count": 24,
     "metadata": {},
     "output_type": "execute_result"
    }
   ],
   "source": [
    "score = clf.score(X_test, Y_test)\n",
    "score"
   ]
  },
  {
   "cell_type": "code",
   "execution_count": 25,
   "metadata": {},
   "outputs": [
    {
     "data": {
      "image/png": "[encoded data removed]",
      "text/plain": [
       "<Figure size 432x288 with 1 Axes>"
      ]
     },
     "metadata": {
      "needs_background": "light"
     },
     "output_type": "display_data"
    }
   ],
   "source": [
    "import matplotlib.pyplot as plt\n",
    "test = []\n",
    "for i in range(10):\n",
    "    clf = tree.DecisionTreeClassifier(max_depth=i+1, \n",
    "                                      criterion=\"entropy\", \n",
    "                                      random_state=30, \n",
    "                                      splitter=\"random\"\n",
    "                                      )\n",
    "    clf = clf.fit(X_train, Y_train)\n",
    "    score = clf.score(X_test, Y_test)\n",
    "    test.append(score)\n",
    "plt.plot(range(1, 11), test, color=\"red\", label=\"max_depth\")\n",
    "plt.legend()\n",
    "plt.show()"
   ]
  },
  {
   "cell_type": "code",
   "execution_count": 26,
   "metadata": {},
   "outputs": [
    {
     "data": {
      "text/plain": [
       "array([10, 10,  8,  4, 16, 23, 16, 21,  4, 25, 16, 23, 23, 20, 16, 20, 16,\n",
       "        4, 25, 25, 25,  8, 20, 25, 20, 20, 25, 16, 21,  4, 17,  4, 21, 20,\n",
       "       10, 20, 20, 25, 25,  4,  4, 25, 20, 23, 23, 13, 21, 10, 21, 23, 25,\n",
       "       23, 20, 25])"
      ]
     },
     "execution_count": 26,
     "metadata": {},
     "output_type": "execute_result"
    }
   ],
   "source": [
    "#apply返回每个测试样本所在的叶子节点的索引\n",
    "clf.apply(X_test)"
   ]
  },
  {
   "cell_type": "code",
   "execution_count": 27,
   "metadata": {},
   "outputs": [
    {
     "data": {
      "text/plain": [
       "array([2, 2, 2, 2, 1, 1, 1, 0, 2, 0, 1, 1, 1, 1, 1, 1, 1, 2, 0, 0, 0, 2,\n",
       "       1, 0, 1, 1, 0, 1, 0, 2, 2, 2, 0, 1, 2, 1, 1, 0, 0, 2, 2, 0, 1, 1,\n",
       "       1, 1, 0, 2, 0, 1, 0, 1, 1, 0])"
      ]
     },
     "execution_count": 27,
     "metadata": {},
     "output_type": "execute_result"
    }
   ],
   "source": [
    "#predict返回每个测试样本的分类/回归结果\n",
    "clf.predict(X_test)"
   ]
  },
  {
   "cell_type": "code",
   "execution_count": 28,
   "metadata": {},
   "outputs": [],
   "source": [
    "from sklearn.datasets import load_boston\n",
    "from sklearn.model_selection import cross_val_score\n",
    "from sklearn.tree import DecisionTreeRegressor"
   ]
  },
  {
   "cell_type": "code",
   "execution_count": 29,
   "metadata": {},
   "outputs": [],
   "source": [
    "boston = load_boston()"
   ]
  },
  {
   "cell_type": "code",
   "execution_count": 30,
   "metadata": {},
   "outputs": [
    {
     "data": {
      "text/plain": [
       "array([[6.3200e-03, 1.8000e+01, 2.3100e+00, ..., 1.5300e+01, 3.9690e+02,\n",
       "        4.9800e+00],\n",
       "       [2.7310e-02, 0.0000e+00, 7.0700e+00, ..., 1.7800e+01, 3.9690e+02,\n",
       "        9.1400e+00],\n",
       "       [2.7290e-02, 0.0000e+00, 7.0700e+00, ..., 1.7800e+01, 3.9283e+02,\n",
       "        4.0300e+00],\n",
       "       ...,\n",
       "       [6.0760e-02, 0.0000e+00, 1.1930e+01, ..., 2.1000e+01, 3.9690e+02,\n",
       "        5.6400e+00],\n",
       "       [1.0959e-01, 0.0000e+00, 1.1930e+01, ..., 2.1000e+01, 3.9345e+02,\n",
       "        6.4800e+00],\n",
       "       [4.7410e-02, 0.0000e+00, 1.1930e+01, ..., 2.1000e+01, 3.9690e+02,\n",
       "        7.8800e+00]])"
      ]
     },
     "execution_count": 30,
     "metadata": {},
     "output_type": "execute_result"
    }
   ],
   "source": [
    "boston.data"
   ]
  },
  {
   "cell_type": "code",
   "execution_count": 31,
   "metadata": {},
   "outputs": [
    {
     "data": {
      "text/plain": [
       "array([24. , 21.6, 34.7, 33.4, 36.2, 28.7, 22.9, 27.1, 16.5, 18.9, 15. ,\n",
       "       18.9, 21.7, 20.4, 18.2, 19.9, 23.1, 17.5, 20.2, 18.2, 13.6, 19.6,\n",
       "       15.2, 14.5, 15.6, 13.9, 16.6, 14.8, 18.4, 21. , 12.7, 14.5, 13.2,\n",
       "       13.1, 13.5, 18.9, 20. , 21. , 24.7, 30.8, 34.9, 26.6, 25.3, 24.7,\n",
       "       21.2, 19.3, 20. , 16.6, 14.4, 19.4, 19.7, 20.5, 25. , 23.4, 18.9,\n",
       "       35.4, 24.7, 31.6, 23.3, 19.6, 18.7, 16. , 22.2, 25. , 33. , 23.5,\n",
       "       19.4, 22. , 17.4, 20.9, 24.2, 21.7, 22.8, 23.4, 24.1, 21.4, 20. ,\n",
       "       20.8, 21.2, 20.3, 28. , 23.9, 24.8, 22.9, 23.9, 26.6, 22.5, 22.2,\n",
       "       23.6, 28.7, 22.6, 22. , 22.9, 25. , 20.6, 28.4, 21.4, 38.7, 43.8,\n",
       "       33.2, 27.5, 26.5, 18.6, 19.3, 20.1, 19.5, 19.5, 20.4, 19.8, 19.4,\n",
       "       21.7, 22.8, 18.8, 18.7, 18.5, 18.3, 21.2, 19.2, 20.4, 19.3, 22. ,\n",
       "       20.3, 20.5, 17.3, 18.8, 21.4, 15.7, 16.2, 18. , 14.3, 19.2, 19.6,\n",
       "       23. , 18.4, 15.6, 18.1, 17.4, 17.1, 13.3, 17.8, 14. , 14.4, 13.4,\n",
       "       15.6, 11.8, 13.8, 15.6, 14.6, 17.8, 15.4, 21.5, 19.6, 15.3, 19.4,\n",
       "       17. , 15.6, 13.1, 41.3, 24.3, 23.3, 27. , 50. , 50. , 50. , 22.7,\n",
       "       25. , 50. , 23.8, 23.8, 22.3, 17.4, 19.1, 23.1, 23.6, 22.6, 29.4,\n",
       "       23.2, 24.6, 29.9, 37.2, 39.8, 36.2, 37.9, 32.5, 26.4, 29.6, 50. ,\n",
       "       32. , 29.8, 34.9, 37. , 30.5, 36.4, 31.1, 29.1, 50. , 33.3, 30.3,\n",
       "       34.6, 34.9, 32.9, 24.1, 42.3, 48.5, 50. , 22.6, 24.4, 22.5, 24.4,\n",
       "       20. , 21.7, 19.3, 22.4, 28.1, 23.7, 25. , 23.3, 28.7, 21.5, 23. ,\n",
       "       26.7, 21.7, 27.5, 30.1, 44.8, 50. , 37.6, 31.6, 46.7, 31.5, 24.3,\n",
       "       31.7, 41.7, 48.3, 29. , 24. , 25.1, 31.5, 23.7, 23.3, 22. , 20.1,\n",
       "       22.2, 23.7, 17.6, 18.5, 24.3, 20.5, 24.5, 26.2, 24.4, 24.8, 29.6,\n",
       "       42.8, 21.9, 20.9, 44. , 50. , 36. , 30.1, 33.8, 43.1, 48.8, 31. ,\n",
       "       36.5, 22.8, 30.7, 50. , 43.5, 20.7, 21.1, 25.2, 24.4, 35.2, 32.4,\n",
       "       32. , 33.2, 33.1, 29.1, 35.1, 45.4, 35.4, 46. , 50. , 32.2, 22. ,\n",
       "       20.1, 23.2, 22.3, 24.8, 28.5, 37.3, 27.9, 23.9, 21.7, 28.6, 27.1,\n",
       "       20.3, 22.5, 29. , 24.8, 22. , 26.4, 33.1, 36.1, 28.4, 33.4, 28.2,\n",
       "       22.8, 20.3, 16.1, 22.1, 19.4, 21.6, 23.8, 16.2, 17.8, 19.8, 23.1,\n",
       "       21. , 23.8, 23.1, 20.4, 18.5, 25. , 24.6, 23. , 22.2, 19.3, 22.6,\n",
       "       19.8, 17.1, 19.4, 22.2, 20.7, 21.1, 19.5, 18.5, 20.6, 19. , 18.7,\n",
       "       32.7, 16.5, 23.9, 31.2, 17.5, 17.2, 23.1, 24.5, 26.6, 22.9, 24.1,\n",
       "       18.6, 30.1, 18.2, 20.6, 17.8, 21.7, 22.7, 22.6, 25. , 19.9, 20.8,\n",
       "       16.8, 21.9, 27.5, 21.9, 23.1, 50. , 50. , 50. , 50. , 50. , 13.8,\n",
       "       13.8, 15. , 13.9, 13.3, 13.1, 10.2, 10.4, 10.9, 11.3, 12.3,  8.8,\n",
       "        7.2, 10.5,  7.4, 10.2, 11.5, 15.1, 23.2,  9.7, 13.8, 12.7, 13.1,\n",
       "       12.5,  8.5,  5. ,  6.3,  5.6,  7.2, 12.1,  8.3,  8.5,  5. , 11.9,\n",
       "       27.9, 17.2, 27.5, 15. , 17.2, 17.9, 16.3,  7. ,  7.2,  7.5, 10.4,\n",
       "        8.8,  8.4, 16.7, 14.2, 20.8, 13.4, 11.7,  8.3, 10.2, 10.9, 11. ,\n",
       "        9.5, 14.5, 14.1, 16.1, 14.3, 11.7, 13.4,  9.6,  8.7,  8.4, 12.8,\n",
       "       10.5, 17.1, 18.4, 15.4, 10.8, 11.8, 14.9, 12.6, 14.1, 13. , 13.4,\n",
       "       15.2, 16.1, 17.8, 14.9, 14.1, 12.7, 13.5, 14.9, 20. , 16.4, 17.7,\n",
       "       19.5, 20.2, 21.4, 19.9, 19. , 19.1, 19.1, 20.1, 19.9, 19.6, 23.2,\n",
       "       29.8, 13.8, 13.3, 16.7, 12. , 14.6, 21.4, 23. , 23.7, 25. , 21.8,\n",
       "       20.6, 21.2, 19.1, 20.6, 15.2,  7. ,  8.1, 13.6, 20.1, 21.8, 24.5,\n",
       "       23.1, 19.7, 18.3, 21.2, 17.5, 16.8, 22.4, 20.6, 23.9, 22. , 11.9])"
      ]
     },
     "execution_count": 31,
     "metadata": {},
     "output_type": "execute_result"
    }
   ],
   "source": [
    "boston.target"
   ]
  },
  {
   "cell_type": "code",
   "execution_count": 38,
   "metadata": {
    "scrolled": true
   },
   "outputs": [
    {
     "data": {
      "text/plain": [
       "array([ -15.34585196,  -15.66084277,  -11.03302853,  -32.78094215,\n",
       "        -20.08730124,  -87.24615296,  -27.38303932, -101.98850738,\n",
       "        -65.51431185,  -19.8074093 ])"
      ]
     },
     "execution_count": 38,
     "metadata": {},
     "output_type": "execute_result"
    }
   ],
   "source": [
    "regressor = DecisionTreeRegressor(random_state=0, max_depth=3)\n",
    "cross_val_score(regressor,\n",
    "                boston.data,\n",
    "                boston.target,\n",
    "                cv=10,\n",
    "                scoring='neg_mean_squared_error')"
   ]
  },
  {
   "cell_type": "code",
   "execution_count": 39,
   "metadata": {},
   "outputs": [
    {
     "data": {
      "text/plain": [
       "DecisionTreeRegressor(max_depth=3, random_state=0)"
      ]
     },
     "execution_count": 39,
     "metadata": {},
     "output_type": "execute_result"
    }
   ],
   "source": [
    "regressor.fit(boston.data, boston.target)"
   ]
  },
  {
   "cell_type": "code",
   "execution_count": 40,
   "metadata": {},
   "outputs": [
    {
     "data": {
      "text/plain": [
       "array([0.06136689, 0.        , 0.        , 0.        , 0.        ,\n",
       "       0.65717545, 0.        , 0.0721473 , 0.        , 0.        ,\n",
       "       0.        , 0.        , 0.20931036])"
      ]
     },
     "execution_count": 40,
     "metadata": {},
     "output_type": "execute_result"
    }
   ],
   "source": [
    "regressor.feature_importances_"
   ]
  },
  {
   "cell_type": "code",
   "execution_count": 41,
   "metadata": {},
   "outputs": [
    {
     "data": {
      "image/png": "[encoded data removed]",
      "text/plain": [
       "<Figure size 432x288 with 1 Axes>"
      ]
     },
     "metadata": {
      "needs_background": "light"
     },
     "output_type": "display_data"
    }
   ],
   "source": [
    "tree.plot_tree(regressor)\n",
    "plt.show()"
   ]
  },
  {
   "cell_type": "code",
   "execution_count": 42,
   "metadata": {},
   "outputs": [
    {
     "data": {
      "image/svg+xml": [
       "<?xml version=\"1.0\" encoding=\"UTF-8\" standalone=\"no\"?>\n",
       "<!DOCTYPE svg PUBLIC \"-//W3C//DTD SVG 1.1//EN\"\n",
       " \"http://www.w3.org/Graphics/SVG/1.1/DTD/svg11.dtd\">\n",
       "<!-- Generated by graphviz version 2.42.3 (20191010.1750)\n",
       " -->\n",
       "<!-- Title: Tree Pages: 1 -->\n",
       "<svg width=\"962pt\" height=\"358pt\"\n",
       " viewBox=\"0.00 0.00 961.95 358.00\" xmlns=\"http://www.w3.org/2000/svg\" xmlns:xlink=\"http://www.w3.org/1999/xlink\">\n",
       "<g id=\"graph0\" class=\"graph\" transform=\"scale(1 1) rotate(0) translate(4 354)\">\n",
       "<title>Tree</title>\n",
       "<polygon fill=\"white\" stroke=\"transparent\" points=\"-4,4 -4,-354 957.95,-354 957.95,4 -4,4\"/>\n",
       "<!-- 0 -->\n",
       "<g id=\"node1\" class=\"node\">\n",
       "<title>0</title>\n",
       "<path fill=\"#f7d8c1\" stroke=\"black\" d=\"M530.86,-350C530.86,-350 446.37,-350 446.37,-350 440.37,-350 434.37,-344 434.37,-338 434.37,-338 434.37,-298 434.37,-298 434.37,-292 440.37,-286 446.37,-286 446.37,-286 530.86,-286 530.86,-286 536.86,-286 542.86,-292 542.86,-298 542.86,-298 542.86,-338 542.86,-338 542.86,-344 536.86,-350 530.86,-350\"/>\n",
       "<text text-anchor=\"middle\" x=\"488.61\" y=\"-334.8\" font-family=\"Helvetica,sans-Serif\" font-size=\"14.00\">X[5] &lt;= 6.941</text>\n",
       "<text text-anchor=\"middle\" x=\"488.61\" y=\"-320.8\" font-family=\"Helvetica,sans-Serif\" font-size=\"14.00\">mse = 84.42</text>\n",
       "<text text-anchor=\"middle\" x=\"488.61\" y=\"-306.8\" font-family=\"Helvetica,sans-Serif\" font-size=\"14.00\">samples = 506</text>\n",
       "<text text-anchor=\"middle\" x=\"488.61\" y=\"-292.8\" font-family=\"Helvetica,sans-Serif\" font-size=\"14.00\">value = 22.533</text>\n",
       "</g>\n",
       "<!-- 1 -->\n",
       "<g id=\"node2\" class=\"node\">\n",
       "<title>1</title>\n",
       "<path fill=\"#f9e1d1\" stroke=\"black\" d=\"M404.86,-250C404.86,-250 320.37,-250 320.37,-250 314.37,-250 308.37,-244 308.37,-238 308.37,-238 308.37,-198 308.37,-198 308.37,-192 314.37,-186 320.37,-186 320.37,-186 404.86,-186 404.86,-186 410.86,-186 416.86,-192 416.86,-198 416.86,-198 416.86,-238 416.86,-238 416.86,-244 410.86,-250 404.86,-250\"/>\n",
       "<text text-anchor=\"middle\" x=\"362.61\" y=\"-234.8\" font-family=\"Helvetica,sans-Serif\" font-size=\"14.00\">X[12] &lt;= 14.4</text>\n",
       "<text text-anchor=\"middle\" x=\"362.61\" y=\"-220.8\" font-family=\"Helvetica,sans-Serif\" font-size=\"14.00\">mse = 40.273</text>\n",
       "<text text-anchor=\"middle\" x=\"362.61\" y=\"-206.8\" font-family=\"Helvetica,sans-Serif\" font-size=\"14.00\">samples = 430</text>\n",
       "<text text-anchor=\"middle\" x=\"362.61\" y=\"-192.8\" font-family=\"Helvetica,sans-Serif\" font-size=\"14.00\">value = 19.934</text>\n",
       "</g>\n",
       "<!-- 0&#45;&gt;1 -->\n",
       "<g id=\"edge1\" class=\"edge\">\n",
       "<title>0&#45;&gt;1</title>\n",
       "<path fill=\"none\" stroke=\"black\" d=\"M448.74,-285.99C436.68,-276.61 423.3,-266.2 410.75,-256.44\"/>\n",
       "<polygon fill=\"black\" stroke=\"black\" points=\"412.69,-253.52 402.65,-250.14 408.4,-259.04 412.69,-253.52\"/>\n",
       "<text text-anchor=\"middle\" x=\"405.75\" y=\"-270.75\" font-family=\"Helvetica,sans-Serif\" font-size=\"14.00\">True</text>\n",
       "</g>\n",
       "<!-- 8 -->\n",
       "<g id=\"node9\" class=\"node\">\n",
       "<title>8</title>\n",
       "<path fill=\"#eca16c\" stroke=\"black\" d=\"M649.86,-250C649.86,-250 565.37,-250 565.37,-250 559.37,-250 553.37,-244 553.37,-238 553.37,-238 553.37,-198 553.37,-198 553.37,-192 559.37,-186 565.37,-186 565.37,-186 649.86,-186 649.86,-186 655.86,-186 661.86,-192 661.86,-198 661.86,-198 661.86,-238 661.86,-238 661.86,-244 655.86,-250 649.86,-250\"/>\n",
       "<text text-anchor=\"middle\" x=\"607.61\" y=\"-234.8\" font-family=\"Helvetica,sans-Serif\" font-size=\"14.00\">X[5] &lt;= 7.437</text>\n",
       "<text text-anchor=\"middle\" x=\"607.61\" y=\"-220.8\" font-family=\"Helvetica,sans-Serif\" font-size=\"14.00\">mse = 79.729</text>\n",
       "<text text-anchor=\"middle\" x=\"607.61\" y=\"-206.8\" font-family=\"Helvetica,sans-Serif\" font-size=\"14.00\">samples = 76</text>\n",
       "<text text-anchor=\"middle\" x=\"607.61\" y=\"-192.8\" font-family=\"Helvetica,sans-Serif\" font-size=\"14.00\">value = 37.238</text>\n",
       "</g>\n",
       "<!-- 0&#45;&gt;8 -->\n",
       "<g id=\"edge8\" class=\"edge\">\n",
       "<title>0&#45;&gt;8</title>\n",
       "<path fill=\"none\" stroke=\"black\" d=\"M526.26,-285.99C537.55,-276.7 550.05,-266.4 561.81,-256.72\"/>\n",
       "<polygon fill=\"black\" stroke=\"black\" points=\"564.3,-259.2 569.8,-250.14 559.85,-253.8 564.3,-259.2\"/>\n",
       "<text text-anchor=\"middle\" x=\"567.39\" y=\"-270.83\" font-family=\"Helvetica,sans-Serif\" font-size=\"14.00\">False</text>\n",
       "</g>\n",
       "<!-- 2 -->\n",
       "<g id=\"node3\" class=\"node\">\n",
       "<title>2</title>\n",
       "<path fill=\"#f6d5bd\" stroke=\"black\" d=\"M215.56,-150C215.56,-150 131.67,-150 131.67,-150 125.67,-150 119.67,-144 119.67,-138 119.67,-138 119.67,-98 119.67,-98 119.67,-92 125.67,-86 131.67,-86 131.67,-86 215.56,-86 215.56,-86 221.56,-86 227.56,-92 227.56,-98 227.56,-98 227.56,-138 227.56,-138 227.56,-144 221.56,-150 215.56,-150\"/>\n",
       "<text text-anchor=\"middle\" x=\"173.61\" y=\"-134.8\" font-family=\"Helvetica,sans-Serif\" font-size=\"14.00\">X[7] &lt;= 1.385</text>\n",
       "<text text-anchor=\"middle\" x=\"173.61\" y=\"-120.8\" font-family=\"Helvetica,sans-Serif\" font-size=\"14.00\">mse = 26.009</text>\n",
       "<text text-anchor=\"middle\" x=\"173.61\" y=\"-106.8\" font-family=\"Helvetica,sans-Serif\" font-size=\"14.00\">samples = 255</text>\n",
       "<text text-anchor=\"middle\" x=\"173.61\" y=\"-92.8\" font-family=\"Helvetica,sans-Serif\" font-size=\"14.00\">value = 23.35</text>\n",
       "</g>\n",
       "<!-- 1&#45;&gt;2 -->\n",
       "<g id=\"edge2\" class=\"edge\">\n",
       "<title>1&#45;&gt;2</title>\n",
       "<path fill=\"none\" stroke=\"black\" d=\"M308.45,-188.92C286.01,-177.28 259.84,-163.71 236.56,-151.64\"/>\n",
       "<polygon fill=\"black\" stroke=\"black\" points=\"237.94,-148.41 227.45,-146.92 234.72,-154.63 237.94,-148.41\"/>\n",
       "</g>\n",
       "<!-- 5 -->\n",
       "<g id=\"node6\" class=\"node\">\n",
       "<title>5</title>\n",
       "<path fill=\"#fdf4ee\" stroke=\"black\" d=\"M404.86,-150C404.86,-150 320.37,-150 320.37,-150 314.37,-150 308.37,-144 308.37,-138 308.37,-138 308.37,-98 308.37,-98 308.37,-92 314.37,-86 320.37,-86 320.37,-86 404.86,-86 404.86,-86 410.86,-86 416.86,-92 416.86,-98 416.86,-98 416.86,-138 416.86,-138 416.86,-144 410.86,-150 404.86,-150\"/>\n",
       "<text text-anchor=\"middle\" x=\"362.61\" y=\"-134.8\" font-family=\"Helvetica,sans-Serif\" font-size=\"14.00\">X[0] &lt;= 6.992</text>\n",
       "<text text-anchor=\"middle\" x=\"362.61\" y=\"-120.8\" font-family=\"Helvetica,sans-Serif\" font-size=\"14.00\">mse = 19.276</text>\n",
       "<text text-anchor=\"middle\" x=\"362.61\" y=\"-106.8\" font-family=\"Helvetica,sans-Serif\" font-size=\"14.00\">samples = 175</text>\n",
       "<text text-anchor=\"middle\" x=\"362.61\" y=\"-92.8\" font-family=\"Helvetica,sans-Serif\" font-size=\"14.00\">value = 14.956</text>\n",
       "</g>\n",
       "<!-- 1&#45;&gt;5 -->\n",
       "<g id=\"edge5\" class=\"edge\">\n",
       "<title>1&#45;&gt;5</title>\n",
       "<path fill=\"none\" stroke=\"black\" d=\"M362.61,-185.99C362.61,-177.86 362.61,-168.96 362.61,-160.38\"/>\n",
       "<polygon fill=\"black\" stroke=\"black\" points=\"366.11,-160.14 362.61,-150.14 359.11,-160.14 366.11,-160.14\"/>\n",
       "</g>\n",
       "<!-- 3 -->\n",
       "<g id=\"node4\" class=\"node\">\n",
       "<title>3</title>\n",
       "<path fill=\"#e5823b\" stroke=\"black\" d=\"M89.34,-50C89.34,-50 11.89,-50 11.89,-50 5.89,-50 -0.11,-44 -0.11,-38 -0.11,-38 -0.11,-12 -0.11,-12 -0.11,-6 5.89,0 11.89,0 11.89,0 89.34,0 89.34,0 95.34,0 101.34,-6 101.34,-12 101.34,-12 101.34,-38 101.34,-38 101.34,-44 95.34,-50 89.34,-50\"/>\n",
       "<text text-anchor=\"middle\" x=\"50.61\" y=\"-34.8\" font-family=\"Helvetica,sans-Serif\" font-size=\"14.00\">mse = 78.146</text>\n",
       "<text text-anchor=\"middle\" x=\"50.61\" y=\"-20.8\" font-family=\"Helvetica,sans-Serif\" font-size=\"14.00\">samples = 5</text>\n",
       "<text text-anchor=\"middle\" x=\"50.61\" y=\"-6.8\" font-family=\"Helvetica,sans-Serif\" font-size=\"14.00\">value = 45.58</text>\n",
       "</g>\n",
       "<!-- 2&#45;&gt;3 -->\n",
       "<g id=\"edge3\" class=\"edge\">\n",
       "<title>2&#45;&gt;3</title>\n",
       "<path fill=\"none\" stroke=\"black\" d=\"M131.63,-85.94C118.61,-76.31 104.29,-65.72 91.36,-56.15\"/>\n",
       "<polygon fill=\"black\" stroke=\"black\" points=\"93.21,-53.16 83.09,-50.03 89.05,-58.79 93.21,-53.16\"/>\n",
       "</g>\n",
       "<!-- 4 -->\n",
       "<g id=\"node5\" class=\"node\">\n",
       "<title>4</title>\n",
       "<path fill=\"#f7d6bf\" stroke=\"black\" d=\"M215.86,-50C215.86,-50 131.37,-50 131.37,-50 125.37,-50 119.37,-44 119.37,-38 119.37,-38 119.37,-12 119.37,-12 119.37,-6 125.37,0 131.37,0 131.37,0 215.86,0 215.86,0 221.86,0 227.86,-6 227.86,-12 227.86,-12 227.86,-38 227.86,-38 227.86,-44 221.86,-50 215.86,-50\"/>\n",
       "<text text-anchor=\"middle\" x=\"173.61\" y=\"-34.8\" font-family=\"Helvetica,sans-Serif\" font-size=\"14.00\">mse = 14.885</text>\n",
       "<text text-anchor=\"middle\" x=\"173.61\" y=\"-20.8\" font-family=\"Helvetica,sans-Serif\" font-size=\"14.00\">samples = 250</text>\n",
       "<text text-anchor=\"middle\" x=\"173.61\" y=\"-6.8\" font-family=\"Helvetica,sans-Serif\" font-size=\"14.00\">value = 22.905</text>\n",
       "</g>\n",
       "<!-- 2&#45;&gt;4 -->\n",
       "<g id=\"edge4\" class=\"edge\">\n",
       "<title>2&#45;&gt;4</title>\n",
       "<path fill=\"none\" stroke=\"black\" d=\"M173.61,-85.94C173.61,-77.68 173.61,-68.72 173.61,-60.31\"/>\n",
       "<polygon fill=\"black\" stroke=\"black\" points=\"177.11,-60.03 173.61,-50.03 170.11,-60.03 177.11,-60.03\"/>\n",
       "</g>\n",
       "<!-- 6 -->\n",
       "<g id=\"node7\" class=\"node\">\n",
       "<title>6</title>\n",
       "<path fill=\"#fbece1\" stroke=\"black\" d=\"M341.86,-50C341.86,-50 257.37,-50 257.37,-50 251.37,-50 245.37,-44 245.37,-38 245.37,-38 245.37,-12 245.37,-12 245.37,-6 251.37,0 257.37,0 257.37,0 341.86,0 341.86,0 347.86,0 353.86,-6 353.86,-12 353.86,-12 353.86,-38 353.86,-38 353.86,-44 347.86,-50 341.86,-50\"/>\n",
       "<text text-anchor=\"middle\" x=\"299.61\" y=\"-34.8\" font-family=\"Helvetica,sans-Serif\" font-size=\"14.00\">mse = 11.391</text>\n",
       "<text text-anchor=\"middle\" x=\"299.61\" y=\"-20.8\" font-family=\"Helvetica,sans-Serif\" font-size=\"14.00\">samples = 101</text>\n",
       "<text text-anchor=\"middle\" x=\"299.61\" y=\"-6.8\" font-family=\"Helvetica,sans-Serif\" font-size=\"14.00\">value = 17.138</text>\n",
       "</g>\n",
       "<!-- 5&#45;&gt;6 -->\n",
       "<g id=\"edge6\" class=\"edge\">\n",
       "<title>5&#45;&gt;6</title>\n",
       "<path fill=\"none\" stroke=\"black\" d=\"M341.11,-85.94C334.95,-77.04 328.22,-67.32 322.01,-58.35\"/>\n",
       "<polygon fill=\"black\" stroke=\"black\" points=\"324.82,-56.26 316.25,-50.03 319.06,-60.24 324.82,-56.26\"/>\n",
       "</g>\n",
       "<!-- 7 -->\n",
       "<g id=\"node8\" class=\"node\">\n",
       "<title>7</title>\n",
       "<path fill=\"#ffffff\" stroke=\"black\" d=\"M467.32,-50C467.32,-50 383.9,-50 383.9,-50 377.9,-50 371.9,-44 371.9,-38 371.9,-38 371.9,-12 371.9,-12 371.9,-6 377.9,0 383.9,0 383.9,0 467.32,0 467.32,0 473.32,0 479.32,-6 479.32,-12 479.32,-12 479.32,-38 479.32,-38 479.32,-44 473.32,-50 467.32,-50\"/>\n",
       "<text text-anchor=\"middle\" x=\"425.61\" y=\"-34.8\" font-family=\"Helvetica,sans-Serif\" font-size=\"14.00\">mse = 14.674</text>\n",
       "<text text-anchor=\"middle\" x=\"425.61\" y=\"-20.8\" font-family=\"Helvetica,sans-Serif\" font-size=\"14.00\">samples = 74</text>\n",
       "<text text-anchor=\"middle\" x=\"425.61\" y=\"-6.8\" font-family=\"Helvetica,sans-Serif\" font-size=\"14.00\">value = 11.978</text>\n",
       "</g>\n",
       "<!-- 5&#45;&gt;7 -->\n",
       "<g id=\"edge7\" class=\"edge\">\n",
       "<title>5&#45;&gt;7</title>\n",
       "<path fill=\"none\" stroke=\"black\" d=\"M384.12,-85.94C390.28,-77.04 397,-67.32 403.21,-58.35\"/>\n",
       "<polygon fill=\"black\" stroke=\"black\" points=\"406.16,-60.24 408.98,-50.03 400.41,-56.26 406.16,-60.24\"/>\n",
       "</g>\n",
       "<!-- 9 -->\n",
       "<g id=\"node10\" class=\"node\">\n",
       "<title>9</title>\n",
       "<path fill=\"#f0b489\" stroke=\"black\" d=\"M649.32,-150C649.32,-150 565.9,-150 565.9,-150 559.9,-150 553.9,-144 553.9,-138 553.9,-138 553.9,-98 553.9,-98 553.9,-92 559.9,-86 565.9,-86 565.9,-86 649.32,-86 649.32,-86 655.32,-86 661.32,-92 661.32,-98 661.32,-98 661.32,-138 661.32,-138 661.32,-144 655.32,-150 649.32,-150\"/>\n",
       "<text text-anchor=\"middle\" x=\"607.61\" y=\"-134.8\" font-family=\"Helvetica,sans-Serif\" font-size=\"14.00\">X[0] &lt;= 7.393</text>\n",
       "<text text-anchor=\"middle\" x=\"607.61\" y=\"-120.8\" font-family=\"Helvetica,sans-Serif\" font-size=\"14.00\">mse = 41.296</text>\n",
       "<text text-anchor=\"middle\" x=\"607.61\" y=\"-106.8\" font-family=\"Helvetica,sans-Serif\" font-size=\"14.00\">samples = 46</text>\n",
       "<text text-anchor=\"middle\" x=\"607.61\" y=\"-92.8\" font-family=\"Helvetica,sans-Serif\" font-size=\"14.00\">value = 32.113</text>\n",
       "</g>\n",
       "<!-- 8&#45;&gt;9 -->\n",
       "<g id=\"edge9\" class=\"edge\">\n",
       "<title>8&#45;&gt;9</title>\n",
       "<path fill=\"none\" stroke=\"black\" d=\"M607.61,-185.99C607.61,-177.86 607.61,-168.96 607.61,-160.38\"/>\n",
       "<polygon fill=\"black\" stroke=\"black\" points=\"611.11,-160.14 607.61,-150.14 604.11,-160.14 611.11,-160.14\"/>\n",
       "</g>\n",
       "<!-- 12 -->\n",
       "<g id=\"node13\" class=\"node\">\n",
       "<title>12</title>\n",
       "<path fill=\"#e6843e\" stroke=\"black\" d=\"M831.86,-150C831.86,-150 747.37,-150 747.37,-150 741.37,-150 735.37,-144 735.37,-138 735.37,-138 735.37,-98 735.37,-98 735.37,-92 741.37,-86 747.37,-86 747.37,-86 831.86,-86 831.86,-86 837.86,-86 843.86,-92 843.86,-98 843.86,-98 843.86,-138 843.86,-138 843.86,-144 837.86,-150 831.86,-150\"/>\n",
       "<text text-anchor=\"middle\" x=\"789.61\" y=\"-134.8\" font-family=\"Helvetica,sans-Serif\" font-size=\"14.00\">X[5] &lt;= 8.753</text>\n",
       "<text text-anchor=\"middle\" x=\"789.61\" y=\"-120.8\" font-family=\"Helvetica,sans-Serif\" font-size=\"14.00\">mse = 36.628</text>\n",
       "<text text-anchor=\"middle\" x=\"789.61\" y=\"-106.8\" font-family=\"Helvetica,sans-Serif\" font-size=\"14.00\">samples = 30</text>\n",
       "<text text-anchor=\"middle\" x=\"789.61\" y=\"-92.8\" font-family=\"Helvetica,sans-Serif\" font-size=\"14.00\">value = 45.097</text>\n",
       "</g>\n",
       "<!-- 8&#45;&gt;12 -->\n",
       "<g id=\"edge12\" class=\"edge\">\n",
       "<title>8&#45;&gt;12</title>\n",
       "<path fill=\"none\" stroke=\"black\" d=\"M662.22,-187.6C682.47,-176.69 705.59,-164.24 726.53,-152.97\"/>\n",
       "<polygon fill=\"black\" stroke=\"black\" points=\"728.21,-156.04 735.36,-148.21 724.89,-149.87 728.21,-156.04\"/>\n",
       "</g>\n",
       "<!-- 10 -->\n",
       "<g id=\"node11\" class=\"node\">\n",
       "<title>10</title>\n",
       "<path fill=\"#efb082\" stroke=\"black\" d=\"M593.86,-50C593.86,-50 509.37,-50 509.37,-50 503.37,-50 497.37,-44 497.37,-38 497.37,-38 497.37,-12 497.37,-12 497.37,-6 503.37,0 509.37,0 509.37,0 593.86,0 593.86,0 599.86,0 605.86,-6 605.86,-12 605.86,-12 605.86,-38 605.86,-38 605.86,-44 599.86,-50 593.86,-50\"/>\n",
       "<text text-anchor=\"middle\" x=\"551.61\" y=\"-34.8\" font-family=\"Helvetica,sans-Serif\" font-size=\"14.00\">mse = 20.111</text>\n",
       "<text text-anchor=\"middle\" x=\"551.61\" y=\"-20.8\" font-family=\"Helvetica,sans-Serif\" font-size=\"14.00\">samples = 43</text>\n",
       "<text text-anchor=\"middle\" x=\"551.61\" y=\"-6.8\" font-family=\"Helvetica,sans-Serif\" font-size=\"14.00\">value = 33.349</text>\n",
       "</g>\n",
       "<!-- 9&#45;&gt;10 -->\n",
       "<g id=\"edge10\" class=\"edge\">\n",
       "<title>9&#45;&gt;10</title>\n",
       "<path fill=\"none\" stroke=\"black\" d=\"M588.5,-85.94C583.08,-77.13 577.16,-67.52 571.69,-58.63\"/>\n",
       "<polygon fill=\"black\" stroke=\"black\" points=\"574.62,-56.71 566.4,-50.03 568.66,-60.38 574.62,-56.71\"/>\n",
       "</g>\n",
       "<!-- 11 -->\n",
       "<g id=\"node12\" class=\"node\">\n",
       "<title>11</title>\n",
       "<path fill=\"#fdf6f1\" stroke=\"black\" d=\"M705.55,-50C705.55,-50 635.67,-50 635.67,-50 629.67,-50 623.67,-44 623.67,-38 623.67,-38 623.67,-12 623.67,-12 623.67,-6 629.67,0 635.67,0 635.67,0 705.55,0 705.55,0 711.55,0 717.55,-6 717.55,-12 717.55,-12 717.55,-38 717.55,-38 717.55,-44 711.55,-50 705.55,-50\"/>\n",
       "<text text-anchor=\"middle\" x=\"670.61\" y=\"-34.8\" font-family=\"Helvetica,sans-Serif\" font-size=\"14.00\">mse = 9.307</text>\n",
       "<text text-anchor=\"middle\" x=\"670.61\" y=\"-20.8\" font-family=\"Helvetica,sans-Serif\" font-size=\"14.00\">samples = 3</text>\n",
       "<text text-anchor=\"middle\" x=\"670.61\" y=\"-6.8\" font-family=\"Helvetica,sans-Serif\" font-size=\"14.00\">value = 14.4</text>\n",
       "</g>\n",
       "<!-- 9&#45;&gt;11 -->\n",
       "<g id=\"edge11\" class=\"edge\">\n",
       "<title>9&#45;&gt;11</title>\n",
       "<path fill=\"none\" stroke=\"black\" d=\"M629.12,-85.94C635.28,-77.04 642,-67.32 648.21,-58.35\"/>\n",
       "<polygon fill=\"black\" stroke=\"black\" points=\"651.16,-60.24 653.98,-50.03 645.41,-56.26 651.16,-60.24\"/>\n",
       "</g>\n",
       "<!-- 13 -->\n",
       "<g id=\"node14\" class=\"node\">\n",
       "<title>13</title>\n",
       "<path fill=\"#e58139\" stroke=\"black\" d=\"M831.86,-50C831.86,-50 747.37,-50 747.37,-50 741.37,-50 735.37,-44 735.37,-38 735.37,-38 735.37,-12 735.37,-12 735.37,-6 741.37,0 747.37,0 747.37,0 831.86,0 831.86,0 837.86,0 843.86,-6 843.86,-12 843.86,-12 843.86,-38 843.86,-38 843.86,-44 837.86,-50 831.86,-50\"/>\n",
       "<text text-anchor=\"middle\" x=\"789.61\" y=\"-34.8\" font-family=\"Helvetica,sans-Serif\" font-size=\"14.00\">mse = 18.697</text>\n",
       "<text text-anchor=\"middle\" x=\"789.61\" y=\"-20.8\" font-family=\"Helvetica,sans-Serif\" font-size=\"14.00\">samples = 29</text>\n",
       "<text text-anchor=\"middle\" x=\"789.61\" y=\"-6.8\" font-family=\"Helvetica,sans-Serif\" font-size=\"14.00\">value = 45.897</text>\n",
       "</g>\n",
       "<!-- 12&#45;&gt;13 -->\n",
       "<g id=\"edge13\" class=\"edge\">\n",
       "<title>12&#45;&gt;13</title>\n",
       "<path fill=\"none\" stroke=\"black\" d=\"M789.61,-85.94C789.61,-77.68 789.61,-68.72 789.61,-60.31\"/>\n",
       "<polygon fill=\"black\" stroke=\"black\" points=\"793.11,-60.03 789.61,-50.03 786.11,-60.03 793.11,-60.03\"/>\n",
       "</g>\n",
       "<!-- 14 -->\n",
       "<g id=\"node15\" class=\"node\">\n",
       "<title>14</title>\n",
       "<path fill=\"#f7dac5\" stroke=\"black\" d=\"M941.78,-50C941.78,-50 873.44,-50 873.44,-50 867.44,-50 861.44,-44 861.44,-38 861.44,-38 861.44,-12 861.44,-12 861.44,-6 867.44,0 873.44,0 873.44,0 941.78,0 941.78,0 947.78,0 953.78,-6 953.78,-12 953.78,-12 953.78,-38 953.78,-38 953.78,-44 947.78,-50 941.78,-50\"/>\n",
       "<text text-anchor=\"middle\" x=\"907.61\" y=\"-34.8\" font-family=\"Helvetica,sans-Serif\" font-size=\"14.00\">mse = &#45;0.0</text>\n",
       "<text text-anchor=\"middle\" x=\"907.61\" y=\"-20.8\" font-family=\"Helvetica,sans-Serif\" font-size=\"14.00\">samples = 1</text>\n",
       "<text text-anchor=\"middle\" x=\"907.61\" y=\"-6.8\" font-family=\"Helvetica,sans-Serif\" font-size=\"14.00\">value = 21.9</text>\n",
       "</g>\n",
       "<!-- 12&#45;&gt;14 -->\n",
       "<g id=\"edge14\" class=\"edge\">\n",
       "<title>12&#45;&gt;14</title>\n",
       "<path fill=\"none\" stroke=\"black\" d=\"M829.89,-85.94C842.38,-76.31 856.11,-65.72 868.52,-56.15\"/>\n",
       "<polygon fill=\"black\" stroke=\"black\" points=\"870.67,-58.91 876.45,-50.03 866.4,-53.37 870.67,-58.91\"/>\n",
       "</g>\n",
       "</g>\n",
       "</svg>\n"
      ],
      "text/plain": [
       "<graphviz.files.Source at 0x13399c3d0>"
      ]
     },
     "execution_count": 42,
     "metadata": {},
     "output_type": "execute_result"
    }
   ],
   "source": [
    "dot_data = tree.export_graphviz(regressor,\n",
    "                                filled=True,\n",
    "                                rounded=True\n",
    "                                )\n",
    "graph = graphviz.Source(dot_data)\n",
    "graph"
   ]
  },
  {
   "cell_type": "code",
   "execution_count": 6,
   "metadata": {},
   "outputs": [],
   "source": [
    "from sklearn.datasets import load_boston\n",
    "from sklearn.model_selection import cross_val_score\n",
    "from sklearn.tree import DecisionTreeRegressor"
   ]
  },
  {
   "cell_type": "code",
   "execution_count": 9,
   "metadata": {},
   "outputs": [
    {
     "data": {
      "text/plain": [
       "array([-16.41568627, -10.61843137, -18.30176471, -55.36803922,\n",
       "       -16.01470588, -44.70117647, -12.2148    , -91.3888    ,\n",
       "       -57.764     , -36.8134    ])"
      ]
     },
     "execution_count": 9,
     "metadata": {},
     "output_type": "execute_result"
    }
   ],
   "source": [
    "regressor = DecisionTreeRegressor(random_state=0)\n",
    "cross_val_score(regressor, boston.data, boston.target, cv=10,\n",
    "                scoring = \"neg_mean_squared_error\"\n",
    "               )"
   ]
  },
  {
   "cell_type": "code",
   "execution_count": 12,
   "metadata": {},
   "outputs": [],
   "source": [
    "import numpy as np\n",
    "from sklearn.tree import DecisionTreeRegressor\n",
    "import matplotlib.pyplot as plt"
   ]
  },
  {
   "cell_type": "code",
   "execution_count": 23,
   "metadata": {},
   "outputs": [],
   "source": [
    "rng = np.random.RandomState(1) #随机数种子\n",
    "X = np.sort(5 * rng.rand(80,1), axis=0) #生成0~5之间随机的x的取值\n",
    "y = np.sin(X).ravel() #生成正弦曲线\n",
    "y[::5] += 3 * (0.5 - rng.rand(16)) #在正弦曲线上加噪声"
   ]
  },
  {
   "cell_type": "code",
   "execution_count": 24,
   "metadata": {},
   "outputs": [
    {
     "data": {
      "text/plain": [
       "(80,)"
      ]
     },
     "execution_count": 24,
     "metadata": {},
     "output_type": "execute_result"
    }
   ],
   "source": [
    "y.shape"
   ]
  },
  {
   "cell_type": "code",
   "execution_count": 25,
   "metadata": {},
   "outputs": [
    {
     "data": {
      "text/plain": [
       "<matplotlib.collections.PathCollection at 0x214e60b7898>"
      ]
     },
     "execution_count": 25,
     "metadata": {},
     "output_type": "execute_result"
    },
    {
     "data": {
      "image/png": "[encoded data removed]",
      "text/plain": [
       "<Figure size 432x288 with 1 Axes>"
      ]
     },
     "metadata": {
      "needs_background": "light"
     },
     "output_type": "display_data"
    }
   ],
   "source": [
    "plt.figure()\n",
    "plt.scatter(X, y, s=20, edgecolor=\"black\",c=\"darkorange\", label=\"data\")"
   ]
  },
  {
   "cell_type": "code",
   "execution_count": 26,
   "metadata": {},
   "outputs": [
    {
     "data": {
      "text/plain": [
       "DecisionTreeRegressor(criterion='mse', max_depth=5, max_features=None,\n",
       "           max_leaf_nodes=None, min_impurity_decrease=0.0,\n",
       "           min_impurity_split=None, min_samples_leaf=1,\n",
       "           min_samples_split=2, min_weight_fraction_leaf=0.0,\n",
       "           presort=False, random_state=None, splitter='best')"
      ]
     },
     "execution_count": 26,
     "metadata": {},
     "output_type": "execute_result"
    }
   ],
   "source": [
    "regr_1 = DecisionTreeRegressor(max_depth=2)\n",
    "regr_2 = DecisionTreeRegressor(max_depth=5)\n",
    "regr_1.fit(X, y)\n",
    "regr_2.fit(X, y)"
   ]
  },
  {
   "cell_type": "code",
   "execution_count": 27,
   "metadata": {},
   "outputs": [],
   "source": [
    "X_test = np.arange(0.0, 5.0, 0.01)[:, np.newaxis]"
   ]
  },
  {
   "cell_type": "code",
   "execution_count": 28,
   "metadata": {},
   "outputs": [],
   "source": [
    "y_1 = regr_1.predict(X_test)\n",
    "y_2 = regr_2.predict(X_test)"
   ]
  },
  {
   "cell_type": "code",
   "execution_count": 29,
   "metadata": {},
   "outputs": [
    {
     "data": {
      "image/png": "[encoded data removed]",
      "text/plain": [
       "<Figure size 432x288 with 1 Axes>"
      ]
     },
     "metadata": {
      "needs_background": "light"
     },
     "output_type": "display_data"
    }
   ],
   "source": [
    "plt.figure()\n",
    "plt.scatter(X, y, s=20, edgecolor=\"black\",c=\"darkorange\", label=\"data\")\n",
    "plt.plot(X_test, y_1, color=\"cornflowerblue\",label=\"max_depth=2\", linewidth=2)\n",
    "plt.plot(X_test, y_2, color=\"yellowgreen\", label=\"max_depth=5\", linewidth=2)\n",
    "plt.xlabel(\"data\")\n",
    "plt.ylabel(\"target\")\n",
    "plt.title(\"Decision Tree Regression\")\n",
    "plt.legend()\n",
    "plt.show()"
   ]
  }
 ],
 "metadata": {
  "hide_input": false,
  "kernelspec": {
   "display_name": "Python 3",
   "language": "python",
   "name": "python3"
  },
  "language_info": {
   "codemirror_mode": {
    "name": "ipython",
    "version": 3
   },
   "file_extension": ".py",
   "mimetype": "text/x-python",
   "name": "python",
   "nbconvert_exporter": "python",
   "pygments_lexer": "ipython3",
   "version": "3.7.6"
  },
  "toc": {
   "base_numbering": 1,
   "nav_menu": {},
   "number_sections": true,
   "sideBar": true,
   "skip_h1_title": false,
   "title_cell": "Table of Contents",
   "title_sidebar": "Contents",
   "toc_cell": false,
   "toc_position": {},
   "toc_section_display": true,
   "toc_window_display": false
  }
 },
 "nbformat": 4,
 "nbformat_minor": 2
}
