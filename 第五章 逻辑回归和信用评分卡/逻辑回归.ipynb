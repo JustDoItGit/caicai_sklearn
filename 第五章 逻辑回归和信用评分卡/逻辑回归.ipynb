{
 "cells": [
  {
   "cell_type": "code",
   "execution_count": 1,
   "metadata": {},
   "outputs": [],
   "source": [
    "from sklearn.linear_model import LogisticRegression as LR\n",
    "from sklearn.datasets import load_breast_cancer\n",
    "import numpy as np\n",
    "import matplotlib.pyplot as plt\n",
    "from sklearn.model_selection import train_test_split\n",
    "from sklearn.metrics import accuracy_score  # 精确性分数"
   ]
  },
  {
   "cell_type": "code",
   "execution_count": 2,
   "metadata": {},
   "outputs": [
    {
     "data": {
      "text/plain": [
       "(569, 30)"
      ]
     },
     "execution_count": 2,
     "metadata": {},
     "output_type": "execute_result"
    }
   ],
   "source": [
    "data = load_breast_cancer()  # 乳腺癌数据集\n",
    "X = data.data\n",
    "y = data.target\n",
    "\n",
    "X.data.shape  # (569, 30)"
   ]
  },
  {
   "cell_type": "code",
   "execution_count": 3,
   "metadata": {},
   "outputs": [],
   "source": [
    "lrl1 = LR(penalty=\"l1\", solver=\"liblinear\", C=0.5, max_iter=1000)\n",
    "\n",
    "lrl2 = LR(penalty=\"l2\", solver=\"liblinear\", C=0.5, max_iter=1000)"
   ]
  },
  {
   "cell_type": "code",
   "execution_count": 4,
   "metadata": {},
   "outputs": [
    {
     "data": {
      "text/plain": [
       "array([[ 4.00294958,  0.03179375, -0.13759162, -0.01621436,  0.        ,\n",
       "         0.        ,  0.        ,  0.        ,  0.        ,  0.        ,\n",
       "         0.        ,  0.50414822,  0.        , -0.07123135,  0.        ,\n",
       "         0.        ,  0.        ,  0.        ,  0.        ,  0.        ,\n",
       "         0.        , -0.24568961, -0.12849095, -0.01441595,  0.        ,\n",
       "         0.        , -2.03928226,  0.        ,  0.        ,  0.        ]])"
      ]
     },
     "execution_count": 4,
     "metadata": {},
     "output_type": "execute_result"
    }
   ],
   "source": [
    "# 逻辑回归的重要属性coef_，查看每个特征所对应的参数\n",
    "lrl1 = lrl1.fit(X, y)\n",
    "lrl1.coef_"
   ]
  },
  {
   "cell_type": "code",
   "execution_count": 5,
   "metadata": {},
   "outputs": [
    {
     "data": {
      "text/plain": [
       "array([10])"
      ]
     },
     "execution_count": 5,
     "metadata": {},
     "output_type": "execute_result"
    }
   ],
   "source": [
    "(lrl1.coef_ != 0).sum(axis=1)  # array([10])    30个特征中有10个特征的系数不为0"
   ]
  },
  {
   "cell_type": "code",
   "execution_count": 6,
   "metadata": {},
   "outputs": [
    {
     "data": {
      "text/plain": [
       "array([[ 1.61331113e+00,  1.00124606e-01,  4.60084835e-02,\n",
       "        -4.19839426e-03, -9.26228937e-02, -3.00484301e-01,\n",
       "        -4.53250190e-01, -2.19778015e-01, -1.33074668e-01,\n",
       "        -1.92576286e-02,  1.89635811e-02,  8.74998561e-01,\n",
       "         1.32421950e-01, -9.53784315e-02, -9.62972408e-03,\n",
       "        -2.53596204e-02, -5.83890299e-02, -2.67755115e-02,\n",
       "        -2.73846616e-02, -8.05302922e-05,  1.28529688e+00,\n",
       "        -3.00088054e-01, -1.74310770e-01, -2.23545072e-02,\n",
       "        -1.70267493e-01, -8.77272211e-01, -1.15830085e+00,\n",
       "        -4.22526360e-01, -4.12406225e-01, -8.66393364e-02]])"
      ]
     },
     "execution_count": 6,
     "metadata": {},
     "output_type": "execute_result"
    }
   ],
   "source": [
    "lrl2 = lrl2.fit(X, y)\n",
    "lrl2.coef_"
   ]
  },
  {
   "cell_type": "code",
   "execution_count": 7,
   "metadata": {},
   "outputs": [
    {
     "data": {
      "image/png": "[encoded data removed]",
      "text/plain": [
       "<Figure size 432x432 with 1 Axes>"
      ]
     },
     "metadata": {
      "needs_background": "light"
     },
     "output_type": "display_data"
    }
   ],
   "source": [
    "l1 = []\n",
    "l2 = []\n",
    "l1test = []\n",
    "l2test = []\n",
    "\n",
    "Xtrain, Xtest, Ytrain, Ytest = train_test_split(\n",
    "    X, y, test_size=0.3, random_state=420)\n",
    "for i in np.linspace(0.05, 1.5, 19):\n",
    "    lrl1 = LR(penalty=\"l1\", solver=\"liblinear\", C=i, max_iter=1000)\n",
    "    lrl2 = LR(penalty=\"l2\", solver=\"liblinear\", C=i, max_iter=1000)\n",
    "\n",
    "    lrl1 = lrl1.fit(Xtrain, Ytrain)\n",
    "    l1.append(accuracy_score(lrl1.predict(Xtrain), Ytrain))\n",
    "    l1test.append(accuracy_score(lrl1.predict(Xtest), Ytest))\n",
    "    lrl2 = lrl2.fit(Xtrain, Ytrain)\n",
    "    l2.append(accuracy_score(lrl2.predict(Xtrain), Ytrain))\n",
    "    l2test.append(accuracy_score(lrl2.predict(Xtest), Ytest))\n",
    "graph = [l1, l2, l1test, l2test]\n",
    "color = [\"green\", \"black\", \"lightgreen\", \"gray\"]\n",
    "label = [\"L1\", \"L2\", \"L1test\", \"L2test\"]\n",
    "plt.figure(figsize=(6, 6))\n",
    "for i in range(len(graph)):\n",
    "    plt.plot(np.linspace(0.05, 1.5, 19), graph[i], color[i], label=label[i])\n",
    "plt.legend(loc=4)  # 图例的位置在哪里?4表示，右下角\n",
    "plt.show()"
   ]
  },
  {
   "cell_type": "code",
   "execution_count": null,
   "metadata": {},
   "outputs": [],
   "source": []
  }
 ],
 "metadata": {
  "kernelspec": {
   "display_name": "Python 3",
   "language": "python",
   "name": "python3"
  },
  "language_info": {
   "codemirror_mode": {
    "name": "ipython",
    "version": 3
   },
   "file_extension": ".py",
   "mimetype": "text/x-python",
   "name": "python",
   "nbconvert_exporter": "python",
   "pygments_lexer": "ipython3",
   "version": "3.7.8"
  },
  "toc": {
   "base_numbering": 1,
   "nav_menu": {},
   "number_sections": true,
   "sideBar": true,
   "skip_h1_title": false,
   "title_cell": "Table of Contents",
   "title_sidebar": "Contents",
   "toc_cell": false,
   "toc_position": {},
   "toc_section_display": true,
   "toc_window_display": false
  }
 },
 "nbformat": 4,
 "nbformat_minor": 4
}
